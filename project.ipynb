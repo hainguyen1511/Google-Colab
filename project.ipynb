{
 "cells": [
  {
   "cell_type": "code",
   "execution_count": 1,
   "id": "fe77eab7-740b-41bc-b991-3acdcda7ed5f",
   "metadata": {},
   "outputs": [
    {
     "name": "stderr",
     "output_type": "stream",
     "text": [
      "Installing package into 'C:/Users/haitr/AppData/Local/R/win-library/4.4'\n",
      "(as 'lib' is unspecified)\n",
      "\n"
     ]
    },
    {
     "name": "stdout",
     "output_type": "stream",
     "text": [
      "package 'dplyr' successfully unpacked and MD5 sums checked\n",
      "\n",
      "The downloaded binary packages are in\n",
      "\tC:\\Users\\haitr\\AppData\\Local\\Temp\\RtmpmCd5su\\downloaded_packages\n"
     ]
    },
    {
     "name": "stderr",
     "output_type": "stream",
     "text": [
      "Warning message:\n",
      "\"package 'dplyr' was built under R version 4.4.2\"\n",
      "\n",
      "Attaching package: 'dplyr'\n",
      "\n",
      "\n",
      "The following objects are masked from 'package:stats':\n",
      "\n",
      "    filter, lag\n",
      "\n",
      "\n",
      "The following objects are masked from 'package:base':\n",
      "\n",
      "    intersect, setdiff, setequal, union\n",
      "\n",
      "\n",
      "Installing package into 'C:/Users/haitr/AppData/Local/R/win-library/4.4'\n",
      "(as 'lib' is unspecified)\n",
      "\n"
     ]
    },
    {
     "name": "stdout",
     "output_type": "stream",
     "text": [
      "package 'tree' successfully unpacked and MD5 sums checked\n",
      "\n",
      "The downloaded binary packages are in\n",
      "\tC:\\Users\\haitr\\AppData\\Local\\Temp\\RtmpmCd5su\\downloaded_packages\n"
     ]
    },
    {
     "name": "stderr",
     "output_type": "stream",
     "text": [
      "Warning message:\n",
      "\"package 'tree' was built under R version 4.4.2\"\n"
     ]
    }
   ],
   "source": [
    "install.packages(\"dplyr\")\n",
    "library(dplyr)\n",
    "install.packages(\"tree\")\n",
    "library(tree)\n",
    "snail <- read.csv(\"Snail2.csv\")"
   ]
  },
  {
   "cell_type": "code",
   "execution_count": 2,
   "id": "1b256358-050e-484d-8525-5f94409e49cd",
   "metadata": {},
   "outputs": [
    {
     "name": "stdout",
     "output_type": "stream",
     "text": [
      "   ShellType Width Length AperHt AperWdt    LU LipWdt\n",
      "1      Type1  4.04  14.43   3.70    2.58 17.91   0.35\n",
      "2      Type1  3.77  13.07   3.54    2.46 16.63   0.39\n",
      "3      Type1  3.86  13.62   3.33    2.06 16.90   0.32\n",
      "4      Type1  4.13  13.95   3.49    2.42 16.80   0.43\n",
      "5      Type1  4.25  15.14   3.99    2.66 19.04   0.48\n",
      "6      Type1  4.16  15.30   3.38    2.08 18.48   0.50\n",
      "7      Type1  3.87  13.08   3.41    2.32 15.94   0.26\n",
      "8      Type1  3.91  13.58   3.95    2.82 16.62   0.49\n",
      "9      Type1  3.99  12.83   3.36    2.78 16.18   0.26\n",
      "10     Type1  4.02  14.08   3.81    2.70 17.43   0.43\n",
      "11     Type1  3.87  13.97   3.80    2.62 17.35   0.36\n",
      "12     Type1  3.88  12.59   3.47    2.40 15.61   0.38\n",
      "13     Type1  3.87  13.47   3.92    2.75 16.95   0.38\n",
      "14     Type1  3.50  11.96   3.09    2.21 14.48   0.36\n",
      "15     Type1  4.28  16.24   4.43    3.09 20.26   0.53\n",
      "16     Type1  4.11  17.07   4.20    3.18 20.65   0.45\n",
      "17     Type1  4.00  18.30   4.08    2.98 22.36   0.48\n",
      "18     Type1  4.16  17.07   4.05    2.79 20.86   0.38\n",
      "19     Type1  3.51  15.40   3.65    2.80 18.54   0.46\n",
      "20     Type1  3.78  15.13   3.80    2.73 18.66   0.47\n",
      "21     Type1  4.28  16.17   4.02    2.82 19.88   0.39\n",
      "22     Type1  3.81  16.23   4.20    2.91 20.74   0.33\n",
      "23     Type1  3.66  15.96   3.40    2.49 18.88   0.45\n",
      "24     Type1  4.04  18.39   4.17    3.03 21.75   0.42\n",
      "25     Type1  4.13  16.83   3.67    2.25 19.76   0.29\n",
      "26     Type1  3.70  15.23   3.59    2.53 17.77   0.31\n",
      "27     Type1  3.83  15.40   3.42    2.46 18.19   0.20\n",
      "28     Type1  3.75  15.37   3.89    2.55 18.56   0.36\n",
      "29     Type1  3.58  13.72   3.96    2.68 17.35   0.43\n",
      "30     Type1  4.10  16.23   4.27    2.80 20.20   0.54\n",
      "31     Type1  4.07  14.02   3.98    3.03 18.94   0.47\n",
      "32     Type1  3.71  16.38   3.35    2.30 19.02   0.31\n",
      "33     Type1  4.00  15.18   3.85    2.84 18.44   0.46\n",
      "34     Type1  3.80  14.45   3.78    2.63 18.19   0.32\n",
      "35     Type1  3.67  12.16   3.10    2.33 14.34   0.42\n",
      "36     Type1  3.40  12.21   2.70    1.83 14.10   0.40\n",
      "37     Type1  3.53  12.86   2.71    2.30 15.04   0.35\n",
      "38     Type1  3.53  12.43   3.06    2.07 14.54   0.21\n",
      "39     Type1  3.69  12.09   2.82    2.00 14.23   0.31\n",
      "40     Type1  3.38  12.48   2.73    2.00 14.24   0.32\n",
      "41     Type1  3.19   9.63   2.46    1.93 11.59   0.33\n"
     ]
    }
   ],
   "source": [
    "type1 <- snail %>% filter(ShellType == \"Type1\")\n",
    "print(type1)"
   ]
  },
  {
   "cell_type": "code",
   "execution_count": 4,
   "id": "387f9113-5c97-43dc-8f17-636df23e56ee",
   "metadata": {},
   "outputs": [
    {
     "name": "stderr",
     "output_type": "stream",
     "text": [
      "Warning message:\n",
      "\"package 'ISLR2' was built under R version 4.4.2\"\n"
     ]
    }
   ],
   "source": [
    "library(ISLR2)\n",
    "attach(Carseats)\n",
    "High <- factor(ifelse(Sales <= 8, \"No\", \"Yes\"))"
   ]
  },
  {
   "cell_type": "code",
   "execution_count": 5,
   "id": "382e7290-3161-45b4-b598-833c25cd0b87",
   "metadata": {},
   "outputs": [
    {
     "name": "stdout",
     "output_type": "stream",
     "text": [
      "'data.frame':\t400 obs. of  11 variables:\n",
      " $ Sales      : num  9.5 11.22 10.06 7.4 4.15 ...\n",
      " $ CompPrice  : num  138 111 113 117 141 124 115 136 132 132 ...\n",
      " $ Income     : num  73 48 35 100 64 113 105 81 110 113 ...\n",
      " $ Advertising: num  11 16 10 4 3 13 0 15 0 0 ...\n",
      " $ Population : num  276 260 269 466 340 501 45 425 108 131 ...\n",
      " $ Price      : num  120 83 80 97 128 72 108 120 124 124 ...\n",
      " $ ShelveLoc  : Factor w/ 3 levels \"Bad\",\"Good\",\"Medium\": 1 2 3 3 1 1 3 2 3 3 ...\n",
      " $ Age        : num  42 65 59 55 38 78 71 67 76 76 ...\n",
      " $ Education  : num  17 10 12 14 13 16 15 10 10 17 ...\n",
      " $ Urban      : Factor w/ 2 levels \"No\",\"Yes\": 2 2 2 2 2 1 2 2 1 1 ...\n",
      " $ US         : Factor w/ 2 levels \"No\",\"Yes\": 2 2 2 2 1 2 1 2 1 2 ...\n"
     ]
    }
   ],
   "source": [
    "str(Carseats)"
   ]
  },
  {
   "cell_type": "code",
   "execution_count": null,
   "id": "703b6869-c55e-4f04-a778-6a77c57325d3",
   "metadata": {},
   "outputs": [],
   "source": []
  }
 ],
 "metadata": {
  "kernelspec": {
   "display_name": "R",
   "language": "R",
   "name": "ir"
  },
  "language_info": {
   "codemirror_mode": "r",
   "file_extension": ".r",
   "mimetype": "text/x-r-source",
   "name": "R",
   "pygments_lexer": "r",
   "version": "4.4.1"
  }
 },
 "nbformat": 4,
 "nbformat_minor": 5
}
