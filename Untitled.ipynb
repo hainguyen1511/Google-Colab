{
 "cells": [
  {
   "cell_type": "code",
   "execution_count": 2,
   "id": "b786f74b-20eb-450a-9d1b-9eba01fb37ce",
   "metadata": {},
   "outputs": [
    {
     "name": "stderr",
     "output_type": "stream",
     "text": [
      "Installing package into 'C:/Users/haitr/AppData/Local/R/win-library/4.4'\n",
      "(as 'lib' is unspecified)\n",
      "\n"
     ]
    },
    {
     "name": "stdout",
     "output_type": "stream",
     "text": [
      "package 'ISLR2' successfully unpacked and MD5 sums checked\n",
      "\n",
      "The downloaded binary packages are in\n",
      "\tC:\\Users\\haitr\\AppData\\Local\\Temp\\RtmpSQAFym\\downloaded_packages\n"
     ]
    },
    {
     "name": "stderr",
     "output_type": "stream",
     "text": [
      "Warning message:\n",
      "\"package 'ISLR2' was built under R version 4.4.2\"\n"
     ]
    }
   ],
   "source": [
    "install.packages(\"ISLR2\")\n",
    "library(ISLR2)"
   ]
  },
  {
   "cell_type": "code",
   "execution_count": 14,
   "id": "a446bf19-3d4d-47f5-894e-0f4986dd1f4f",
   "metadata": {},
   "outputs": [],
   "source": [
    "dat <- data(Auto)"
   ]
  },
  {
   "cell_type": "code",
   "execution_count": 17,
   "id": "e7239389-6acd-465a-97a2-6dc557f31338",
   "metadata": {},
   "outputs": [
    {
     "data": {
      "text/plain": [
       "\n",
       "  3   4   5   6   8 \n",
       "  4 199   3  83 103 "
      ]
     },
     "metadata": {},
     "output_type": "display_data"
    }
   ],
   "source": [
    "data=Auto\n",
    "table(data$cylinders)"
   ]
  },
  {
   "cell_type": "code",
   "execution_count": 19,
   "id": "5dd8d2b5-dbf5-4ed2-a1f5-e9c6835821bc",
   "metadata": {},
   "outputs": [
    {
     "data": {
      "text/plain": [
       "\n",
       "70 71 72 73 74 75 76 77 78 79 80 81 82 \n",
       "29 27 28 40 26 30 34 28 36 29 27 28 30 "
      ]
     },
     "metadata": {},
     "output_type": "display_data"
    }
   ],
   "source": [
    "table(data$year)"
   ]
  },
  {
   "cell_type": "code",
   "execution_count": null,
   "id": "55e1c54e-4e96-47ed-b325-9a3b0ae12c4a",
   "metadata": {},
   "outputs": [],
   "source": []
  }
 ],
 "metadata": {
  "kernelspec": {
   "display_name": "R",
   "language": "R",
   "name": "ir"
  },
  "language_info": {
   "codemirror_mode": "r",
   "file_extension": ".r",
   "mimetype": "text/x-r-source",
   "name": "R",
   "pygments_lexer": "r",
   "version": "4.4.1"
  }
 },
 "nbformat": 4,
 "nbformat_minor": 5
}
