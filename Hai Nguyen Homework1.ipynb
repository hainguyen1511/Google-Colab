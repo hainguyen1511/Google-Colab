{
 "cells": [
  {
   "cell_type": "markdown",
   "id": "71c56eb3",
   "metadata": {},
   "source": [
    "# MTH 373 - Homework #1"
   ]
  },
  {
   "cell_type": "markdown",
   "id": "5eabce54",
   "metadata": {},
   "source": [
    "**Name:** <font color=\"red\">**_Hai T. Nguyen_**</font>\n",
    "\n",
    "**Due:** Monday, April 15, 2024 (submit on Canvas before 11:30 am)"
   ]
  },
  {
   "cell_type": "code",
   "execution_count": 1,
   "id": "a29d3750",
   "metadata": {},
   "outputs": [],
   "source": [
    "import numpy as np\n",
    "import scipy.sparse as sp\n",
    "import matplotlib.pyplot as plt"
   ]
  },
  {
   "cell_type": "markdown",
   "id": "6a9af0fc",
   "metadata": {},
   "source": [
    "### 1. Convert from COO to CSR format (5 points)\n",
    "\n",
    "Complete the function `load_as_csr` below. Given a filename as a string, load the matrix from the file and return the `I`, `J`, and `V` arrays corresponding to the CSR format.\n",
    "\n",
    "Each line of the file contains three whitespace-separated values. The first row contains `m`, `n`, `nnz`. Each subsequent row corresponds to one nonzero of the matrix: `i`, `j`, and the nonzero value `v`.\n",
    "\n",
    "Code is provided to read $m$, $n$, $nnz$, and an array `data` of length `nnz`. The `data` array is such that for each nonzero `k`, `data[k] == (i, j, v)`, where $(i,j)$ are the coordinates of the nonzero, and $v$ is the value.\n",
    "\n",
    "The algorithm for computing to CSR is as follows.\n",
    "\n",
    "* Allocate arrays $I$ (integers, length $m+1$), $J$ (integers, length $nnz$, and $V$ (floating point, length $nnz$)\n",
    "* Initialize every entry of $I$ to zero\n",
    "* Loop over the nonzeros:\n",
    "    * For the $k$th nonzero $(i,j,v)$, set $I[i + 1] \\gets I[i + 1] + 1$\n",
    "* After this loop, $I[i + 1]$ contains the number of nonzeros in row $i$\n",
    "* Compute the partial sums\n",
    "* For $i = 0, 1, \\ldots, m - 1$\n",
    "    * $I[i + 1] \\gets I[i + 1] + I[i]$\n",
    "* Now $I$ is correctly set up\n",
    "* Loop over every nonzero\n",
    "    * Given nonzero $(i, j, v)$\n",
    "    * Set $idx \\gets I[i]$\n",
    "    * Increment $I[i] \\gets I[i] + 1$\n",
    "    * $J[idx] \\gets j$\n",
    "    * $V[idx] \\gets v$\n",
    "* Reset the $I$ array after our modifications above\n",
    "* For $i = m-1, m-2, \\ldots 0$\n",
    "    * _Note, you can use `for i in reversed(range(m)):` for this loop_\n",
    "    * $I[i+1] \\gets I[i]$\n",
    "* $I[0] \\gets 0 $"
   ]
  },
  {
   "cell_type": "code",
   "execution_count": 2,
   "id": "d2dfeed4",
   "metadata": {},
   "outputs": [],
   "source": [
    "def load_as_csr(filename):\n",
    "    # Read m, n, and nnz from the file\n",
    "    m, n, nnz = np.genfromtxt(filename, max_rows=1, dtype=None)\n",
    "    # Read the data as a list of tuples [(i,j,v), ...]\n",
    "    data = np.genfromtxt(filename, skip_header=1, dtype=None)\n",
    "    # Allocate arrays\n",
    "    I = np.zeros(m + 1, dtype=int)\n",
    "    J = np.zeros(nnz, dtype=int)\n",
    "    V = np.zeros(nnz)\n",
    "    # [Convert to CSR here...]\n",
    "    # Initialize every entry of I to zero\n",
    "    for i in range(nnz):\n",
    "        I[data[i][0]+1] += 1\n",
    "    # Compute the partial sums\n",
    "    for i in range(m-1):\n",
    "        I[i+1] = I[i+1] + I[i]\n",
    "    # Loop over every nonzero\n",
    "    for k in range(nnz):\n",
    "        i, j, v = data[k]\n",
    "        idx = I[i]\n",
    "        J[idx] = j\n",
    "        V[idx] = v\n",
    "        I[i] += 1\n",
    "    # Reset the I array after modifications\n",
    "    for i in reversed(range(m)):\n",
    "        I[i + 1] = I[i]\n",
    "    I[0] = 0\n",
    "    return I, J, V"
   ]
  },
  {
   "cell_type": "markdown",
   "id": "d44cc2ec",
   "metadata": {},
   "source": [
    "You can use the function `check_matrix` to check your results."
   ]
  },
  {
   "cell_type": "code",
   "execution_count": 3,
   "id": "0e1072e9",
   "metadata": {},
   "outputs": [],
   "source": [
    "def check_matrix(filename):\n",
    "    A = load_as_csr(filename)\n",
    "    A1 = sp.csr_matrix((A[2], A[1], A[0]))\n",
    "    data = np.genfromtxt(filename, skip_header=1)\n",
    "    A2 = sp.csr_matrix((data[:,2], (data[:,0].astype(int), data[:,1].astype(int))))\n",
    "    if sp.linalg.norm(A1 - A2) < 1e-10:\n",
    "        print(\"OK\")\n",
    "    else:\n",
    "        print(\"Incorrect\")"
   ]
  },
  {
   "cell_type": "code",
   "execution_count": 4,
   "id": "bc227c70",
   "metadata": {},
   "outputs": [
    {
     "name": "stdout",
     "output_type": "stream",
     "text": [
      "OK\n"
     ]
    }
   ],
   "source": [
    "check_matrix (\"64.txt\")"
   ]
  },
  {
   "cell_type": "markdown",
   "id": "f4386c37",
   "metadata": {},
   "source": [
    "### 2. Matrix-vector product\n",
    "\n",
    "Write a function `matvec` that takes a matrix $A$ in CSR format (as a tuple `(I, J, V)`) and a vector $v$, and returns the matrix-vector product $w = Av$."
   ]
  },
  {
   "cell_type": "code",
   "execution_count": 5,
   "id": "6aaf009c",
   "metadata": {},
   "outputs": [],
   "source": [
    "def matvec(A, v):\n",
    "    I, J, V = A\n",
    "    m = len(I) - 1\n",
    "    w = np.zeros(m)\n",
    "    # [Compute w = Av here...]\n",
    "    for i in range (m):\n",
    "        w[i] = 0\n",
    "        begin_j = I[i]\n",
    "        end_j = I[i+1]\n",
    "        for idx_j in range (begin_j,end_j):\n",
    "            j = J[idx_j]\n",
    "            w[i] = w[i] + V[idx_j]*v[j]\n",
    "    return w"
   ]
  },
  {
   "cell_type": "markdown",
   "id": "ba1ea8ec",
   "metadata": {},
   "source": [
    "### 3. Run your code and check the results\n",
    "\n",
    "Write a loop to run your code for the files `16.txt`, `25.txt`, `50.txt`, and `64.txt`.\n",
    "\n",
    "Write a function `num_rows` that returns the number of rows of a matrix $A$ given as a tuple $(I, J, V)$. We will assume that the matrix is square, so this is also equal to the number of columns.\n",
    "\n",
    "For each file, load the matrix, and compute the matrix-vector product with a random vector using the function `random_vector` below.\n",
    "\n",
    "Print the error using the `check_results` function. Pass the filename and your computed vector $w$ to `check_results`. It will return the error of your computation (which should be close to zero)."
   ]
  },
  {
   "cell_type": "code",
   "execution_count": 6,
   "id": "186ff815",
   "metadata": {},
   "outputs": [],
   "source": [
    "def random_vector(m):\n",
    "    \"\"\"\n",
    "    Returns a random vector with seed 0 (the entries are always drawn from\n",
    "    the same sequence so the results are reproducible).\n",
    "    \"\"\"\n",
    "    return np.random.default_rng(0).random(m)"
   ]
  },
  {
   "cell_type": "code",
   "execution_count": 7,
   "id": "f2acf986",
   "metadata": {},
   "outputs": [],
   "source": [
    "def check_results(filename, w):\n",
    "    data = np.genfromtxt(filename, skip_header=1)\n",
    "    AA = sp.csr_matrix((data[:,2], (data[:,0].astype(int), data[:,1].astype(int))))\n",
    "    v = random_vector(AA.shape[1])\n",
    "    ww = AA @ v\n",
    "    return np.linalg.norm(w - ww)"
   ]
  },
  {
   "cell_type": "code",
   "execution_count": 8,
   "id": "1e4fc50e",
   "metadata": {},
   "outputs": [],
   "source": [
    "def num_rows(A):\n",
    "    # Return the number of rows in A\n",
    "    I = A[0]\n",
    "    return len(I) - 1"
   ]
  },
  {
   "cell_type": "code",
   "execution_count": 9,
   "id": "5d1bcb35",
   "metadata": {},
   "outputs": [
    {
     "name": "stdout",
     "output_type": "stream",
     "text": [
      "Error for 16.txt: 3.645607954817335e-15\n",
      "Error for 25.txt: 0.0\n",
      "Error for 50.txt: 0.0\n",
      "Error for 64.txt: 2.177044096967847e-15\n"
     ]
    }
   ],
   "source": [
    "for filename in [\"16.txt\", \"25.txt\", \"50.txt\", \"64.txt\"]:\n",
    "    A = load_as_csr(filename)\n",
    "    # Compute matrix-vector product\n",
    "    v = random_vector(num_rows(A))\n",
    "    w = matvec(A,v)\n",
    "    # Check results\n",
    "    error = check_results(filename, w)\n",
    "    print(f\"Error for {filename}: {error}\")"
   ]
  },
  {
   "cell_type": "markdown",
   "id": "e734c054",
   "metadata": {},
   "source": [
    "### 4. Visualize sparsity pattern and compute memory savings\n",
    "\n",
    "Use the function `visualize_sparsity` below to plot the sparsity pattern for each matrix (represented in CSR format as a tuple).\n",
    "\n",
    "Given a CSR matrix, write a function `memory_usage` that estimates the memory usage. Count each integer and floating point number as one \"unit\" of memory.\n",
    "\n",
    "Write a function `dense_memory_usage` that estimates the memory usage of a dense matrix of the same dimensions (you can assume the matrix is square, and use `num_columns` above to get the size).\n",
    "\n",
    "For each of the test matrices, estimate the memory savings using CSR format compared with dense format. Justify your answer."
   ]
  },
  {
   "cell_type": "code",
   "execution_count": 10,
   "id": "29042530",
   "metadata": {},
   "outputs": [],
   "source": [
    "def visualize_sparsity(A):\n",
    "    AA = sp.csr_matrix((A[2], A[1], A[0]))\n",
    "    plt.spy(AA)"
   ]
  },
  {
   "cell_type": "code",
   "execution_count": 11,
   "id": "9a47927b",
   "metadata": {},
   "outputs": [],
   "source": [
    "def memory_usage(A):\n",
    "    # Return memory usage of A in CSR format\n",
    "        return 2*nnz+m+1\n",
    "def dense_memory_usage(A):\n",
    "    # Return memory required to store A in dense format\n",
    "        return m*n"
   ]
  },
  {
   "cell_type": "code",
   "execution_count": 12,
   "id": "e45777a5",
   "metadata": {},
   "outputs": [
    {
     "name": "stdout",
     "output_type": "stream",
     "text": [
      "Memory savings using CSR format for 16.txt: 64.45%\n",
      "Memory savings using CSR format for 25.txt: 55.04%\n",
      "Memory savings using CSR format for 50.txt: 50.68%\n",
      "Memory savings using CSR format for 64.txt: 19.46%\n"
     ]
    },
    {
     "data": {
      "image/png": "[encoded data removed]",
      "text/plain": [
       "<Figure size 640x480 with 1 Axes>"
      ]
     },
     "metadata": {},
     "output_type": "display_data"
    }
   ],
   "source": [
    "for filename in [\"16.txt\", \"25.txt\", \"50.txt\", \"64.txt\"]:\n",
    "    A = load_as_csr(filename)\n",
    "    m, n, nnz = np.genfromtxt(filename, max_rows=1, dtype=None)\n",
    "    visualize_sparsity(A)\n",
    "    print(f\"Memory savings using CSR format for {filename}: {(memory_usage(A) / dense_memory_usage(A)) * 100:.2f}%\")"
   ]
  }
 ],
 "metadata": {
  "kernelspec": {
   "display_name": "Python 3 (ipykernel)",
   "language": "python",
   "name": "python3"
  },
  "language_info": {
   "codemirror_mode": {
    "name": "ipython",
    "version": 3
   },
   "file_extension": ".py",
   "mimetype": "text/x-python",
   "name": "python",
   "nbconvert_exporter": "python",
   "pygments_lexer": "ipython3",
   "version": "3.8.10"
  }
 },
 "nbformat": 4,
 "nbformat_minor": 5
}
