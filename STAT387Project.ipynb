{
 "cells": [
  {
   "cell_type": "markdown",
   "metadata": {
    "id": "zcwfltgmLVbg"
   },
   "source": [
    "# Preferably downloading this file and run it locally. Google \"Collapse\" will take a while to load all packages."
   ]
  },
  {
   "cell_type": "markdown",
   "metadata": {
    "id": "0_nhFUuXjr5J"
   },
   "source": []
  },
  {
   "cell_type": "code",
   "execution_count": 1,
   "metadata": {
    "colab": {
     "base_uri": "https://localhost:8080/"
    },
    "id": "r6lYulzLOan5",
    "outputId": "2bb309a3-7c75-4c3e-a116-91473289e2cc"
   },
   "outputs": [
    {
     "name": "stderr",
     "output_type": "stream",
     "text": [
      "Warning message:\n",
      "\"package 'ggplot2' was built under R version 4.4.2\"\n",
      "Warning message:\n",
      "\"package 'broom' was built under R version 4.4.2\"\n",
      "Installing package into 'C:/Users/haitr/AppData/Local/R/win-library/4.4'\n",
      "(as 'lib' is unspecified)\n",
      "\n"
     ]
    },
    {
     "name": "stdout",
     "output_type": "stream",
     "text": [
      "package 'MASS' successfully unpacked and MD5 sums checked\n",
      "\n",
      "The downloaded binary packages are in\n",
      "\tC:\\Users\\haitr\\AppData\\Local\\Temp\\Rtmpmebcut\\downloaded_packages\n"
     ]
    },
    {
     "name": "stderr",
     "output_type": "stream",
     "text": [
      "Warning message:\n",
      "\"package 'MASS' was built under R version 4.4.3\"\n",
      "Installing package into 'C:/Users/haitr/AppData/Local/R/win-library/4.4'\n",
      "(as 'lib' is unspecified)\n",
      "\n"
     ]
    },
    {
     "name": "stdout",
     "output_type": "stream",
     "text": [
      "package 'randomForest' successfully unpacked and MD5 sums checked\n",
      "\n",
      "The downloaded binary packages are in\n",
      "\tC:\\Users\\haitr\\AppData\\Local\\Temp\\Rtmpmebcut\\downloaded_packages\n"
     ]
    },
    {
     "name": "stderr",
     "output_type": "stream",
     "text": [
      "Warning message:\n",
      "\"package 'randomForest' was built under R version 4.4.3\"\n",
      "randomForest 4.7-1.2\n",
      "\n",
      "Type rfNews() to see new features/changes/bug fixes.\n",
      "\n",
      "\n",
      "Attaching package: 'randomForest'\n",
      "\n",
      "\n",
      "The following object is masked from 'package:ggplot2':\n",
      "\n",
      "    margin\n",
      "\n",
      "\n",
      "Installing package into 'C:/Users/haitr/AppData/Local/R/win-library/4.4'\n",
      "(as 'lib' is unspecified)\n",
      "\n"
     ]
    },
    {
     "name": "stdout",
     "output_type": "stream",
     "text": [
      "package 'tree' successfully unpacked and MD5 sums checked\n",
      "\n",
      "The downloaded binary packages are in\n",
      "\tC:\\Users\\haitr\\AppData\\Local\\Temp\\Rtmpmebcut\\downloaded_packages\n"
     ]
    },
    {
     "name": "stderr",
     "output_type": "stream",
     "text": [
      "Warning message:\n",
      "\"package 'tree' was built under R version 4.4.3\"\n",
      "Installing package into 'C:/Users/haitr/AppData/Local/R/win-library/4.4'\n",
      "(as 'lib' is unspecified)\n",
      "\n"
     ]
    },
    {
     "name": "stdout",
     "output_type": "stream",
     "text": [
      "package 'gbm' successfully unpacked and MD5 sums checked\n",
      "\n",
      "The downloaded binary packages are in\n",
      "\tC:\\Users\\haitr\\AppData\\Local\\Temp\\Rtmpmebcut\\downloaded_packages\n"
     ]
    },
    {
     "name": "stderr",
     "output_type": "stream",
     "text": [
      "Warning message:\n",
      "\"package 'gbm' was built under R version 4.4.3\"\n",
      "Loaded gbm 2.2.2\n",
      "\n",
      "This version of gbm is no longer under development. Consider transitioning to gbm3, https://github.com/gbm-developers/gbm3\n",
      "\n",
      "Installing package into 'C:/Users/haitr/AppData/Local/R/win-library/4.4'\n",
      "(as 'lib' is unspecified)\n",
      "\n"
     ]
    },
    {
     "name": "stdout",
     "output_type": "stream",
     "text": [
      "package 'lmtest' successfully unpacked and MD5 sums checked\n",
      "\n",
      "The downloaded binary packages are in\n",
      "\tC:\\Users\\haitr\\AppData\\Local\\Temp\\Rtmpmebcut\\downloaded_packages\n"
     ]
    },
    {
     "name": "stderr",
     "output_type": "stream",
     "text": [
      "Warning message:\n",
      "\"package 'lmtest' was built under R version 4.4.3\"\n",
      "Loading required package: zoo\n",
      "\n",
      "Warning message:\n",
      "\"package 'zoo' was built under R version 4.4.2\"\n",
      "\n",
      "Attaching package: 'zoo'\n",
      "\n",
      "\n",
      "The following objects are masked from 'package:base':\n",
      "\n",
      "    as.Date, as.Date.numeric\n",
      "\n",
      "\n",
      "Installing package into 'C:/Users/haitr/AppData/Local/R/win-library/4.4'\n",
      "(as 'lib' is unspecified)\n",
      "\n"
     ]
    },
    {
     "name": "stdout",
     "output_type": "stream",
     "text": [
      "package 'caret' successfully unpacked and MD5 sums checked\n",
      "\n",
      "The downloaded binary packages are in\n",
      "\tC:\\Users\\haitr\\AppData\\Local\\Temp\\Rtmpmebcut\\downloaded_packages\n"
     ]
    },
    {
     "name": "stderr",
     "output_type": "stream",
     "text": [
      "Installing package into 'C:/Users/haitr/AppData/Local/R/win-library/4.4'\n",
      "(as 'lib' is unspecified)\n",
      "\n"
     ]
    },
    {
     "name": "stdout",
     "output_type": "stream",
     "text": [
      "package 'prodlim' successfully unpacked and MD5 sums checked\n",
      "\n",
      "The downloaded binary packages are in\n",
      "\tC:\\Users\\haitr\\AppData\\Local\\Temp\\Rtmpmebcut\\downloaded_packages\n"
     ]
    },
    {
     "name": "stderr",
     "output_type": "stream",
     "text": [
      "Installing package into 'C:/Users/haitr/AppData/Local/R/win-library/4.4'\n",
      "(as 'lib' is unspecified)\n",
      "\n"
     ]
    },
    {
     "name": "stdout",
     "output_type": "stream",
     "text": [
      "package 'lattice' successfully unpacked and MD5 sums checked\n"
     ]
    },
    {
     "name": "stderr",
     "output_type": "stream",
     "text": [
      "Warning message:\n",
      "\"cannot remove prior installation of package 'lattice'\"\n",
      "Warning message in file.copy(savedcopy, lib, recursive = TRUE):\n",
      "\"problem copying C:\\Users\\haitr\\AppData\\Local\\R\\win-library\\4.4\\00LOCK\\lattice\\libs\\x64\\lattice.dll to C:\\Users\\haitr\\AppData\\Local\\R\\win-library\\4.4\\lattice\\libs\\x64\\lattice.dll: Permission denied\"\n",
      "Warning message:\n",
      "\"restored 'lattice'\"\n"
     ]
    },
    {
     "name": "stdout",
     "output_type": "stream",
     "text": [
      "\n",
      "The downloaded binary packages are in\n",
      "\tC:\\Users\\haitr\\AppData\\Local\\Temp\\Rtmpmebcut\\downloaded_packages\n"
     ]
    },
    {
     "name": "stderr",
     "output_type": "stream",
     "text": [
      "Installing package into 'C:/Users/haitr/AppData/Local/R/win-library/4.4'\n",
      "(as 'lib' is unspecified)\n",
      "\n"
     ]
    },
    {
     "name": "stdout",
     "output_type": "stream",
     "text": [
      "package 'future' successfully unpacked and MD5 sums checked\n",
      "\n",
      "The downloaded binary packages are in\n",
      "\tC:\\Users\\haitr\\AppData\\Local\\Temp\\Rtmpmebcut\\downloaded_packages\n"
     ]
    },
    {
     "name": "stderr",
     "output_type": "stream",
     "text": [
      "Warning message:\n",
      "\"package 'caret' was built under R version 4.4.3\"\n",
      "Loading required package: lattice\n",
      "\n",
      "Warning message:\n",
      "\"package 'lattice' was built under R version 4.4.2\"\n",
      "Installing package into 'C:/Users/haitr/AppData/Local/R/win-library/4.4'\n",
      "(as 'lib' is unspecified)\n",
      "\n"
     ]
    },
    {
     "name": "stdout",
     "output_type": "stream",
     "text": [
      "package 'dplyr' successfully unpacked and MD5 sums checked\n"
     ]
    },
    {
     "name": "stderr",
     "output_type": "stream",
     "text": [
      "Warning message:\n",
      "\"cannot remove prior installation of package 'dplyr'\"\n",
      "Warning message in file.copy(savedcopy, lib, recursive = TRUE):\n",
      "\"problem copying C:\\Users\\haitr\\AppData\\Local\\R\\win-library\\4.4\\00LOCK\\dplyr\\libs\\x64\\dplyr.dll to C:\\Users\\haitr\\AppData\\Local\\R\\win-library\\4.4\\dplyr\\libs\\x64\\dplyr.dll: Permission denied\"\n",
      "Warning message:\n",
      "\"restored 'dplyr'\"\n"
     ]
    },
    {
     "name": "stdout",
     "output_type": "stream",
     "text": [
      "\n",
      "The downloaded binary packages are in\n",
      "\tC:\\Users\\haitr\\AppData\\Local\\Temp\\Rtmpmebcut\\downloaded_packages\n"
     ]
    },
    {
     "name": "stderr",
     "output_type": "stream",
     "text": [
      "Warning message:\n",
      "\"package 'dplyr' was built under R version 4.4.2\"\n",
      "\n",
      "Attaching package: 'dplyr'\n",
      "\n",
      "\n",
      "The following object is masked from 'package:randomForest':\n",
      "\n",
      "    combine\n",
      "\n",
      "\n",
      "The following object is masked from 'package:MASS':\n",
      "\n",
      "    select\n",
      "\n",
      "\n",
      "The following objects are masked from 'package:stats':\n",
      "\n",
      "    filter, lag\n",
      "\n",
      "\n",
      "The following objects are masked from 'package:base':\n",
      "\n",
      "    intersect, setdiff, setequal, union\n",
      "\n",
      "\n"
     ]
    }
   ],
   "source": [
    "# Load necessary libraries\n",
    "library(ggplot2)\n",
    "library(broom)\n",
    "install.packages(\"MASS\")\n",
    "library(MASS)\n",
    "install.packages(\"randomForest\")\n",
    "library(randomForest)\n",
    "install.packages(\"tree\")\n",
    "library(tree)\n",
    "install.packages(\"gbm\")\n",
    "library(gbm)\n",
    "install.packages(\"lmtest\")\n",
    "library(lmtest)\n",
    "install.packages(\"caret\")\n",
    "install.packages(\"prodlim\")\n",
    "install.packages(\"lattice\")\n",
    "install.packages(\"future\")\n",
    "library(caret)\n",
    "install.packages(\"dplyr\")\n",
    "library(dplyr)"
   ]
  },
  {
   "cell_type": "code",
   "execution_count": 2,
   "metadata": {
    "colab": {
     "base_uri": "https://localhost:8080/",
     "height": 320
    },
    "id": "gfpH32V-FkFr",
    "outputId": "3362ab3b-f08f-46a2-bd0f-c4c9eeeb5b6f"
   },
   "outputs": [
    {
     "data": {
      "text/plain": [
       "  ShellType             Width           Length          AperHt     \n",
       " Length:110         Min.   :2.700   Min.   : 9.63   Min.   :2.400  \n",
       " Class :character   1st Qu.:3.530   1st Qu.:12.88   1st Qu.:3.103  \n",
       " Mode  :character   Median :3.760   Median :13.79   Median :3.490  \n",
       "                    Mean   :3.718   Mean   :13.94   Mean   :3.426  \n",
       "                    3rd Qu.:3.908   3rd Qu.:14.96   3rd Qu.:3.800  \n",
       "                    Max.   :4.280   Max.   :18.39   Max.   :4.430  \n",
       "    AperWdt            LU            LipWdt      \n",
       " Min.   :1.640   Min.   :11.59   Min.   :0.1700  \n",
       " 1st Qu.:2.165   1st Qu.:15.96   1st Qu.:0.2800  \n",
       " Median :2.410   Median :17.02   Median :0.3300  \n",
       " Mean   :2.428   Mean   :17.03   Mean   :0.3397  \n",
       " 3rd Qu.:2.700   3rd Qu.:18.33   3rd Qu.:0.3800  \n",
       " Max.   :3.180   Max.   :22.36   Max.   :0.5400  "
      ]
     },
     "metadata": {},
     "output_type": "display_data"
    }
   ],
   "source": [
    "snail = read.csv(\"Snail2.csv\")\n",
    "summary(snail)"
   ]
  },
  {
   "cell_type": "code",
   "execution_count": 3,
   "metadata": {
    "colab": {
     "base_uri": "https://localhost:8080/",
     "height": 265
    },
    "id": "T-fQ3QMGHFFN",
    "outputId": "d9d9aaa2-740b-422e-d987-88c41c18fc7f"
   },
   "outputs": [
    {
     "data": {
      "text/plain": [
       " ShellType      Width           Length          AperHt         AperWdt     \n",
       " Type1:41   Min.   :2.700   Min.   : 9.63   Min.   :2.400   Min.   :1.640  \n",
       " Type2:69   1st Qu.:3.530   1st Qu.:12.88   1st Qu.:3.103   1st Qu.:2.165  \n",
       "            Median :3.760   Median :13.79   Median :3.490   Median :2.410  \n",
       "            Mean   :3.718   Mean   :13.94   Mean   :3.426   Mean   :2.428  \n",
       "            3rd Qu.:3.908   3rd Qu.:14.96   3rd Qu.:3.800   3rd Qu.:2.700  \n",
       "            Max.   :4.280   Max.   :18.39   Max.   :4.430   Max.   :3.180  \n",
       "       LU            LipWdt      \n",
       " Min.   :11.59   Min.   :0.1700  \n",
       " 1st Qu.:15.96   1st Qu.:0.2800  \n",
       " Median :17.02   Median :0.3300  \n",
       " Mean   :17.03   Mean   :0.3397  \n",
       " 3rd Qu.:18.33   3rd Qu.:0.3800  \n",
       " Max.   :22.36   Max.   :0.5400  "
      ]
     },
     "metadata": {},
     "output_type": "display_data"
    }
   ],
   "source": [
    "snail$ShellType = as.factor(snail$ShellType)\n",
    "summary(snail)"
   ]
  },
  {
   "cell_type": "code",
   "execution_count": 4,
   "metadata": {
    "colab": {
     "base_uri": "https://localhost:8080/",
     "height": 232
    },
    "id": "B5SQFkgqH5hr",
    "outputId": "dde4838f-8002-4d64-a68e-bdf0364e844e"
   },
   "outputs": [
    {
     "data": {
      "image/png": "[encoded data removed]",
      "text/plain": [
       "plot without title"
      ]
     },
     "metadata": {
      "image/png": {
       "height": 420,
       "width": 420
      }
     },
     "output_type": "display_data"
    }
   ],
   "source": [
    "plot(snail)"
   ]
  },
  {
   "cell_type": "markdown",
   "metadata": {
    "id": "esugJKu3sS8l"
   },
   "source": [
    "#Do part (a) of Exercise 15 in Chapter 3 for this data.\n",
    "\n",
    "#For each predictor, fit a simple linear regression model to predict\n",
    "#the response. Describe your results. In which of the models is\n",
    "#there a statistically significant association between the predictor\n",
    "#and the response? Create some plots to back up your assertions."
   ]
  },
  {
   "cell_type": "code",
   "execution_count": 5,
   "metadata": {
    "colab": {
     "base_uri": "https://localhost:8080/",
     "height": 320
    },
    "id": "lJ_RIok26EW6",
    "outputId": "f048ce5e-776d-4fd6-82d1-aa91adf04d34"
   },
   "outputs": [
    {
     "data": {
      "text/plain": [
       "\n",
       "Call:\n",
       "lm(formula = Length ~ Width, data = snail)\n",
       "\n",
       "Residuals:\n",
       "    Min      1Q  Median      3Q     Max \n",
       "-2.3282 -0.8405 -0.0127  0.7662  3.3068 \n",
       "\n",
       "Coefficients:\n",
       "            Estimate Std. Error t value Pr(>|t|)    \n",
       "(Intercept) 0.005743   1.408795   0.004    0.997    \n",
       "Width       3.746866   0.377692   9.920   <2e-16 ***\n",
       "---\n",
       "Signif. codes:  0 '***' 0.001 '**' 0.01 '*' 0.05 '.' 0.1 ' ' 1\n",
       "\n",
       "Residual standard error: 1.176 on 108 degrees of freedom\n",
       "Multiple R-squared:  0.4768,\tAdjusted R-squared:  0.4719 \n",
       "F-statistic: 98.42 on 1 and 108 DF,  p-value: < 2.2e-16\n"
      ]
     },
     "metadata": {},
     "output_type": "display_data"
    },
    {
     "data": {
      "text/plain": [
       "\n",
       "Call:\n",
       "lm(formula = Length ~ AperHt, data = snail)\n",
       "\n",
       "Residuals:\n",
       "    Min      1Q  Median      3Q     Max \n",
       "-1.8489 -0.6294 -0.1706  0.6583  3.0064 \n",
       "\n",
       "Coefficients:\n",
       "            Estimate Std. Error t value Pr(>|t|)    \n",
       "(Intercept)   5.0634     0.7221   7.012 2.13e-10 ***\n",
       "AperHt        2.5904     0.2088  12.407  < 2e-16 ***\n",
       "---\n",
       "Signif. codes:  0 '***' 0.001 '**' 0.01 '*' 0.05 '.' 0.1 ' ' 1\n",
       "\n",
       "Residual standard error: 1.044 on 108 degrees of freedom\n",
       "Multiple R-squared:  0.5877,\tAdjusted R-squared:  0.5839 \n",
       "F-statistic: 153.9 on 1 and 108 DF,  p-value: < 2.2e-16\n"
      ]
     },
     "metadata": {},
     "output_type": "display_data"
    },
    {
     "data": {
      "text/plain": [
       "\n",
       "Call:\n",
       "lm(formula = Length ~ AperWdt, data = snail)\n",
       "\n",
       "Residuals:\n",
       "    Min      1Q  Median      3Q     Max \n",
       "-3.2505 -0.8431 -0.1279  0.8592  3.3895 \n",
       "\n",
       "Coefficients:\n",
       "            Estimate Std. Error t value Pr(>|t|)    \n",
       "(Intercept)   7.1638     0.9079   7.891 2.63e-12 ***\n",
       "AperWdt       2.7896     0.3703   7.533 1.60e-11 ***\n",
       "---\n",
       "Signif. codes:  0 '***' 0.001 '**' 0.01 '*' 0.05 '.' 0.1 ' ' 1\n",
       "\n",
       "Residual standard error: 1.316 on 108 degrees of freedom\n",
       "Multiple R-squared:  0.3445,\tAdjusted R-squared:  0.3384 \n",
       "F-statistic: 56.75 on 1 and 108 DF,  p-value: 1.602e-11\n"
      ]
     },
     "metadata": {},
     "output_type": "display_data"
    },
    {
     "data": {
      "text/plain": [
       "\n",
       "Call:\n",
       "lm(formula = Length ~ LU, data = snail)\n",
       "\n",
       "Residuals:\n",
       "     Min       1Q   Median       3Q      Max \n",
       "-1.74502 -0.28542 -0.01718  0.27650  1.75611 \n",
       "\n",
       "Coefficients:\n",
       "            Estimate Std. Error t value Pr(>|t|)    \n",
       "(Intercept)   0.6430     0.4011   1.603    0.112    \n",
       "LU            0.7808     0.0234  33.369   <2e-16 ***\n",
       "---\n",
       "Signif. codes:  0 '***' 0.001 '**' 0.01 '*' 0.05 '.' 0.1 ' ' 1\n",
       "\n",
       "Residual standard error: 0.4834 on 108 degrees of freedom\n",
       "Multiple R-squared:  0.9116,\tAdjusted R-squared:  0.9108 \n",
       "F-statistic:  1114 on 1 and 108 DF,  p-value: < 2.2e-16\n"
      ]
     },
     "metadata": {},
     "output_type": "display_data"
    },
    {
     "data": {
      "text/plain": [
       "\n",
       "Call:\n",
       "lm(formula = Length ~ LipWdt, data = snail)\n",
       "\n",
       "Residuals:\n",
       "    Min      1Q  Median      3Q     Max \n",
       "-4.2314 -0.9618 -0.0883  0.7516  3.8264 \n",
       "\n",
       "Coefficients:\n",
       "            Estimate Std. Error t value Pr(>|t|)    \n",
       "(Intercept)  11.2864     0.6298  17.922  < 2e-16 ***\n",
       "LipWdt        7.8029     1.8052   4.322 3.45e-05 ***\n",
       "---\n",
       "Signif. codes:  0 '***' 0.001 '**' 0.01 '*' 0.05 '.' 0.1 ' ' 1\n",
       "\n",
       "Residual standard error: 1.501 on 108 degrees of freedom\n",
       "Multiple R-squared:  0.1475,\tAdjusted R-squared:  0.1396 \n",
       "F-statistic: 18.68 on 1 and 108 DF,  p-value: 3.448e-05\n"
      ]
     },
     "metadata": {},
     "output_type": "display_data"
    }
   ],
   "source": [
    "sim1 <- lm(Length~Width, data = snail)\n",
    "sim2 <- lm(Length~AperHt, data = snail)\n",
    "sim3 <- lm(Length~AperWdt, data = snail)\n",
    "sim4 <- lm(Length~LU, data = snail)\n",
    "sim5 <- lm(Length~LipWdt, data = snail)\n",
    "# Summarize the models\n",
    "summary(sim1)\n",
    "summary(sim2)\n",
    "summary(sim3)\n",
    "summary(sim4)\n",
    "summary(sim5)"
   ]
  },
  {
   "cell_type": "code",
   "execution_count": 6,
   "metadata": {
    "colab": {
     "base_uri": "https://localhost:8080/",
     "height": 232
    },
    "id": "mJmokPIE7GN3",
    "outputId": "8a1da9f8-941d-4b1e-84bc-e5207f46cb98"
   },
   "outputs": [
    {
     "data": {
      "text/html": [
       "<style>\n",
       ".list-inline {list-style: none; margin:0; padding: 0}\n",
       ".list-inline>li {display: inline-block}\n",
       ".list-inline>li:not(:last-child)::after {content: \"\\00b7\"; padding: 0 .5ex}\n",
       "</style>\n",
       "<ol class=list-inline><li>7.07409491620517e-17</li><li>1.65359244342326e-22</li><li>1.601572538597e-11</li><li>1.03843189441297e-58</li><li>3.44814556222428e-05</li></ol>\n"
      ],
      "text/latex": [
       "\\begin{enumerate*}\n",
       "\\item 7.07409491620517e-17\n",
       "\\item 1.65359244342326e-22\n",
       "\\item 1.601572538597e-11\n",
       "\\item 1.03843189441297e-58\n",
       "\\item 3.44814556222428e-05\n",
       "\\end{enumerate*}\n"
      ],
      "text/markdown": [
       "1. 7.07409491620517e-17\n",
       "2. 1.65359244342326e-22\n",
       "3. 1.601572538597e-11\n",
       "4. 1.03843189441297e-58\n",
       "5. 3.44814556222428e-05\n",
       "\n",
       "\n"
      ],
      "text/plain": [
       "[1] 7.074095e-17 1.653592e-22 1.601573e-11 1.038432e-58 3.448146e-05"
      ]
     },
     "metadata": {},
     "output_type": "display_data"
    }
   ],
   "source": [
    "# Extract p-values for each model\n",
    "p_values <- c(\n",
    "  summary(sim1)$coefficients[2, 4],\n",
    "  summary(sim2)$coefficients[2, 4],\n",
    "  summary(sim3)$coefficients[2, 4],\n",
    "  summary(sim4)$coefficients[2, 4],\n",
    "  summary(sim5)$coefficients[2, 4]\n",
    ")\n",
    "p_values"
   ]
  },
  {
   "cell_type": "code",
   "execution_count": 7,
   "metadata": {
    "colab": {
     "base_uri": "https://localhost:8080/"
    },
    "id": "J9AVNIRp7Q3i",
    "outputId": "e5c38f47-434c-4b0b-fab9-2c23c613d960"
   },
   "outputs": [
    {
     "data": {
      "text/html": [
       "<style>\n",
       ".list-inline {list-style: none; margin:0; padding: 0}\n",
       ".list-inline>li {display: inline-block}\n",
       ".list-inline>li:not(:last-child)::after {content: \"\\00b7\"; padding: 0 .5ex}\n",
       "</style>\n",
       "<ol class=list-inline><li>1</li><li>2</li><li>3</li><li>4</li><li>5</li></ol>\n"
      ],
      "text/latex": [
       "\\begin{enumerate*}\n",
       "\\item 1\n",
       "\\item 2\n",
       "\\item 3\n",
       "\\item 4\n",
       "\\item 5\n",
       "\\end{enumerate*}\n"
      ],
      "text/markdown": [
       "1. 1\n",
       "2. 2\n",
       "3. 3\n",
       "4. 4\n",
       "5. 5\n",
       "\n",
       "\n"
      ],
      "text/plain": [
       "[1] 1 2 3 4 5"
      ]
     },
     "metadata": {},
     "output_type": "display_data"
    }
   ],
   "source": [
    "# Determine which models have a statistically significant association\n",
    "sigmod <- which(p_values < 0.05)\n",
    "sigmod"
   ]
  },
  {
   "cell_type": "markdown",
   "metadata": {
    "id": "ZZysjbGE-ErU"
   },
   "source": [
    "#All 5 model provide statistically significant association between the predictors and the response, length. All 5 have p values less than 0.05"
   ]
  },
  {
   "cell_type": "code",
   "execution_count": 8,
   "metadata": {
    "colab": {
     "base_uri": "https://localhost:8080/",
     "height": 72
    },
    "id": "H6IHKFYhuXGq",
    "outputId": "37fce579-24fe-484f-c311-16440d9217d2"
   },
   "outputs": [
    {
     "name": "stderr",
     "output_type": "stream",
     "text": [
      "\u001b[1m\u001b[22m`geom_smooth()` using formula = 'y ~ x'\n"
     ]
    },
    {
     "data": {
      "image/png": "[encoded data removed]",
      "text/plain": [
       "plot without title"
      ]
     },
     "metadata": {
      "image/png": {
       "height": 420,
       "width": 420
      }
     },
     "output_type": "display_data"
    }
   ],
   "source": [
    "response = sqrt(snail$Length)\n",
    "predictor = snail$Width\n",
    "ggplot(snail, aes(x = predictor, y = response)) +\n",
    "  geom_point() +\n",
    "  geom_smooth(method = \"lm\", se = FALSE) +\n",
    "  labs(title = \"Length vs Width with Regression Line\", x = \"Width\", y = \"Length\")"
   ]
  },
  {
   "cell_type": "code",
   "execution_count": 9,
   "metadata": {
    "colab": {
     "base_uri": "https://localhost:8080/"
    },
    "id": "IFO82WTS4boa",
    "outputId": "db49f1ae-6a6e-4d9c-f8e0-59d09b927855"
   },
   "outputs": [
    {
     "name": "stderr",
     "output_type": "stream",
     "text": [
      "\u001b[1m\u001b[22m`geom_smooth()` using formula = 'y ~ x'\n"
     ]
    },
    {
     "data": {
      "image/png": "[encoded data removed]",
      "text/plain": [
       "plot without title"
      ]
     },
     "metadata": {
      "image/png": {
       "height": 420,
       "width": 420
      }
     },
     "output_type": "display_data"
    }
   ],
   "source": [
    "response = sqrt(snail$Length)\n",
    "predictor = snail$AperHt\n",
    "ggplot(snail, aes(x = predictor, y = response)) +\n",
    "  geom_point() +\n",
    "  geom_smooth(method = \"lm\", se = FALSE) +\n",
    "  labs(title = \"Length vs AperHt with Regression Line\", x = \"AperHt\", y = \"Length\")"
   ]
  },
  {
   "cell_type": "code",
   "execution_count": 10,
   "metadata": {
    "colab": {
     "base_uri": "https://localhost:8080/",
     "height": 72
    },
    "id": "mX_mC0_B4pXz",
    "outputId": "5cb3eade-c5f0-43ca-bc05-1751d88d1db9"
   },
   "outputs": [
    {
     "name": "stderr",
     "output_type": "stream",
     "text": [
      "\u001b[1m\u001b[22m`geom_smooth()` using formula = 'y ~ x'\n"
     ]
    },
    {
     "data": {
      "image/png": "[encoded data removed]",
      "text/plain": [
       "plot without title"
      ]
     },
     "metadata": {
      "image/png": {
       "height": 420,
       "width": 420
      }
     },
     "output_type": "display_data"
    }
   ],
   "source": [
    "response = sqrt(snail$Length)\n",
    "predictor = snail$AperWdt\n",
    "ggplot(snail, aes(x = predictor, y = response)) +\n",
    "  geom_point() +\n",
    "  geom_smooth(method = \"lm\", se = FALSE) +\n",
    "  labs(title = \"Length vs AperWdt with Regression Line\", x = \"AperWdt\", y = \"Length\")"
   ]
  },
  {
   "cell_type": "code",
   "execution_count": 11,
   "metadata": {
    "colab": {
     "base_uri": "https://localhost:8080/"
    },
    "id": "Aiiy9X7T5EPa",
    "outputId": "ba297e07-83a2-4b9d-f75c-e823e7367a7d"
   },
   "outputs": [
    {
     "name": "stderr",
     "output_type": "stream",
     "text": [
      "\u001b[1m\u001b[22m`geom_smooth()` using formula = 'y ~ x'\n"
     ]
    },
    {
     "data": {
      "image/png": "[encoded data removed]",
      "text/plain": [
       "plot without title"
      ]
     },
     "metadata": {
      "image/png": {
       "height": 420,
       "width": 420
      }
     },
     "output_type": "display_data"
    }
   ],
   "source": [
    "response = sqrt(snail$Length)\n",
    "predictor = snail$LU\n",
    "ggplot(snail, aes(x = predictor, y = response)) +\n",
    "  geom_point() +\n",
    "  geom_smooth(method = \"lm\", se = FALSE) +\n",
    "  labs(title = \"Length vs LU with Regression Line\", x = \"LU\", y = \"Length\")"
   ]
  },
  {
   "cell_type": "code",
   "execution_count": 12,
   "metadata": {
    "colab": {
     "base_uri": "https://localhost:8080/"
    },
    "id": "fbdeGjyy5zru",
    "outputId": "34e07c7b-1aad-4b28-c6f6-78f004065cce"
   },
   "outputs": [
    {
     "name": "stderr",
     "output_type": "stream",
     "text": [
      "\u001b[1m\u001b[22m`geom_smooth()` using formula = 'y ~ x'\n"
     ]
    },
    {
     "data": {
      "image/png": "[encoded data removed]",
      "text/plain": [
       "plot without title"
      ]
     },
     "metadata": {
      "image/png": {
       "height": 420,
       "width": 420
      }
     },
     "output_type": "display_data"
    }
   ],
   "source": [
    "response = sqrt(snail$Length)\n",
    "predictor = snail$LipWdt\n",
    "ggplot(snail, aes(x = predictor, y = response)) +\n",
    "  geom_point() +\n",
    "  geom_smooth(method = \"lm\", se = FALSE) +\n",
    "  labs(title = \"Length vs LipWdt with Regression Line\", x = \"LipWdt\", y = \"Length\")"
   ]
  },
  {
   "cell_type": "markdown",
   "metadata": {
    "id": "udtmLQW6-hRQ"
   },
   "source": [
    "# We can see the linear relationship between the repsonse Length and the predictor"
   ]
  },
  {
   "cell_type": "markdown",
   "metadata": {
    "id": "eRcefMMavEaN"
   },
   "source": [
    "#Do part (b) of Exercise 15 in Chapter 3 for this data.\n",
    "# Fit a multiple regression model to predict the response using\n",
    "#all of the predictors. Describe your results. For which predictors\n",
    "#can we reject the null hypothesis H0 : βj = 0?"
   ]
  },
  {
   "cell_type": "code",
   "execution_count": 13,
   "metadata": {
    "colab": {
     "base_uri": "https://localhost:8080/",
     "height": 320
    },
    "id": "r7XXEkL4vVPB",
    "outputId": "1af0ec32-118f-4937-e234-de42c492903f"
   },
   "outputs": [
    {
     "data": {
      "text/plain": [
       "\n",
       "Call:\n",
       "lm(formula = Length ~ ., data = snail)\n",
       "\n",
       "Residuals:\n",
       "     Min       1Q   Median       3Q      Max \n",
       "-1.71415 -0.23723 -0.03966  0.22707  1.95250 \n",
       "\n",
       "Coefficients:\n",
       "               Estimate Std. Error t value Pr(>|t|)    \n",
       "(Intercept)     1.08963    0.64828   1.681   0.0958 .  \n",
       "ShellTypeType2 -0.18429    0.10589  -1.740   0.0848 .  \n",
       "Width          -0.09897    0.24115  -0.410   0.6824    \n",
       "AperHt         -0.52159    0.21601  -2.415   0.0175 *  \n",
       "AperWdt         0.04369    0.20264   0.216   0.8297    \n",
       "LU              0.89316    0.04562  19.578   <2e-16 ***\n",
       "LipWdt         -0.57332    0.71363  -0.803   0.4236    \n",
       "---\n",
       "Signif. codes:  0 '***' 0.001 '**' 0.01 '*' 0.05 '.' 0.1 ' ' 1\n",
       "\n",
       "Residual standard error: 0.4687 on 103 degrees of freedom\n",
       "Multiple R-squared:  0.9207,\tAdjusted R-squared:  0.9161 \n",
       "F-statistic: 199.4 on 6 and 103 DF,  p-value: < 2.2e-16\n"
      ]
     },
     "metadata": {},
     "output_type": "display_data"
    }
   ],
   "source": [
    "# Fit the multiple regression model\n",
    "mulmod <- lm(Length ~ ., data = snail)\n",
    "# Summarize the model\n",
    "summary(mulmod)"
   ]
  },
  {
   "cell_type": "code",
   "execution_count": 14,
   "metadata": {
    "id": "swYR8FMIv76U"
   },
   "outputs": [],
   "source": [
    "#Both AperHt and LU are highly significant. We can reject null for AperHt and LU because AperHt and LU have p-values less than 0.05. Multiple R-squared value is 0.9207,\n",
    "#This indicates that approximately 92% of the variability in Length can be explained by the model."
   ]
  },
  {
   "cell_type": "markdown",
   "metadata": {
    "id": "ylJywWubEjeN"
   },
   "source": [
    "# Build a reasonably “good” multiple regression model for these data. Be sure to explore interactions of ShellType with other predictors. Carefully justify all the choices you make in building the model and verify the model assumptions."
   ]
  },
  {
   "cell_type": "code",
   "execution_count": 15,
   "metadata": {
    "colab": {
     "base_uri": "https://localhost:8080/",
     "height": 320
    },
    "id": "mCTpCU_nEzAZ",
    "outputId": "b16588d5-9e78-4221-e51e-5a7254a78835"
   },
   "outputs": [
    {
     "data": {
      "text/plain": [
       "\n",
       "Call:\n",
       "lm(formula = Length ~ ., data = snail)\n",
       "\n",
       "Residuals:\n",
       "     Min       1Q   Median       3Q      Max \n",
       "-1.71415 -0.23723 -0.03966  0.22707  1.95250 \n",
       "\n",
       "Coefficients:\n",
       "               Estimate Std. Error t value Pr(>|t|)    \n",
       "(Intercept)     1.08963    0.64828   1.681   0.0958 .  \n",
       "ShellTypeType2 -0.18429    0.10589  -1.740   0.0848 .  \n",
       "Width          -0.09897    0.24115  -0.410   0.6824    \n",
       "AperHt         -0.52159    0.21601  -2.415   0.0175 *  \n",
       "AperWdt         0.04369    0.20264   0.216   0.8297    \n",
       "LU              0.89316    0.04562  19.578   <2e-16 ***\n",
       "LipWdt         -0.57332    0.71363  -0.803   0.4236    \n",
       "---\n",
       "Signif. codes:  0 '***' 0.001 '**' 0.01 '*' 0.05 '.' 0.1 ' ' 1\n",
       "\n",
       "Residual standard error: 0.4687 on 103 degrees of freedom\n",
       "Multiple R-squared:  0.9207,\tAdjusted R-squared:  0.9161 \n",
       "F-statistic: 199.4 on 6 and 103 DF,  p-value: < 2.2e-16\n"
      ]
     },
     "metadata": {},
     "output_type": "display_data"
    }
   ],
   "source": [
    "# Fit the multiple regression model\n",
    "mulmod <- lm(Length ~ ., data = snail)\n",
    "# Summarize the model\n",
    "summary(mulmod)"
   ]
  },
  {
   "cell_type": "markdown",
   "metadata": {
    "id": "rV7a5SJlcTtb"
   },
   "source": [
    "Luke models"
   ]
  },
  {
   "cell_type": "code",
   "execution_count": 16,
   "metadata": {
    "colab": {
     "base_uri": "https://localhost:8080/",
     "height": 356
    },
    "id": "WyL9HbkaStF7",
    "outputId": "1de8625a-ac52-4d2e-c52f-aff113a6f7c6"
   },
   "outputs": [
    {
     "data": {
      "text/plain": [
       "\n",
       "Call:\n",
       "lm(formula = Length ~ LU + AperHt + ShellType + LipWdt + Width, \n",
       "    data = snail)\n",
       "\n",
       "Residuals:\n",
       "    Min      1Q  Median      3Q     Max \n",
       "-1.7285 -0.2374 -0.0356  0.2182  1.9600 \n",
       "\n",
       "Coefficients:\n",
       "               Estimate Std. Error t value Pr(>|t|)    \n",
       "(Intercept)     1.10326    0.64223   1.718   0.0888 .  \n",
       "LU              0.89293    0.04540  19.668   <2e-16 ***\n",
       "AperHt         -0.50148    0.19393  -2.586   0.0111 *  \n",
       "ShellTypeType2 -0.18464    0.10539  -1.752   0.0827 .  \n",
       "LipWdt         -0.56073    0.70797  -0.792   0.4301    \n",
       "Width          -0.09266    0.23827  -0.389   0.6982    \n",
       "---\n",
       "Signif. codes:  0 '***' 0.001 '**' 0.01 '*' 0.05 '.' 0.1 ' ' 1\n",
       "\n",
       "Residual standard error: 0.4666 on 104 degrees of freedom\n",
       "Multiple R-squared:  0.9207,\tAdjusted R-squared:  0.9169 \n",
       "F-statistic: 241.5 on 5 and 104 DF,  p-value: < 2.2e-16\n"
      ]
     },
     "metadata": {},
     "output_type": "display_data"
    },
    {
     "data": {
      "text/plain": [
       "\n",
       "Call:\n",
       "lm(formula = Length ~ LU + AperHt + ShellType + LipWdt, data = snail)\n",
       "\n",
       "Residuals:\n",
       "     Min       1Q   Median       3Q      Max \n",
       "-1.70399 -0.24936 -0.04013  0.22455  1.97920 \n",
       "\n",
       "Coefficients:\n",
       "               Estimate Std. Error t value Pr(>|t|)    \n",
       "(Intercept)     0.91700    0.42614   2.152  0.03370 *  \n",
       "LU              0.88693    0.04252  20.857  < 2e-16 ***\n",
       "AperHt         -0.52156    0.18617  -2.802  0.00606 ** \n",
       "ShellTypeType2 -0.17534    0.10223  -1.715  0.08926 .  \n",
       "LipWdt         -0.54055    0.70321  -0.769  0.44380    \n",
       "---\n",
       "Signif. codes:  0 '***' 0.001 '**' 0.01 '*' 0.05 '.' 0.1 ' ' 1\n",
       "\n",
       "Residual standard error: 0.4647 on 105 degrees of freedom\n",
       "Multiple R-squared:  0.9206,\tAdjusted R-squared:  0.9175 \n",
       "F-statistic: 304.3 on 4 and 105 DF,  p-value: < 2.2e-16\n"
      ]
     },
     "metadata": {},
     "output_type": "display_data"
    },
    {
     "data": {
      "text/plain": [
       "\n",
       "Call:\n",
       "lm(formula = Length ~ LU + AperHt + ShellType + Width, data = snail)\n",
       "\n",
       "Residuals:\n",
       "     Min       1Q   Median       3Q      Max \n",
       "-1.73878 -0.22480 -0.02943  0.22177  1.93821 \n",
       "\n",
       "Coefficients:\n",
       "               Estimate Std. Error t value Pr(>|t|)    \n",
       "(Intercept)     1.00052    0.62787   1.594  0.11405    \n",
       "LU              0.89319    0.04532  19.710  < 2e-16 ***\n",
       "AperHt         -0.54895    0.18411  -2.982  0.00356 ** \n",
       "ShellTypeType2 -0.15429    0.09800  -1.574  0.11843    \n",
       "Width          -0.07883    0.23720  -0.332  0.74031    \n",
       "---\n",
       "Signif. codes:  0 '***' 0.001 '**' 0.01 '*' 0.05 '.' 0.1 ' ' 1\n",
       "\n",
       "Residual standard error: 0.4658 on 105 degrees of freedom\n",
       "Multiple R-squared:  0.9202,\tAdjusted R-squared:  0.9172 \n",
       "F-statistic: 302.7 on 4 and 105 DF,  p-value: < 2.2e-16\n"
      ]
     },
     "metadata": {},
     "output_type": "display_data"
    }
   ],
   "source": [
    "mod_sig <- lm(Length ~ LU + AperHt + ShellType + LipWdt + Width ,  data = snail)\n",
    "summary(mod_sig)\n",
    "\n",
    "mod_sig2 <- lm(Length ~ LU + AperHt + ShellType + LipWdt ,  data = snail)\n",
    "summary(mod_sig2)\n",
    "\n",
    "mod_sig3 <- lm(Length ~ LU + AperHt + ShellType + Width ,  data = snail)\n",
    "summary(mod_sig3)"
   ]
  },
  {
   "cell_type": "markdown",
   "metadata": {
    "id": "IPqSYi9-fC7k"
   },
   "source": [
    "Find the best model without interaction"
   ]
  },
  {
   "cell_type": "code",
   "execution_count": 17,
   "metadata": {
    "colab": {
     "base_uri": "https://localhost:8080/",
     "height": 1000
    },
    "id": "PuiR1dd-dxKs",
    "outputId": "2f619d65-271f-41bc-a01d-fbd7b67e9381"
   },
   "outputs": [
    {
     "name": "stdout",
     "output_type": "stream",
     "text": [
      "Start:  AIC=-159.93\n",
      "Length ~ ShellType + Width + AperHt + AperWdt + LU + LipWdt\n",
      "\n",
      "            Df Sum of Sq     RSS      AIC\n",
      "- AperWdt    1     0.010  22.641 -161.878\n",
      "- Width      1     0.037  22.668 -161.748\n",
      "- LipWdt     1     0.142  22.773 -161.241\n",
      "<none>                    22.631 -159.928\n",
      "- ShellType  1     0.666  23.296 -158.740\n",
      "- AperHt     1     1.281  23.912 -155.871\n",
      "- LU         1    84.214 106.845    8.798\n",
      "\n",
      "Step:  AIC=-161.88\n",
      "Length ~ ShellType + Width + AperHt + LU + LipWdt\n",
      "\n",
      "            Df Sum of Sq     RSS      AIC\n",
      "- Width      1     0.033  22.674 -163.718\n",
      "- LipWdt     1     0.137  22.778 -163.217\n",
      "<none>                    22.641 -161.878\n",
      "- ShellType  1     0.668  23.309 -160.679\n",
      "+ AperWdt    1     0.010  22.631 -159.928\n",
      "- AperHt     1     1.456  24.097 -157.024\n",
      "- LU         1    84.217 106.858    6.812\n",
      "\n",
      "Step:  AIC=-163.72\n",
      "Length ~ ShellType + AperHt + LU + LipWdt\n",
      "\n",
      "            Df Sum of Sq     RSS      AIC\n",
      "- LipWdt     1     0.128  22.802 -165.101\n",
      "<none>                    22.674 -163.718\n",
      "- ShellType  1     0.635  23.309 -162.679\n",
      "+ Width      1     0.033  22.641 -161.878\n",
      "+ AperWdt    1     0.006  22.668 -161.748\n",
      "- AperHt     1     1.695  24.369 -157.789\n",
      "- LU         1    93.939 116.614   14.422\n",
      "\n",
      "Step:  AIC=-165.1\n",
      "Length ~ ShellType + AperHt + LU\n",
      "\n",
      "            Df Sum of Sq     RSS     AIC\n",
      "<none>                    22.802 -165.10\n",
      "- ShellType  1     0.514  23.315 -164.65\n",
      "+ LipWdt     1     0.128  22.674 -163.72\n",
      "+ Width      1     0.024  22.778 -163.22\n",
      "+ AperWdt    1     0.003  22.799 -163.11\n",
      "- AperHt     1     2.185  24.986 -157.04\n",
      "- LU         1    94.287 117.089   12.87\n"
     ]
    },
    {
     "data": {
      "text/plain": [
       "\n",
       "Call:\n",
       "lm(formula = Length ~ ShellType + AperHt + LU, data = snail)\n",
       "\n",
       "Residuals:\n",
       "     Min       1Q   Median       3Q      Max \n",
       "-1.71755 -0.23896 -0.03865  0.23168  1.95533 \n",
       "\n",
       "Coefficients:\n",
       "               Estimate Std. Error t value Pr(>|t|)    \n",
       "(Intercept)     0.84437    0.41473   2.036  0.04425 *  \n",
       "ShellTypeType2 -0.14727    0.09530  -1.545  0.12524    \n",
       "AperHt         -0.56467    0.17718  -3.187  0.00189 ** \n",
       "LU              0.88805    0.04242  20.936  < 2e-16 ***\n",
       "---\n",
       "Signif. codes:  0 '***' 0.001 '**' 0.01 '*' 0.05 '.' 0.1 ' ' 1\n",
       "\n",
       "Residual standard error: 0.4638 on 106 degrees of freedom\n",
       "Multiple R-squared:  0.9201,\tAdjusted R-squared:  0.9179 \n",
       "F-statistic:   407 on 3 and 106 DF,  p-value: < 2.2e-16\n"
      ]
     },
     "metadata": {},
     "output_type": "display_data"
    }
   ],
   "source": [
    "mod_sig0 <- lm(Length ~., data = snail)\n",
    "stepmod0 <- stepAIC(mod_sig0, direction = \"both\")\n",
    "summary(stepmod0)"
   ]
  },
  {
   "cell_type": "code",
   "execution_count": 18,
   "metadata": {
    "colab": {
     "base_uri": "https://localhost:8080/",
     "height": 218
    },
    "id": "2jT6LO2aE5fi",
    "outputId": "f264d756-854d-42cf-c041-0765472e0b34"
   },
   "outputs": [
    {
     "data": {
      "text/plain": [
       "ShellType\n",
       "Type1 Type2 \n",
       "   41    69 "
      ]
     },
     "metadata": {},
     "output_type": "display_data"
    },
    {
     "name": "stdout",
     "output_type": "stream",
     "text": [
      "'data.frame':\t110 obs. of  7 variables:\n",
      " $ ShellType: Factor w/ 2 levels \"Type1\",\"Type2\": 1 1 1 1 1 1 1 1 1 1 ...\n",
      " $ Width    : num  4.04 3.77 3.86 4.13 4.25 4.16 3.87 3.91 3.99 4.02 ...\n",
      " $ Length   : num  14.4 13.1 13.6 13.9 15.1 ...\n",
      " $ AperHt   : num  3.7 3.54 3.33 3.49 3.99 3.38 3.41 3.95 3.36 3.81 ...\n",
      " $ AperWdt  : num  2.58 2.46 2.06 2.42 2.66 2.08 2.32 2.82 2.78 2.7 ...\n",
      " $ LU       : num  17.9 16.6 16.9 16.8 19 ...\n",
      " $ LipWdt   : num  0.35 0.39 0.32 0.43 0.48 0.5 0.26 0.49 0.26 0.43 ...\n"
     ]
    }
   ],
   "source": [
    "attach(snail)\n",
    "snail$ShellType <- as.factor(snail$ShellType)\n",
    "table(ShellType)\n",
    "str(snail)"
   ]
  },
  {
   "cell_type": "code",
   "execution_count": 19,
   "metadata": {
    "colab": {
     "base_uri": "https://localhost:8080/",
     "height": 547
    },
    "id": "HJttjY1mLsI_",
    "outputId": "fcbd6b46-a3f6-4981-d479-78ab8f7b82c5"
   },
   "outputs": [
    {
     "data": {
      "text/plain": [
       "\n",
       "Call:\n",
       "lm(formula = Length ~ ShellType * (Width + AperHt + AperWdt + \n",
       "    LU + LipWdt), data = snail)\n",
       "\n",
       "Residuals:\n",
       "     Min       1Q   Median       3Q      Max \n",
       "-1.67379 -0.20710 -0.01283  0.23154  1.83834 \n",
       "\n",
       "Coefficients:\n",
       "                       Estimate Std. Error t value Pr(>|t|)    \n",
       "(Intercept)             2.32754    1.16273   2.002   0.0481 *  \n",
       "ShellTypeType2         -1.86899    1.38227  -1.352   0.1795    \n",
       "Width                  -0.30080    0.42547  -0.707   0.4813    \n",
       "AperHt                 -0.89128    0.46020  -1.937   0.0557 .  \n",
       "AperWdt                -0.35909    0.47211  -0.761   0.4487    \n",
       "LU                      0.99146    0.06098  16.260   <2e-16 ***\n",
       "LipWdt                 -0.16019    1.02097  -0.157   0.8756    \n",
       "ShellTypeType2:Width    0.23242    0.53099   0.438   0.6626    \n",
       "ShellTypeType2:AperHt   0.59947    0.52951   1.132   0.2603    \n",
       "ShellTypeType2:AperWdt  0.57740    0.52627   1.097   0.2753    \n",
       "ShellTypeType2:LU      -0.14882    0.09685  -1.537   0.1276    \n",
       "ShellTypeType2:LipWdt  -0.40877    1.41117  -0.290   0.7727    \n",
       "---\n",
       "Signif. codes:  0 '***' 0.001 '**' 0.01 '*' 0.05 '.' 0.1 ' ' 1\n",
       "\n",
       "Residual standard error: 0.4592 on 98 degrees of freedom\n",
       "Multiple R-squared:  0.9276,\tAdjusted R-squared:  0.9195 \n",
       "F-statistic: 114.2 on 11 and 98 DF,  p-value: < 2.2e-16\n"
      ]
     },
     "metadata": {},
     "output_type": "display_data"
    }
   ],
   "source": [
    "# Fit initial model with interactions\n",
    "initial_model <- lm(Length ~ ShellType * (Width + AperHt + AperWdt + LU + LipWdt), data = snail)\n",
    "summary(initial_model)"
   ]
  },
  {
   "cell_type": "code",
   "execution_count": 20,
   "metadata": {
    "colab": {
     "base_uri": "https://localhost:8080/",
     "height": 1000
    },
    "id": "_6DeF7gqOX5o",
    "outputId": "d076addc-a41b-47ac-bad0-1821b4075194"
   },
   "outputs": [
    {
     "name": "stdout",
     "output_type": "stream",
     "text": [
      "Start:  AIC=-159.92\n",
      "Length ~ ShellType * (Width + AperHt + AperWdt + LU + LipWdt)\n",
      "\n",
      "                    Df Sum of Sq    RSS     AIC\n",
      "- ShellType:LipWdt   1   0.01769 20.683 -161.83\n",
      "- ShellType:Width    1   0.04040 20.705 -161.71\n",
      "- ShellType:AperWdt  1   0.25383 20.919 -160.58\n",
      "- ShellType:AperHt   1   0.27027 20.935 -160.50\n",
      "<none>                           20.665 -159.93\n",
      "- ShellType:LU       1   0.49789 21.163 -159.31\n",
      "\n",
      "Step:  AIC=-161.83\n",
      "Length ~ ShellType + Width + AperHt + AperWdt + LU + LipWdt + \n",
      "    ShellType:Width + ShellType:AperHt + ShellType:AperWdt + \n",
      "    ShellType:LU\n",
      "\n",
      "                    Df Sum of Sq    RSS     AIC\n",
      "- ShellType:Width    1   0.04184 20.724 -163.61\n",
      "- LipWdt             1   0.05942 20.742 -163.51\n",
      "- ShellType:AperWdt  1   0.24287 20.925 -162.55\n",
      "- ShellType:AperHt   1   0.25468 20.937 -162.48\n",
      "<none>                           20.683 -161.83\n",
      "- ShellType:LU       1   0.49497 21.178 -161.23\n",
      "+ ShellType:LipWdt   1   0.01769 20.665 -159.93\n",
      "\n",
      "Step:  AIC=-163.61\n",
      "Length ~ ShellType + Width + AperHt + AperWdt + LU + LipWdt + \n",
      "    ShellType:AperHt + ShellType:AperWdt + ShellType:LU\n",
      "\n",
      "                    Df Sum of Sq    RSS     AIC\n",
      "- Width              1   0.06792 20.792 -165.25\n",
      "- LipWdt             1   0.06956 20.794 -165.24\n",
      "- ShellType:AperWdt  1   0.23190 20.956 -164.38\n",
      "- ShellType:AperHt   1   0.33377 21.058 -163.85\n",
      "<none>                           20.724 -163.61\n",
      "- ShellType:LU       1   0.45474 21.179 -163.22\n",
      "+ ShellType:Width    1   0.04184 20.683 -161.83\n",
      "+ ShellType:LipWdt   1   0.01913 20.705 -161.71\n",
      "\n",
      "Step:  AIC=-165.25\n",
      "Length ~ ShellType + AperHt + AperWdt + LU + LipWdt + ShellType:AperHt + \n",
      "    ShellType:AperWdt + ShellType:LU\n",
      "\n",
      "                    Df Sum of Sq    RSS     AIC\n",
      "- LipWdt             1   0.06179 20.854 -166.92\n",
      "- ShellType:AperWdt  1   0.19325 20.986 -166.23\n",
      "<none>                           20.792 -165.25\n",
      "- ShellType:AperHt   1   0.42439 21.217 -165.03\n",
      "- ShellType:LU       1   0.60052 21.393 -164.12\n",
      "+ Width              1   0.06792 20.724 -163.61\n",
      "+ ShellType:LipWdt   1   0.01230 20.780 -163.31\n",
      "\n",
      "Step:  AIC=-166.92\n",
      "Length ~ ShellType + AperHt + AperWdt + LU + ShellType:AperHt + \n",
      "    ShellType:AperWdt + ShellType:LU\n",
      "\n",
      "                    Df Sum of Sq    RSS     AIC\n",
      "- ShellType:AperWdt  1   0.20793 21.062 -167.83\n",
      "<none>                           20.854 -166.92\n",
      "- ShellType:AperHt   1   0.42223 21.276 -166.72\n",
      "- ShellType:LU       1   0.59879 21.453 -165.81\n",
      "+ LipWdt             1   0.06179 20.792 -165.25\n",
      "+ Width              1   0.06015 20.794 -165.24\n",
      "\n",
      "Step:  AIC=-167.83\n",
      "Length ~ ShellType + AperHt + AperWdt + LU + ShellType:AperHt + \n",
      "    ShellType:LU\n",
      "\n",
      "                    Df Sum of Sq    RSS     AIC\n",
      "- AperWdt            1   0.05669 21.119 -169.53\n",
      "<none>                           21.062 -167.83\n",
      "+ ShellType:AperWdt  1   0.20793 20.854 -166.92\n",
      "- ShellType:LU       1   0.62128 21.683 -166.63\n",
      "+ LipWdt             1   0.07647 20.986 -166.23\n",
      "+ Width              1   0.02281 21.039 -165.95\n",
      "- ShellType:AperHt   1   1.53816 22.600 -162.08\n",
      "\n",
      "Step:  AIC=-169.53\n",
      "Length ~ ShellType + AperHt + LU + ShellType:AperHt + ShellType:LU\n",
      "\n",
      "                   Df Sum of Sq    RSS     AIC\n",
      "<none>                          21.119 -169.53\n",
      "- ShellType:LU      1   0.63054 21.749 -168.30\n",
      "+ LipWdt            1   0.06917 21.050 -167.90\n",
      "+ AperWdt           1   0.05669 21.062 -167.83\n",
      "+ Width             1   0.01231 21.107 -167.60\n",
      "- ShellType:AperHt  1   1.49833 22.617 -164.00\n"
     ]
    },
    {
     "data": {
      "text/plain": [
       "\n",
       "Call:\n",
       "lm(formula = Length ~ ShellType + AperHt + LU + ShellType:AperHt + \n",
       "    ShellType:LU, data = snail)\n",
       "\n",
       "Residuals:\n",
       "     Min       1Q   Median       3Q      Max \n",
       "-1.73407 -0.23568 -0.00713  0.22033  1.85943 \n",
       "\n",
       "Coefficients:\n",
       "                      Estimate Std. Error t value Pr(>|t|)    \n",
       "(Intercept)            1.52534    0.55619   2.743  0.00718 ** \n",
       "ShellTypeType2        -1.02220    0.80629  -1.268  0.20771    \n",
       "AperHt                -1.22721    0.28974  -4.236 4.94e-05 ***\n",
       "LU                     0.98462    0.05855  16.818  < 2e-16 ***\n",
       "ShellTypeType2:AperHt  0.99447    0.36611   2.716  0.00773 ** \n",
       "ShellTypeType2:LU     -0.15113    0.08576  -1.762  0.08098 .  \n",
       "---\n",
       "Signif. codes:  0 '***' 0.001 '**' 0.01 '*' 0.05 '.' 0.1 ' ' 1\n",
       "\n",
       "Residual standard error: 0.4506 on 104 degrees of freedom\n",
       "Multiple R-squared:  0.926,\tAdjusted R-squared:  0.9225 \n",
       "F-statistic: 260.4 on 5 and 104 DF,  p-value: < 2.2e-16\n"
      ]
     },
     "metadata": {},
     "output_type": "display_data"
    }
   ],
   "source": [
    "# Perform stepwise selection\n",
    "stepwise_model <- stepAIC(initial_model, direction = \"both\")\n",
    "summary(stepwise_model)"
   ]
  },
  {
   "cell_type": "code",
   "execution_count": 21,
   "metadata": {
    "colab": {
     "base_uri": "https://localhost:8080/",
     "height": 437
    },
    "id": "p_4mqhmIOlEP",
    "outputId": "2195b2c7-b147-473d-d908-7aaae1f29f03"
   },
   "outputs": [
    {
     "data": {
      "image/png": "[encoded data removed]",
      "text/plain": [
       "Plot with title \"\""
      ]
     },
     "metadata": {
      "image/png": {
       "height": 420,
       "width": 420
      }
     },
     "output_type": "display_data"
    }
   ],
   "source": [
    "# Residuals vs Fitted plot Linearity:\n",
    "plot(stepwise_model, which = 1)"
   ]
  },
  {
   "cell_type": "code",
   "execution_count": 22,
   "metadata": {
    "colab": {
     "base_uri": "https://localhost:8080/",
     "height": 249
    },
    "id": "jAQVwg9kOsSv",
    "outputId": "eb2cadda-a7a6-4fe5-889c-7a4f1d4f4095"
   },
   "outputs": [
    {
     "data": {
      "image/png": "[encoded data removed]",
      "text/plain": [
       "Plot with title \"\""
      ]
     },
     "metadata": {
      "image/png": {
       "height": 420,
       "width": 420
      }
     },
     "output_type": "display_data"
    }
   ],
   "source": [
    "# Scale-Location plot Homoscedasticity:\n",
    "plot(stepwise_model, which = 3)"
   ]
  },
  {
   "cell_type": "code",
   "execution_count": 23,
   "metadata": {
    "colab": {
     "base_uri": "https://localhost:8080/",
     "height": 249
    },
    "id": "Wuq-z3DnOzR4",
    "outputId": "e8a56c11-88b0-4c04-93bf-8e4f0f970fd9"
   },
   "outputs": [
    {
     "data": {
      "image/png": "[encoded data removed]",
      "text/plain": [
       "Plot with title \"\""
      ]
     },
     "metadata": {
      "image/png": {
       "height": 420,
       "width": 420
      }
     },
     "output_type": "display_data"
    }
   ],
   "source": [
    "# Q-Q plot Normality:\n",
    "plot(stepwise_model, which = 2)"
   ]
  },
  {
   "cell_type": "code",
   "execution_count": 24,
   "metadata": {
    "colab": {
     "base_uri": "https://localhost:8080/",
     "height": 72
    },
    "id": "CkUJ_p8fO2ia",
    "outputId": "4899c6b2-005d-40c2-c054-8a19ee54e71a"
   },
   "outputs": [
    {
     "data": {
      "text/plain": [
       "\n",
       "\tDurbin-Watson test\n",
       "\n",
       "data:  stepwise_model\n",
       "DW = 1.7913, p-value = 0.09104\n",
       "alternative hypothesis: true autocorrelation is greater than 0\n"
      ]
     },
     "metadata": {},
     "output_type": "display_data"
    }
   ],
   "source": [
    "# Durbin-Watson test Independence:\n",
    "dwtest(stepwise_model)"
   ]
  },
  {
   "cell_type": "code",
   "execution_count": 25,
   "metadata": {
    "colab": {
     "base_uri": "https://localhost:8080/",
     "height": 304
    },
    "id": "uS-c4lW0O9hy",
    "outputId": "81a7b76e-870c-4cc3-c675-b72739ec1ff6"
   },
   "outputs": [
    {
     "data": {
      "text/html": [
       "<table class=\"dataframe\">\n",
       "<caption>A anova: 2 × 6</caption>\n",
       "<thead>\n",
       "\t<tr><th></th><th scope=col>Res.Df</th><th scope=col>RSS</th><th scope=col>Df</th><th scope=col>Sum of Sq</th><th scope=col>F</th><th scope=col>Pr(&gt;F)</th></tr>\n",
       "\t<tr><th></th><th scope=col>&lt;dbl&gt;</th><th scope=col>&lt;dbl&gt;</th><th scope=col>&lt;dbl&gt;</th><th scope=col>&lt;dbl&gt;</th><th scope=col>&lt;dbl&gt;</th><th scope=col>&lt;dbl&gt;</th></tr>\n",
       "</thead>\n",
       "<tbody>\n",
       "\t<tr><th scope=row>1</th><td>106</td><td>22.80166</td><td>NA</td><td>      NA</td><td>      NA</td><td>        NA</td></tr>\n",
       "\t<tr><th scope=row>2</th><td>104</td><td>21.11882</td><td> 2</td><td>1.682836</td><td>4.143577</td><td>0.01855965</td></tr>\n",
       "</tbody>\n",
       "</table>\n"
      ],
      "text/latex": [
       "A anova: 2 × 6\n",
       "\\begin{tabular}{r|llllll}\n",
       "  & Res.Df & RSS & Df & Sum of Sq & F & Pr(>F)\\\\\n",
       "  & <dbl> & <dbl> & <dbl> & <dbl> & <dbl> & <dbl>\\\\\n",
       "\\hline\n",
       "\t1 & 106 & 22.80166 & NA &       NA &       NA &         NA\\\\\n",
       "\t2 & 104 & 21.11882 &  2 & 1.682836 & 4.143577 & 0.01855965\\\\\n",
       "\\end{tabular}\n"
      ],
      "text/markdown": [
       "\n",
       "A anova: 2 × 6\n",
       "\n",
       "| <!--/--> | Res.Df &lt;dbl&gt; | RSS &lt;dbl&gt; | Df &lt;dbl&gt; | Sum of Sq &lt;dbl&gt; | F &lt;dbl&gt; | Pr(&gt;F) &lt;dbl&gt; |\n",
       "|---|---|---|---|---|---|---|\n",
       "| 1 | 106 | 22.80166 | NA |       NA |       NA |         NA |\n",
       "| 2 | 104 | 21.11882 |  2 | 1.682836 | 4.143577 | 0.01855965 |\n",
       "\n"
      ],
      "text/plain": [
       "  Res.Df RSS      Df Sum of Sq F        Pr(>F)    \n",
       "1 106    22.80166 NA       NA        NA         NA\n",
       "2 104    21.11882  2 1.682836  4.143577 0.01855965"
      ]
     },
     "metadata": {},
     "output_type": "display_data"
    },
    {
     "data": {
      "text/html": [
       "<table class=\"dataframe\">\n",
       "<caption>A anova: 2 × 6</caption>\n",
       "<thead>\n",
       "\t<tr><th></th><th scope=col>Res.Df</th><th scope=col>RSS</th><th scope=col>Df</th><th scope=col>Sum of Sq</th><th scope=col>F</th><th scope=col>Pr(&gt;F)</th></tr>\n",
       "\t<tr><th></th><th scope=col>&lt;dbl&gt;</th><th scope=col>&lt;dbl&gt;</th><th scope=col>&lt;dbl&gt;</th><th scope=col>&lt;dbl&gt;</th><th scope=col>&lt;dbl&gt;</th><th scope=col>&lt;dbl&gt;</th></tr>\n",
       "</thead>\n",
       "<tbody>\n",
       "\t<tr><th scope=row>1</th><td>105</td><td>22.67406</td><td>NA</td><td>      NA</td><td>      NA</td><td>         NA</td></tr>\n",
       "\t<tr><th scope=row>2</th><td>104</td><td>21.11882</td><td> 1</td><td>1.555237</td><td>7.658791</td><td>0.006688854</td></tr>\n",
       "</tbody>\n",
       "</table>\n"
      ],
      "text/latex": [
       "A anova: 2 × 6\n",
       "\\begin{tabular}{r|llllll}\n",
       "  & Res.Df & RSS & Df & Sum of Sq & F & Pr(>F)\\\\\n",
       "  & <dbl> & <dbl> & <dbl> & <dbl> & <dbl> & <dbl>\\\\\n",
       "\\hline\n",
       "\t1 & 105 & 22.67406 & NA &       NA &       NA &          NA\\\\\n",
       "\t2 & 104 & 21.11882 &  1 & 1.555237 & 7.658791 & 0.006688854\\\\\n",
       "\\end{tabular}\n"
      ],
      "text/markdown": [
       "\n",
       "A anova: 2 × 6\n",
       "\n",
       "| <!--/--> | Res.Df &lt;dbl&gt; | RSS &lt;dbl&gt; | Df &lt;dbl&gt; | Sum of Sq &lt;dbl&gt; | F &lt;dbl&gt; | Pr(&gt;F) &lt;dbl&gt; |\n",
       "|---|---|---|---|---|---|---|\n",
       "| 1 | 105 | 22.67406 | NA |       NA |       NA |          NA |\n",
       "| 2 | 104 | 21.11882 |  1 | 1.555237 | 7.658791 | 0.006688854 |\n",
       "\n"
      ],
      "text/plain": [
       "  Res.Df RSS      Df Sum of Sq F        Pr(>F)     \n",
       "1 105    22.67406 NA       NA        NA          NA\n",
       "2 104    21.11882  1 1.555237  7.658791 0.006688854"
      ]
     },
     "metadata": {},
     "output_type": "display_data"
    }
   ],
   "source": [
    "mulmod = lm(Length ~ ShellType + AperHt + LU, data = snail)\n",
    "anova(mulmod,stepwise_model)\n",
    "anova(mod_sig2, stepwise_model)"
   ]
  },
  {
   "cell_type": "code",
   "execution_count": 26,
   "metadata": {
    "id": "0mR6qCUITxsv"
   },
   "outputs": [],
   "source": [
    "#The p-value (Pr(>F)) is 0.018560, which is less than 0.05.\n",
    "#This indicates that the stepwise model provides a significantly better fit to the data\n",
    "#That means the interations of Shelltype with AperHt and LU benefit the model"
   ]
  },
  {
   "cell_type": "markdown",
   "metadata": {
    "id": "RXQmIvOPC6bm"
   },
   "source": [
    "#Boosting method"
   ]
  },
  {
   "cell_type": "code",
   "execution_count": 27,
   "metadata": {
    "id": "CgaJAi6kGQLI"
   },
   "outputs": [],
   "source": [
    "set.seed(1)\n",
    "train <- sample(1:nrow(snail), nrow(snail) / 2)"
   ]
  },
  {
   "cell_type": "code",
   "execution_count": 28,
   "metadata": {
    "id": "ULimnNLGIYTl"
   },
   "outputs": [],
   "source": [
    "snail$ShellType <- as.factor(snail$ShellType)"
   ]
  },
  {
   "cell_type": "code",
   "execution_count": 29,
   "metadata": {
    "colab": {
     "base_uri": "https://localhost:8080/"
    },
    "id": "FOCeQQe2Tx9H",
    "outputId": "83b08b8a-facf-46ad-fb12-0fc0164658eb"
   },
   "outputs": [
    {
     "name": "stderr",
     "output_type": "stream",
     "text": [
      "Warning message:\n",
      "\"package 'gbm' is in use and will not be installed\"\n"
     ]
    }
   ],
   "source": [
    "install.packages(\"gbm\")\n",
    "library(gbm)"
   ]
  },
  {
   "cell_type": "code",
   "execution_count": 30,
   "metadata": {
    "colab": {
     "base_uri": "https://localhost:8080/",
     "height": 72
    },
    "id": "pTg_0c-oJty1",
    "outputId": "cc856863-c095-4085-c69e-f15a3e6aac01"
   },
   "outputs": [],
   "source": [
    "boost.snail <- gbm(Length ~ ., data = snail[train, ],\n",
    "                    distribution = \"gaussian\", n.trees = 5000,\n",
    "                    interaction.depth = 4)"
   ]
  },
  {
   "cell_type": "code",
   "execution_count": 31,
   "metadata": {
    "colab": {
     "base_uri": "https://localhost:8080/",
     "height": 1000
    },
    "id": "-8i4pfWAJ3OQ",
    "outputId": "0b2e2da5-cde1-4227-9c2c-33cb2fe60d7c"
   },
   "outputs": [
    {
     "data": {
      "text/html": [
       "<table class=\"dataframe\">\n",
       "<caption>A data.frame: 6 × 2</caption>\n",
       "<thead>\n",
       "\t<tr><th></th><th scope=col>var</th><th scope=col>rel.inf</th></tr>\n",
       "\t<tr><th></th><th scope=col>&lt;chr&gt;</th><th scope=col>&lt;dbl&gt;</th></tr>\n",
       "</thead>\n",
       "<tbody>\n",
       "\t<tr><th scope=row>LU</th><td>LU       </td><td>32.351753</td></tr>\n",
       "\t<tr><th scope=row>LipWdt</th><td>LipWdt   </td><td>25.024479</td></tr>\n",
       "\t<tr><th scope=row>Width</th><td>Width    </td><td>14.828090</td></tr>\n",
       "\t<tr><th scope=row>AperWdt</th><td>AperWdt  </td><td>14.648203</td></tr>\n",
       "\t<tr><th scope=row>AperHt</th><td>AperHt   </td><td> 7.884400</td></tr>\n",
       "\t<tr><th scope=row>ShellType</th><td>ShellType</td><td> 5.263075</td></tr>\n",
       "</tbody>\n",
       "</table>\n"
      ],
      "text/latex": [
       "A data.frame: 6 × 2\n",
       "\\begin{tabular}{r|ll}\n",
       "  & var & rel.inf\\\\\n",
       "  & <chr> & <dbl>\\\\\n",
       "\\hline\n",
       "\tLU & LU        & 32.351753\\\\\n",
       "\tLipWdt & LipWdt    & 25.024479\\\\\n",
       "\tWidth & Width     & 14.828090\\\\\n",
       "\tAperWdt & AperWdt   & 14.648203\\\\\n",
       "\tAperHt & AperHt    &  7.884400\\\\\n",
       "\tShellType & ShellType &  5.263075\\\\\n",
       "\\end{tabular}\n"
      ],
      "text/markdown": [
       "\n",
       "A data.frame: 6 × 2\n",
       "\n",
       "| <!--/--> | var &lt;chr&gt; | rel.inf &lt;dbl&gt; |\n",
       "|---|---|---|\n",
       "| LU | LU        | 32.351753 |\n",
       "| LipWdt | LipWdt    | 25.024479 |\n",
       "| Width | Width     | 14.828090 |\n",
       "| AperWdt | AperWdt   | 14.648203 |\n",
       "| AperHt | AperHt    |  7.884400 |\n",
       "| ShellType | ShellType |  5.263075 |\n",
       "\n"
      ],
      "text/plain": [
       "          var       rel.inf  \n",
       "LU        LU        32.351753\n",
       "LipWdt    LipWdt    25.024479\n",
       "Width     Width     14.828090\n",
       "AperWdt   AperWdt   14.648203\n",
       "AperHt    AperHt     7.884400\n",
       "ShellType ShellType  5.263075"
      ]
     },
     "metadata": {},
     "output_type": "display_data"
    },
    {
     "data": {
      "image/png": "[encoded data removed]",
      "text/plain": [
       "plot without title"
      ]
     },
     "metadata": {
      "image/png": {
       "height": 420,
       "width": 420
      }
     },
     "output_type": "display_data"
    },
    {
     "data": {
      "image/png": "[encoded data removed]",
      "text/plain": [
       "plot without title"
      ]
     },
     "metadata": {
      "image/png": {
       "height": 420,
       "width": 420
      }
     },
     "output_type": "display_data"
    },
    {
     "data": {
      "image/png": "[encoded data removed]",
      "text/plain": [
       "plot without title"
      ]
     },
     "metadata": {
      "image/png": {
       "height": 420,
       "width": 420
      }
     },
     "output_type": "display_data"
    }
   ],
   "source": [
    "summary(boost.snail)\n",
    "plot(boost.snail, i = \"LU\")\n",
    "plot(boost.snail, i = \"AperWdt\")"
   ]
  },
  {
   "cell_type": "markdown",
   "metadata": {
    "id": "Zae2uCRshEqE"
   },
   "source": [
    "# Tree model"
   ]
  },
  {
   "cell_type": "code",
   "execution_count": 32,
   "metadata": {
    "colab": {
     "base_uri": "https://localhost:8080/",
     "height": 200
    },
    "id": "ScUDKWAMVB4_",
    "outputId": "0aa90944-c9f6-4a12-efb7-71267d5dadc3"
   },
   "outputs": [
    {
     "data": {
      "text/plain": [
       "\n",
       "Regression tree:\n",
       "tree(formula = stepmod0, data = snail)\n",
       "Variables actually used in tree construction:\n",
       "[1] \"LU\"\n",
       "Number of terminal nodes:  7 \n",
       "Residual mean deviance:  0.2551 = 26.28 / 103 \n",
       "Distribution of residuals:\n",
       "    Min.  1st Qu.   Median     Mean  3rd Qu.     Max. \n",
       "-1.42300 -0.24050 -0.02676  0.00000  0.24310  1.54700 "
      ]
     },
     "metadata": {},
     "output_type": "display_data"
    }
   ],
   "source": [
    "tree_mod <- tree(stepmod0, data = snail)\n",
    "summary(tree_mod)"
   ]
  },
  {
   "cell_type": "code",
   "execution_count": 33,
   "metadata": {
    "colab": {
     "base_uri": "https://localhost:8080/",
     "height": 437
    },
    "id": "5qriCExKg6F9",
    "outputId": "75f916fc-f0fc-4e3a-c6cc-383659595bde"
   },
   "outputs": [
    {
     "data": {
      "image/png": "[encoded data removed]",
      "text/plain": [
       "plot without title"
      ]
     },
     "metadata": {
      "image/png": {
       "height": 420,
       "width": 420
      }
     },
     "output_type": "display_data"
    }
   ],
   "source": [
    "plot(tree_mod)\n",
    "text(tree_mod,pretty = 0)"
   ]
  },
  {
   "cell_type": "markdown",
   "metadata": {
    "id": "J-WtObQYODf6"
   },
   "source": [
    "Getting average and catergorized Long or not"
   ]
  },
  {
   "cell_type": "code",
   "execution_count": 34,
   "metadata": {
    "colab": {
     "base_uri": "https://localhost:8080/",
     "height": 34
    },
    "id": "UKt2OGDnhXMh",
    "outputId": "f9e1e50a-3d05-4978-f499-0da5af1d3858"
   },
   "outputs": [
    {
     "data": {
      "text/html": [
       "13.9372727272727"
      ],
      "text/latex": [
       "13.9372727272727"
      ],
      "text/markdown": [
       "13.9372727272727"
      ],
      "text/plain": [
       "[1] 13.93727"
      ]
     },
     "metadata": {},
     "output_type": "display_data"
    }
   ],
   "source": [
    "avg <- mean(snail$Length, na.rm = TRUE)\n",
    "avg"
   ]
  },
  {
   "cell_type": "code",
   "execution_count": 35,
   "metadata": {
    "id": "zj-FG2SznPU_"
   },
   "outputs": [],
   "source": [
    "Long <- factor(ifelse(snail$Length <= 13, \"No\", \"Yes\"))"
   ]
  },
  {
   "cell_type": "code",
   "execution_count": 36,
   "metadata": {
    "id": "kj_uyP-HocRI"
   },
   "outputs": [],
   "source": [
    "snail <- data.frame(snail, Long)"
   ]
  },
  {
   "cell_type": "code",
   "execution_count": 37,
   "metadata": {
    "colab": {
     "base_uri": "https://localhost:8080/",
     "height": 163
    },
    "id": "0-MMwRBaovaM",
    "outputId": "24ee28f8-7e2b-4c76-cd98-2d859102928b"
   },
   "outputs": [
    {
     "data": {
      "text/plain": [
       "\n",
       "Classification tree:\n",
       "tree(formula = Long ~ . - Length, data = snail)\n",
       "Variables actually used in tree construction:\n",
       "[1] \"LU\"      \"AperHt\"  \"AperWdt\"\n",
       "Number of terminal nodes:  5 \n",
       "Residual mean deviance:  0.1523 = 15.99 / 105 \n",
       "Misclassification error rate: 0.03636 = 4 / 110 "
      ]
     },
     "metadata": {},
     "output_type": "display_data"
    }
   ],
   "source": [
    "tree.Long <- tree(Long ~ . - Length, snail)\n",
    "summary(tree.Long)"
   ]
  },
  {
   "cell_type": "code",
   "execution_count": 38,
   "metadata": {
    "colab": {
     "base_uri": "https://localhost:8080/",
     "height": 437
    },
    "id": "dEqdb9rZo8_s",
    "outputId": "248ec607-3539-475a-8545-0a7c07de2fef"
   },
   "outputs": [
    {
     "data": {
      "image/png": "[encoded data removed]",
      "text/plain": [
       "plot without title"
      ]
     },
     "metadata": {
      "image/png": {
       "height": 420,
       "width": 420
      }
     },
     "output_type": "display_data"
    }
   ],
   "source": [
    "plot(tree.Long)\n",
    "text(tree.Long,pretty = 1)"
   ]
  },
  {
   "cell_type": "code",
   "execution_count": null,
   "metadata": {
    "id": "oRZQ-1TrpGOy"
   },
   "outputs": [],
   "source": []
  },
  {
   "cell_type": "markdown",
   "metadata": {
    "id": "YEUyCyJCK6KD"
   },
   "source": [
    "# Random Forest"
   ]
  },
  {
   "cell_type": "code",
   "execution_count": 39,
   "metadata": {
    "colab": {
     "base_uri": "https://localhost:8080/"
    },
    "id": "m_eL1vXiLFq1",
    "outputId": "f7a46e3d-363f-4cca-9f1b-5da61bd948c6"
   },
   "outputs": [
    {
     "data": {
      "text/plain": [
       "\n",
       "Call:\n",
       " randomForest(formula = Length ~ ., data = snail, mtry = ncol(snail) -      1, importance = TRUE, subset = train) \n",
       "               Type of random forest: regression\n",
       "                     Number of trees: 500\n",
       "No. of variables tried at each split: 7\n",
       "\n",
       "          Mean of squared residuals: 0.3464161\n",
       "                    % Var explained: 87.03"
      ]
     },
     "metadata": {},
     "output_type": "display_data"
    }
   ],
   "source": [
    "tree.snail <- tree(Length ~ ., snail, subset = train)\n",
    "bag.snail <- randomForest(Length ~ ., data = snail,\n",
    "                           subset = train, mtry = ncol(snail)-1, importance = TRUE)\n",
    "bag.snail"
   ]
  },
  {
   "cell_type": "code",
   "execution_count": 40,
   "metadata": {
    "colab": {
     "base_uri": "https://localhost:8080/"
    },
    "id": "vfPhAdLmMF9Q",
    "outputId": "9904959c-2a7a-40d7-af6d-b94b6cae173b"
   },
   "outputs": [
    {
     "name": "stdout",
     "output_type": "stream",
     "text": [
      " Named num [1:55] 13.6 13.2 15.8 13.3 12.8 ...\n",
      " - attr(*, \"names\")= chr [1:55] \"3\" \"4\" \"5\" \"8\" ...\n"
     ]
    }
   ],
   "source": [
    "yhat <- predict(tree.snail, newdata = snail[-train, ])\n",
    "snail.test <- snail[-train, \"Length\"]\n",
    "yhat.bag <- predict(bag.snail, newdata = snail[-train, ])\n",
    "str(yhat.bag)"
   ]
  },
  {
   "cell_type": "code",
   "execution_count": 41,
   "metadata": {
    "id": "Hg32i-LxMaiI"
   },
   "outputs": [],
   "source": [
    "snail.test <- unlist(snail.test)"
   ]
  },
  {
   "cell_type": "code",
   "execution_count": 42,
   "metadata": {
    "colab": {
     "base_uri": "https://localhost:8080/"
    },
    "id": "1anAbuimMdQ2",
    "outputId": "4332210d-8f41-463e-fb5d-1057a4de5ede"
   },
   "outputs": [
    {
     "data": {
      "text/html": [
       "0.498313753204166"
      ],
      "text/latex": [
       "0.498313753204166"
      ],
      "text/markdown": [
       "0.498313753204166"
      ],
      "text/plain": [
       "[1] 0.4983138"
      ]
     },
     "metadata": {},
     "output_type": "display_data"
    },
    {
     "data": {
      "image/png": "[encoded data removed]",
      "text/plain": [
       "plot without title"
      ]
     },
     "metadata": {
      "image/png": {
       "height": 420,
       "width": 420
      }
     },
     "output_type": "display_data"
    }
   ],
   "source": [
    "plot(yhat.bag, snail.test)\n",
    "abline(0, 1)\n",
    "mean((yhat.bag - snail.test)^2)"
   ]
  },
  {
   "cell_type": "code",
   "execution_count": null,
   "metadata": {
    "id": "FNnzwoRSMh94"
   },
   "outputs": [],
   "source": []
  },
  {
   "cell_type": "markdown",
   "metadata": {
    "id": "D2f_mKCGNi0Y"
   },
   "source": [
    "# Now we sepperate Type1 and Type2"
   ]
  },
  {
   "cell_type": "markdown",
   "metadata": {
    "id": "RA77KJOWYuiG"
   },
   "source": [
    "#It is essential to remove sheltype and long here since i added long in the process for Random forest and tree. We do not need sheltype anymore when we sepperate data. No interation with sheltype here"
   ]
  },
  {
   "cell_type": "code",
   "execution_count": 43,
   "metadata": {
    "colab": {
     "base_uri": "https://localhost:8080/",
     "height": 513
    },
    "id": "rbeF6sHQNqoF",
    "outputId": "bf0b3ed7-91a1-4934-f194-13c3e0d28e24"
   },
   "outputs": [
    {
     "data": {
      "text/plain": [
       "     Width           Length          AperHt        AperWdt            LU       \n",
       " Min.   :3.190   Min.   : 9.63   Min.   :2.46   Min.   :1.830   Min.   :11.59  \n",
       " 1st Qu.:3.690   1st Qu.:13.07   1st Qu.:3.36   1st Qu.:2.300   1st Qu.:16.18  \n",
       " Median :3.870   Median :14.43   Median :3.67   Median :2.580   Median :17.91  \n",
       " Mean   :3.849   Mean   :14.48   Mean   :3.60   Mean   :2.542   Mean   :17.64  \n",
       " 3rd Qu.:4.040   3rd Qu.:15.96   3rd Qu.:3.96   3rd Qu.:2.800   3rd Qu.:19.02  \n",
       " Max.   :4.280   Max.   :18.39   Max.   :4.43   Max.   :3.180   Max.   :22.36  \n",
       "     LipWdt      \n",
       " Min.   :0.2000  \n",
       " 1st Qu.:0.3200  \n",
       " Median :0.3800  \n",
       " Mean   :0.3849  \n",
       " 3rd Qu.:0.4500  \n",
       " Max.   :0.5400  "
      ]
     },
     "metadata": {},
     "output_type": "display_data"
    },
    {
     "data": {
      "text/plain": [
       "     Width          Length          AperHt         AperWdt            LU       \n",
       " Min.   :2.70   Min.   :10.39   Min.   :2.400   Min.   :1.640   Min.   :12.73  \n",
       " 1st Qu.:3.48   1st Qu.:12.77   1st Qu.:3.010   1st Qu.:2.110   1st Qu.:15.81  \n",
       " Median :3.67   Median :13.63   Median :3.430   Median :2.350   Median :16.72  \n",
       " Mean   :3.64   Mean   :13.61   Mean   :3.322   Mean   :2.361   Mean   :16.66  \n",
       " 3rd Qu.:3.85   3rd Qu.:14.45   3rd Qu.:3.660   3rd Qu.:2.660   3rd Qu.:17.62  \n",
       " Max.   :4.09   Max.   :17.68   Max.   :4.120   Max.   :2.940   Max.   :20.35  \n",
       "     LipWdt      \n",
       " Min.   :0.1700  \n",
       " 1st Qu.:0.2600  \n",
       " Median :0.3200  \n",
       " Mean   :0.3129  \n",
       " 3rd Qu.:0.3600  \n",
       " Max.   :0.4900  "
      ]
     },
     "metadata": {},
     "output_type": "display_data"
    }
   ],
   "source": [
    "type1 <- snail %>% filter(ShellType == \"Type1\") %>% dplyr::select(-Long, -ShellType)\n",
    "type2 <- snail %>% filter(ShellType == \"Type2\") %>% dplyr::select(-Long, -ShellType)\n",
    "summary(type1)\n",
    "summary(type2)"
   ]
  },
  {
   "cell_type": "code",
   "execution_count": 44,
   "metadata": {
    "colab": {
     "base_uri": "https://localhost:8080/",
     "height": 255
    },
    "id": "7ZPLF8ptQFmm",
    "outputId": "f6006031-ce30-4971-ada3-52bb4f4da72f"
   },
   "outputs": [
    {
     "data": {
      "text/html": [
       "<table class=\"dataframe\">\n",
       "<caption>A matrix: 6 × 6 of type dbl</caption>\n",
       "<thead>\n",
       "\t<tr><th></th><th scope=col>Width</th><th scope=col>Length</th><th scope=col>AperHt</th><th scope=col>AperWdt</th><th scope=col>LU</th><th scope=col>LipWdt</th></tr>\n",
       "</thead>\n",
       "<tbody>\n",
       "\t<tr><th scope=row>Width</th><td>1.00</td><td>0.69</td><td>0.73</td><td>0.60</td><td>0.74</td><td>0.38</td></tr>\n",
       "\t<tr><th scope=row>Length</th><td>0.69</td><td>1.00</td><td>0.77</td><td>0.59</td><td>0.95</td><td>0.38</td></tr>\n",
       "\t<tr><th scope=row>AperHt</th><td>0.73</td><td>0.77</td><td>1.00</td><td>0.75</td><td>0.85</td><td>0.52</td></tr>\n",
       "\t<tr><th scope=row>AperWdt</th><td>0.60</td><td>0.59</td><td>0.75</td><td>1.00</td><td>0.64</td><td>0.45</td></tr>\n",
       "\t<tr><th scope=row>LU</th><td>0.74</td><td>0.95</td><td>0.85</td><td>0.64</td><td>1.00</td><td>0.43</td></tr>\n",
       "\t<tr><th scope=row>LipWdt</th><td>0.38</td><td>0.38</td><td>0.52</td><td>0.45</td><td>0.43</td><td>1.00</td></tr>\n",
       "</tbody>\n",
       "</table>\n"
      ],
      "text/latex": [
       "A matrix: 6 × 6 of type dbl\n",
       "\\begin{tabular}{r|llllll}\n",
       "  & Width & Length & AperHt & AperWdt & LU & LipWdt\\\\\n",
       "\\hline\n",
       "\tWidth & 1.00 & 0.69 & 0.73 & 0.60 & 0.74 & 0.38\\\\\n",
       "\tLength & 0.69 & 1.00 & 0.77 & 0.59 & 0.95 & 0.38\\\\\n",
       "\tAperHt & 0.73 & 0.77 & 1.00 & 0.75 & 0.85 & 0.52\\\\\n",
       "\tAperWdt & 0.60 & 0.59 & 0.75 & 1.00 & 0.64 & 0.45\\\\\n",
       "\tLU & 0.74 & 0.95 & 0.85 & 0.64 & 1.00 & 0.43\\\\\n",
       "\tLipWdt & 0.38 & 0.38 & 0.52 & 0.45 & 0.43 & 1.00\\\\\n",
       "\\end{tabular}\n"
      ],
      "text/markdown": [
       "\n",
       "A matrix: 6 × 6 of type dbl\n",
       "\n",
       "| <!--/--> | Width | Length | AperHt | AperWdt | LU | LipWdt |\n",
       "|---|---|---|---|---|---|---|\n",
       "| Width | 1.00 | 0.69 | 0.73 | 0.60 | 0.74 | 0.38 |\n",
       "| Length | 0.69 | 1.00 | 0.77 | 0.59 | 0.95 | 0.38 |\n",
       "| AperHt | 0.73 | 0.77 | 1.00 | 0.75 | 0.85 | 0.52 |\n",
       "| AperWdt | 0.60 | 0.59 | 0.75 | 1.00 | 0.64 | 0.45 |\n",
       "| LU | 0.74 | 0.95 | 0.85 | 0.64 | 1.00 | 0.43 |\n",
       "| LipWdt | 0.38 | 0.38 | 0.52 | 0.45 | 0.43 | 1.00 |\n",
       "\n"
      ],
      "text/plain": [
       "        Width Length AperHt AperWdt LU   LipWdt\n",
       "Width   1.00  0.69   0.73   0.60    0.74 0.38  \n",
       "Length  0.69  1.00   0.77   0.59    0.95 0.38  \n",
       "AperHt  0.73  0.77   1.00   0.75    0.85 0.52  \n",
       "AperWdt 0.60  0.59   0.75   1.00    0.64 0.45  \n",
       "LU      0.74  0.95   0.85   0.64    1.00 0.43  \n",
       "LipWdt  0.38  0.38   0.52   0.45    0.43 1.00  "
      ]
     },
     "metadata": {},
     "output_type": "display_data"
    }
   ],
   "source": [
    "res <- cor(snail[, sapply(snail, is.numeric)])\n",
    "round(res, 2)"
   ]
  },
  {
   "cell_type": "code",
   "execution_count": 45,
   "metadata": {
    "id": "9oeoCy0qN1IN"
   },
   "outputs": [],
   "source": [
    "init_intertype1 <- lm(Length ~ Width + AperHt + AperWdt + LU + LipWdt, data = type1)\n",
    "init_intertype2 <- lm(Length ~ Width + AperHt + AperWdt + LU + LipWdt, data = type2)"
   ]
  },
  {
   "cell_type": "code",
   "execution_count": 46,
   "metadata": {
    "colab": {
     "base_uri": "https://localhost:8080/",
     "height": 249
    },
    "id": "j-B-BNXoQjx0",
    "outputId": "d8b7788f-f210-41ea-cd03-3628ae22f151"
   },
   "outputs": [
    {
     "data": {
      "text/plain": [
       "\n",
       "Call:\n",
       "lm(formula = Length ~ Width + AperHt + AperWdt + LU + LipWdt, \n",
       "    data = type1)\n",
       "\n",
       "Residuals:\n",
       "     Min       1Q   Median       3Q      Max \n",
       "-1.15095 -0.17183  0.02665  0.25270  0.58535 \n",
       "\n",
       "Coefficients:\n",
       "            Estimate Std. Error t value Pr(>|t|)    \n",
       "(Intercept)   2.3275     0.9363   2.486   0.0178 *  \n",
       "Width        -0.3008     0.3426  -0.878   0.3859    \n",
       "AperHt       -0.8913     0.3706  -2.405   0.0216 *  \n",
       "AperWdt      -0.3591     0.3801  -0.945   0.3513    \n",
       "LU            0.9915     0.0491  20.193   <2e-16 ***\n",
       "LipWdt       -0.1602     0.8221  -0.195   0.8466    \n",
       "---\n",
       "Signif. codes:  0 '***' 0.001 '**' 0.01 '*' 0.05 '.' 0.1 ' ' 1\n",
       "\n",
       "Residual standard error: 0.3698 on 35 degrees of freedom\n",
       "Multiple R-squared:  0.9665,\tAdjusted R-squared:  0.9618 \n",
       "F-statistic: 202.2 on 5 and 35 DF,  p-value: < 2.2e-16\n"
      ]
     },
     "metadata": {},
     "output_type": "display_data"
    }
   ],
   "source": [
    "summary(init_intertype1)"
   ]
  },
  {
   "cell_type": "code",
   "execution_count": 47,
   "metadata": {
    "colab": {
     "base_uri": "https://localhost:8080/",
     "height": 249
    },
    "id": "1327CjYGR0_E",
    "outputId": "0dd1554a-bd5a-4796-9b95-ed7e695a8174"
   },
   "outputs": [
    {
     "data": {
      "text/plain": [
       "\n",
       "Call:\n",
       "lm(formula = Length ~ Width + AperHt + AperWdt + LU + LipWdt, \n",
       "    data = type2)\n",
       "\n",
       "Residuals:\n",
       "     Min       1Q   Median       3Q      Max \n",
       "-1.67379 -0.27217 -0.05812  0.18227  1.83834 \n",
       "\n",
       "Coefficients:\n",
       "            Estimate Std. Error t value Pr(>|t|)    \n",
       "(Intercept)  0.45856    0.81724   0.561    0.577    \n",
       "Width       -0.06838    0.34733  -0.197    0.845    \n",
       "AperHt      -0.29181    0.28636  -1.019    0.312    \n",
       "AperWdt      0.21832    0.25424   0.859    0.394    \n",
       "LU           0.84264    0.08227  10.243 4.87e-15 ***\n",
       "LipWdt      -0.56896    1.06509  -0.534    0.595    \n",
       "---\n",
       "Signif. codes:  0 '***' 0.001 '**' 0.01 '*' 0.05 '.' 0.1 ' ' 1\n",
       "\n",
       "Residual standard error: 0.5021 on 63 degrees of freedom\n",
       "Multiple R-squared:  0.8711,\tAdjusted R-squared:  0.8608 \n",
       "F-statistic: 85.13 on 5 and 63 DF,  p-value: < 2.2e-16\n"
      ]
     },
     "metadata": {},
     "output_type": "display_data"
    }
   ],
   "source": [
    "summary(init_intertype2)"
   ]
  },
  {
   "cell_type": "code",
   "execution_count": 48,
   "metadata": {
    "colab": {
     "base_uri": "https://localhost:8080/",
     "height": 72
    },
    "id": "ZeaXJ5z3QrPO",
    "outputId": "e65a57fc-6ff2-4278-bb04-288098eac8a0"
   },
   "outputs": [
    {
     "name": "stdout",
     "output_type": "stream",
     "text": [
      "Start:  AIC=-76.07\n",
      "Length ~ Width + AperHt + AperWdt + LU + LipWdt\n",
      "\n",
      "          Df Sum of Sq    RSS     AIC\n",
      "- LipWdt   1     0.005  4.790 -78.025\n",
      "- Width    1     0.105  4.891 -77.176\n",
      "- AperWdt  1     0.122  4.907 -77.037\n",
      "<none>                  4.785 -76.069\n",
      "- AperHt   1     0.791  5.576 -71.797\n",
      "- LU       1    55.748 60.534  25.975\n",
      "\n",
      "Step:  AIC=-78.02\n",
      "Length ~ Width + AperHt + AperWdt + LU\n",
      "\n",
      "          Df Sum of Sq    RSS     AIC\n",
      "- Width    1     0.108  4.899 -79.108\n",
      "- AperWdt  1     0.130  4.921 -78.924\n",
      "<none>                  4.790 -78.025\n",
      "+ LipWdt   1     0.005  4.785 -76.069\n",
      "- AperHt   1     0.820  5.611 -73.543\n",
      "- LU       1    56.062 60.853  24.190\n",
      "\n",
      "Step:  AIC=-79.11\n",
      "Length ~ AperHt + AperWdt + LU\n",
      "\n",
      "          Df Sum of Sq    RSS     AIC\n",
      "- AperWdt  1     0.094  4.993 -80.326\n",
      "<none>                  4.899 -79.108\n",
      "+ Width    1     0.108  4.790 -78.025\n",
      "+ LipWdt   1     0.008  4.891 -77.176\n",
      "- AperHt   1     1.249  6.148 -71.796\n",
      "- LU       1    57.278 62.177  23.073\n",
      "\n",
      "Step:  AIC=-80.33\n",
      "Length ~ AperHt + LU\n",
      "\n",
      "          Df Sum of Sq    RSS     AIC\n",
      "<none>                  4.993 -80.326\n",
      "+ AperWdt  1     0.094  4.899 -79.108\n",
      "+ Width    1     0.072  4.921 -78.924\n",
      "+ LipWdt   1     0.016  4.977 -78.455\n",
      "- AperHt   1     3.643  8.636 -59.862\n",
      "- LU       1    57.434 62.427  21.238\n"
     ]
    },
    {
     "data": {
      "text/plain": [
       "\n",
       "Call:\n",
       "lm(formula = Length ~ AperHt + LU, data = type1)\n",
       "\n",
       "Residuals:\n",
       "     Min       1Q   Median       3Q      Max \n",
       "-1.26971 -0.18917  0.02493  0.22306  0.61368 \n",
       "\n",
       "Coefficients:\n",
       "            Estimate Std. Error t value Pr(>|t|)    \n",
       "(Intercept)   1.5253     0.4474   3.409  0.00156 ** \n",
       "AperHt       -1.2272     0.2331  -5.265 5.78e-06 ***\n",
       "LU            0.9846     0.0471  20.907  < 2e-16 ***\n",
       "---\n",
       "Signif. codes:  0 '***' 0.001 '**' 0.01 '*' 0.05 '.' 0.1 ' ' 1\n",
       "\n",
       "Residual standard error: 0.3625 on 38 degrees of freedom\n",
       "Multiple R-squared:  0.9651,\tAdjusted R-squared:  0.9633 \n",
       "F-statistic: 525.2 on 2 and 38 DF,  p-value: < 2.2e-16\n"
      ]
     },
     "metadata": {},
     "output_type": "display_data"
    }
   ],
   "source": [
    "stepwise_intertype1<- stepAIC(init_intertype1, direction = \"both\")\n",
    "summary(stepwise_intertype1)"
   ]
  },
  {
   "cell_type": "code",
   "execution_count": 49,
   "metadata": {
    "colab": {
     "base_uri": "https://localhost:8080/",
     "height": 1000
    },
    "id": "bFNGksnGRrzM",
    "outputId": "efd65348-b538-46b7-8b45-dfba8a2dc9f8"
   },
   "outputs": [
    {
     "name": "stdout",
     "output_type": "stream",
     "text": [
      "Start:  AIC=-89.37\n",
      "Length ~ Width + AperHt + AperWdt + LU + LipWdt\n",
      "\n",
      "          Df Sum of Sq    RSS     AIC\n",
      "- Width    1    0.0098 15.889 -91.323\n",
      "- LipWdt   1    0.0719 15.952 -91.054\n",
      "- AperWdt  1    0.1859 16.066 -90.563\n",
      "- AperHt   1    0.2618 16.141 -90.237\n",
      "<none>                 15.880 -89.366\n",
      "- LU       1   26.4450 42.325 -23.723\n",
      "\n",
      "Step:  AIC=-91.32\n",
      "Length ~ AperHt + AperWdt + LU + LipWdt\n",
      "\n",
      "          Df Sum of Sq    RSS     AIC\n",
      "- LipWdt   1     0.066 15.955 -93.037\n",
      "- AperWdt  1     0.177 16.066 -92.560\n",
      "- AperHt   1     0.262 16.152 -92.194\n",
      "<none>                 15.889 -91.323\n",
      "+ Width    1     0.010 15.880 -89.366\n",
      "- LU       1    35.771 51.661 -11.969\n",
      "\n",
      "Step:  AIC=-93.04\n",
      "Length ~ AperHt + AperWdt + LU\n",
      "\n",
      "          Df Sum of Sq    RSS     AIC\n",
      "- AperWdt  1     0.170 16.126 -94.305\n",
      "- AperHt   1     0.361 16.316 -93.495\n",
      "<none>                 15.955 -93.037\n",
      "+ LipWdt   1     0.066 15.889 -91.323\n",
      "+ Width    1     0.004 15.952 -91.054\n",
      "- LU       1    36.071 52.026 -13.483\n",
      "\n",
      "Step:  AIC=-94.3\n",
      "Length ~ AperHt + LU\n",
      "\n",
      "          Df Sum of Sq    RSS     AIC\n",
      "- AperHt   1     0.220 16.345 -95.371\n",
      "<none>                 16.126 -94.305\n",
      "+ AperWdt  1     0.170 15.955 -93.037\n",
      "+ LipWdt   1     0.059 16.066 -92.560\n",
      "+ Width    1     0.003 16.122 -92.319\n",
      "- LU       1    35.917 52.043 -15.461\n",
      "\n",
      "Step:  AIC=-95.37\n",
      "Length ~ LU\n",
      "\n",
      "          Df Sum of Sq     RSS     AIC\n",
      "<none>                  16.345 -95.371\n",
      "+ AperHt   1     0.220  16.126 -94.305\n",
      "+ LipWdt   1     0.140  16.205 -93.964\n",
      "+ AperWdt  1     0.029  16.316 -93.495\n",
      "+ Width    1     0.000  16.345 -93.372\n",
      "- LU       1   106.827 123.173  41.984\n"
     ]
    },
    {
     "data": {
      "text/plain": [
       "\n",
       "Call:\n",
       "lm(formula = Length ~ LU, data = type2)\n",
       "\n",
       "Residuals:\n",
       "     Min       1Q   Median       3Q      Max \n",
       "-1.70365 -0.29943 -0.02688  0.25733  1.79205 \n",
       "\n",
       "Coefficients:\n",
       "            Estimate Std. Error t value Pr(>|t|)    \n",
       "(Intercept)  0.64247    0.62275   1.032    0.306    \n",
       "LU           0.77871    0.03721  20.926   <2e-16 ***\n",
       "---\n",
       "Signif. codes:  0 '***' 0.001 '**' 0.01 '*' 0.05 '.' 0.1 ' ' 1\n",
       "\n",
       "Residual standard error: 0.4939 on 67 degrees of freedom\n",
       "Multiple R-squared:  0.8673,\tAdjusted R-squared:  0.8653 \n",
       "F-statistic: 437.9 on 1 and 67 DF,  p-value: < 2.2e-16\n"
      ]
     },
     "metadata": {},
     "output_type": "display_data"
    }
   ],
   "source": [
    "stepwise_intertype2<- stepAIC(init_intertype2, direction = \"both\")\n",
    "summary(stepwise_intertype2)"
   ]
  },
  {
   "cell_type": "code",
   "execution_count": 50,
   "metadata": {
    "id": "TCDYG1kQSIEB"
   },
   "outputs": [],
   "source": [
    "# By observation, Multiple R-squared is worst for type2 and better for type1 without interation of sheltype and other predictors."
   ]
  },
  {
   "cell_type": "markdown",
   "metadata": {
    "id": "ZySu89cmS0Ak"
   },
   "source": [
    "# Could not use anova tool to compare the filtered models with original stepwise models. Because missing collumns sheltype."
   ]
  },
  {
   "cell_type": "code",
   "execution_count": 51,
   "metadata": {
    "colab": {
     "base_uri": "https://localhost:8080/",
     "height": 437
    },
    "id": "zYxbp7pBZ9b0",
    "outputId": "e8ee7f60-a952-4725-ee46-93b49e21cef2"
   },
   "outputs": [
    {
     "data": {
      "image/png": "[encoded data removed]",
      "text/plain": [
       "Plot with title \"\""
      ]
     },
     "metadata": {
      "image/png": {
       "height": 420,
       "width": 420
      }
     },
     "output_type": "display_data"
    }
   ],
   "source": [
    "# Q-Q plot Normality:\n",
    "plot(stepwise_intertype1, which = 2)"
   ]
  },
  {
   "cell_type": "code",
   "execution_count": 52,
   "metadata": {
    "colab": {
     "base_uri": "https://localhost:8080/",
     "height": 437
    },
    "id": "BwMtl3dBaA8N",
    "outputId": "4470375d-2f91-4f74-8d82-3c58dc98b9cf"
   },
   "outputs": [
    {
     "data": {
      "image/png": "[encoded data removed]",
      "text/plain": [
       "Plot with title \"\""
      ]
     },
     "metadata": {
      "image/png": {
       "height": 420,
       "width": 420
      }
     },
     "output_type": "display_data"
    }
   ],
   "source": [
    "# Q-Q plot Normality:\n",
    "plot(stepwise_intertype2, which = 2)"
   ]
  },
  {
   "cell_type": "code",
   "execution_count": 53,
   "metadata": {
    "colab": {
     "base_uri": "https://localhost:8080/"
    },
    "id": "VelGqGHSaEyA",
    "outputId": "a3d1381e-7615-4da6-dd28-5f9d425490a9"
   },
   "outputs": [
    {
     "name": "stderr",
     "output_type": "stream",
     "text": [
      "Warning message:\n",
      "\"package 'caret' is in use and will not be installed\"\n"
     ]
    }
   ],
   "source": [
    "install.packages(\"caret\")\n",
    "library(caret)"
   ]
  },
  {
   "cell_type": "markdown",
   "metadata": {
    "id": "aEe5PXqxID7y"
   },
   "source": [
    "# KNN regression"
   ]
  },
  {
   "cell_type": "code",
   "execution_count": 54,
   "metadata": {
    "colab": {
     "base_uri": "https://localhost:8080/",
     "height": 72
    },
    "id": "gnvTZWKvIJNQ",
    "outputId": "b42c9a87-5b8e-4a73-88f8-13b54b8f99c2"
   },
   "outputs": [],
   "source": [
    "set.seed(12)\n",
    "indexes = createDataPartition(snail$Length, p = 0.9, list = F)\n",
    "train.data = snail[indexes,]\n",
    "test.data = snail[-indexes, ]"
   ]
  },
  {
   "cell_type": "code",
   "execution_count": 55,
   "metadata": {
    "colab": {
     "base_uri": "https://localhost:8080/"
    },
    "id": "v601pAXTIXSo",
    "outputId": "af540aa1-9264-46d3-f520-20dd4991216a"
   },
   "outputs": [
    {
     "name": "stdout",
     "output_type": "stream",
     "text": [
      "'data.frame':\t102 obs. of  8 variables:\n",
      " $ ShellType: Factor w/ 2 levels \"Type1\",\"Type2\": 1 1 1 1 1 1 1 1 1 1 ...\n",
      " $ Width    : num  3.77 3.86 4.13 4.25 4.16 3.87 3.91 3.99 4.02 3.87 ...\n",
      " $ Length   : num  13.1 13.6 13.9 15.1 15.3 ...\n",
      " $ AperHt   : num  3.54 3.33 3.49 3.99 3.38 3.41 3.95 3.36 3.81 3.8 ...\n",
      " $ AperWdt  : num  2.46 2.06 2.42 2.66 2.08 2.32 2.82 2.78 2.7 2.62 ...\n",
      " $ LU       : num  16.6 16.9 16.8 19 18.5 ...\n",
      " $ LipWdt   : num  0.39 0.32 0.43 0.48 0.5 0.26 0.49 0.26 0.43 0.36 ...\n",
      " $ Long     : Factor w/ 2 levels \"No\",\"Yes\": 2 2 2 2 2 2 2 1 2 2 ...\n",
      "'data.frame':\t102 obs. of  6 variables:\n",
      " $ Width  : num  3.77 3.86 4.13 4.25 4.16 3.87 3.91 3.99 4.02 3.87 ...\n",
      " $ Length : num  13.1 13.6 13.9 15.1 15.3 ...\n",
      " $ AperHt : num  3.54 3.33 3.49 3.99 3.38 3.41 3.95 3.36 3.81 3.8 ...\n",
      " $ AperWdt: num  2.46 2.06 2.42 2.66 2.08 2.32 2.82 2.78 2.7 2.62 ...\n",
      " $ LU     : num  16.6 16.9 16.8 19 18.5 ...\n",
      " $ LipWdt : num  0.39 0.32 0.43 0.48 0.5 0.26 0.49 0.26 0.43 0.36 ...\n",
      "'data.frame':\t8 obs. of  6 variables:\n",
      " $ Width  : num  4.04 3.9 3.85 3.9 3.77 4.11 4.04 3.14\n",
      " $ Length : num  14.4 13.1 13.6 14.8 12.3 ...\n",
      " $ AperHt : num  3.7 2.76 3.67 3.46 3.32 4.2 4.17 2.45\n",
      " $ AperWdt: num  2.58 2 2.8 2.31 2.91 3.18 3.03 1.89\n",
      " $ LU     : num  17.9 16 17.1 17.7 16.1 ...\n",
      " $ LipWdt : num  0.35 0.17 0.37 0.49 0.3 0.45 0.42 0.22\n"
     ]
    }
   ],
   "source": [
    "str(train.data)\n",
    "train.data <- train.data[, -c(1, 8)]\n",
    "test.data <- test.data[, -c(1, 8)]\n",
    "str(train.data)\n",
    "str(test.data)"
   ]
  },
  {
   "cell_type": "code",
   "execution_count": 56,
   "metadata": {
    "colab": {
     "base_uri": "https://localhost:8080/"
    },
    "id": "mb5IlkyKWZxH",
    "outputId": "706bc8e9-84a0-4a6c-d0bd-8694228dd752"
   },
   "outputs": [
    {
     "name": "stdout",
     "output_type": "stream",
     "text": [
      "'data.frame':\t102 obs. of  5 variables:\n",
      " $ Width  : num  3.77 3.86 4.13 4.25 4.16 3.87 3.91 3.99 4.02 3.87 ...\n",
      " $ AperHt : num  3.54 3.33 3.49 3.99 3.38 3.41 3.95 3.36 3.81 3.8 ...\n",
      " $ AperWdt: num  2.46 2.06 2.42 2.66 2.08 2.32 2.82 2.78 2.7 2.62 ...\n",
      " $ LU     : num  16.6 16.9 16.8 19 18.5 ...\n",
      " $ LipWdt : num  0.39 0.32 0.43 0.48 0.5 0.26 0.49 0.26 0.43 0.36 ...\n"
     ]
    }
   ],
   "source": [
    "str(train.data[,-2])"
   ]
  },
  {
   "cell_type": "code",
   "execution_count": 57,
   "metadata": {
    "id": "sCrLbDl0If_7"
   },
   "outputs": [],
   "source": [
    "knnmodel = knnreg(train.data[,-2], as.numeric(unlist(train.data[, 2]))) #k=5"
   ]
  },
  {
   "cell_type": "code",
   "execution_count": 58,
   "metadata": {
    "colab": {
     "base_uri": "https://localhost:8080/",
     "height": 72
    },
    "id": "VglI-ysuIkj_",
    "outputId": "2808a8f9-e2c4-450b-d290-a1d8ccd9b068"
   },
   "outputs": [
    {
     "name": "stdout",
     "output_type": "stream",
     "text": [
      "'data.frame':\t8 obs. of  5 variables:\n",
      " $ Width  : num  4.04 3.9 3.85 3.9 3.77 4.11 4.04 3.14\n",
      " $ AperHt : num  3.7 2.76 3.67 3.46 3.32 4.2 4.17 2.45\n",
      " $ AperWdt: num  2.58 2 2.8 2.31 2.91 3.18 3.03 1.89\n",
      " $ LU     : num  17.9 16 17.1 17.7 16.1 ...\n",
      " $ LipWdt : num  0.35 0.17 0.37 0.49 0.3 0.45 0.42 0.22\n"
     ]
    }
   ],
   "source": [
    "test_data_subset <- test.data[, -2]\n",
    "str(test_data_subset)"
   ]
  },
  {
   "cell_type": "code",
   "execution_count": 59,
   "metadata": {
    "colab": {
     "base_uri": "https://localhost:8080/",
     "height": 34
    },
    "id": "ijO6QEC2Im9Q",
    "outputId": "0b66f6ec-44e5-4fc7-f22e-bb6a59d1592f"
   },
   "outputs": [
    {
     "data": {
      "text/html": [
       "<style>\n",
       ".list-inline {list-style: none; margin:0; padding: 0}\n",
       ".list-inline>li {display: inline-block}\n",
       ".list-inline>li:not(:last-child)::after {content: \"\\00b7\"; padding: 0 .5ex}\n",
       "</style>\n",
       "<ol class=list-inline><li>3.81549472545829</li><li>3.63483149540663</li><li>3.71860188780676</li><li>3.84239508640119</li><li>3.61828688746484</li><li>4.0853396431631</li><li>4.13569824818011</li><li>3.48568501158668</li></ol>\n"
      ],
      "text/latex": [
       "\\begin{enumerate*}\n",
       "\\item 3.81549472545829\n",
       "\\item 3.63483149540663\n",
       "\\item 3.71860188780676\n",
       "\\item 3.84239508640119\n",
       "\\item 3.61828688746484\n",
       "\\item 4.0853396431631\n",
       "\\item 4.13569824818011\n",
       "\\item 3.48568501158668\n",
       "\\end{enumerate*}\n"
      ],
      "text/markdown": [
       "1. 3.81549472545829\n",
       "2. 3.63483149540663\n",
       "3. 3.71860188780676\n",
       "4. 3.84239508640119\n",
       "5. 3.61828688746484\n",
       "6. 4.0853396431631\n",
       "7. 4.13569824818011\n",
       "8. 3.48568501158668\n",
       "\n",
       "\n"
      ],
      "text/plain": [
       "[1] 3.815495 3.634831 3.718602 3.842395 3.618287 4.085340 4.135698 3.485685"
      ]
     },
     "metadata": {},
     "output_type": "display_data"
    }
   ],
   "source": [
    "pred_y2 = sqrt(predict(knnmodel, test_data_subset))\n",
    "pred_y2"
   ]
  },
  {
   "cell_type": "code",
   "execution_count": 60,
   "metadata": {
    "colab": {
     "base_uri": "https://localhost:8080/",
     "height": 69
    },
    "id": "OZ0_tMAeIqmo",
    "outputId": "207d3d40-5703-4720-e65d-60ac1de18e6d"
   },
   "outputs": [
    {
     "data": {
      "text/html": [
       "0.00507368843430925"
      ],
      "text/latex": [
       "0.00507368843430925"
      ],
      "text/markdown": [
       "0.00507368843430925"
      ],
      "text/plain": [
       "[1] 0.005073688"
      ]
     },
     "metadata": {},
     "output_type": "display_data"
    },
    {
     "data": {
      "text/html": [
       "0.0506656378431208"
      ],
      "text/latex": [
       "0.0506656378431208"
      ],
      "text/markdown": [
       "0.0506656378431208"
      ],
      "text/plain": [
       "[1] 0.05066564"
      ]
     },
     "metadata": {},
     "output_type": "display_data"
    },
    {
     "data": {
      "text/html": [
       "0.0712298282625281"
      ],
      "text/latex": [
       "0.0712298282625281"
      ],
      "text/markdown": [
       "0.0712298282625281"
      ],
      "text/plain": [
       "[1] 0.07122983"
      ]
     },
     "metadata": {},
     "output_type": "display_data"
    }
   ],
   "source": [
    "# Calculate Mean Squared Error (MSE)\n",
    "mse2 <- mean((sqrt(as.numeric(unlist(test.data[, 2]))) - pred_y2)^2)\n",
    "# Calculate Mean Absolute Error (MAE)\n",
    "mae2 <- caret::MAE(sqrt(as.numeric(unlist(test.data[, 2]))), pred_y2)\n",
    "# Calculate Root Mean Squared Error (RMSE)\n",
    "rmse2 <- caret::RMSE(sqrt(as.numeric(unlist(test.data[, 2]))), pred_y2)\n",
    "# Print the results\n",
    "mse2\n",
    "mae2\n",
    "rmse2"
   ]
  },
  {
   "cell_type": "code",
   "execution_count": 61,
   "metadata": {
    "id": "2R7MPeQvItGB"
   },
   "outputs": [],
   "source": [
    "fit.smreg = lm(sqrt(Length)~LU, data = train.data)\n",
    "pred.smreg = predict(fit.smreg, test.data[,-2])\n",
    "fit.mureg1 = lm(sqrt(Length) ~ ., data = train.data)\n",
    "pred.mureg = predict(fit.mureg1, test.data[,-2])"
   ]
  },
  {
   "cell_type": "code",
   "execution_count": 62,
   "metadata": {
    "colab": {
     "base_uri": "https://localhost:8080/",
     "height": 437
    },
    "id": "OaPRc2XbIvKq",
    "outputId": "f00a30f3-2334-47f0-f02e-abcfa85bd3be"
   },
   "outputs": [
    {
     "data": {
      "image/png": "[encoded data removed]",
      "text/plain": [
       "Plot with title \"Snail test data prediction\""
      ]
     },
     "metadata": {
      "image/png": {
       "height": 420,
       "width": 420
      }
     },
     "output_type": "display_data"
    }
   ],
   "source": [
    "x = 1:length(as.numeric(unlist(test.data[, 2])))\n",
    "plot(x, sqrt(as.numeric(unlist(test.data[, 2]))), col = \"red\", type = \"b\", lwd = 3, pch = 1, ylab = \"Length test\",\n",
    "     ylim = c(3, 5), main = \"Snail test data prediction\")\n",
    "\n",
    "# Add points and lines for different models\n",
    "points(x, pred.smreg, col = \"blue\", lwd = 2, pch = 16, type = \"b\")\n",
    "points(x, pred.mureg, col = \"brown\", lwd = 2, pch = 3, type = \"b\")\n",
    "lines(x, pred_y2, col = \"darkgreen\", lwd = 2, pch = 22, type = \"o\")\n",
    "\n",
    "# Add legend\n",
    "legend(\"topright\", legend = c(\"original-length\", \"predicted-SR\", \"predicted-MR\", \"predicted-KNN\"),\n",
    "       lty = c(1, 1, 1, 1), pch = c(1, 16, 3, 22), col = c(\"red\", \"blue\", \"brown\", \"green\"), adj = c(0, 0.6))\n",
    "grid()"
   ]
  },
  {
   "cell_type": "code",
   "execution_count": null,
   "metadata": {
    "id": "xAEgdxVoHdDz"
   },
   "outputs": [],
   "source": []
  },
  {
   "cell_type": "markdown",
   "metadata": {
    "id": "G2qmb8DJHeKi"
   },
   "source": [
    "# g) Use the final model to predict the Length of a Type1 snail with other predictors set equal to their sample means. Also provide a 95% prediction interval for the response and a 95% confidence interval for the mean response. Repeat for a Type2 snail, and compare the answers."
   ]
  },
  {
   "cell_type": "code",
   "execution_count": 63,
   "metadata": {
    "colab": {
     "base_uri": "https://localhost:8080/",
     "height": 34
    },
    "id": "COI-0R39Dqdl",
    "outputId": "364c5bfd-e116-4093-a532-32ce83f3bdda"
   },
   "outputs": [
    {
     "data": {
      "text/html": [
       "<style>\n",
       ".dl-inline {width: auto; margin:0; padding: 0}\n",
       ".dl-inline>dt, .dl-inline>dd {float: none; width: auto; display: inline-block}\n",
       ".dl-inline>dt::after {content: \":\\0020\"; padding-right: .5ex}\n",
       ".dl-inline>dt:not(:first-of-type) {padding-left: .5ex}\n",
       "</style><dl class=dl-inline><dt>Width</dt><dd>3.8490243902439</dd><dt>Length</dt><dd>14.480487804878</dd><dt>AperHt</dt><dd>3.59951219512195</dd><dt>AperWdt</dt><dd>2.54170731707317</dd><dt>LU</dt><dd>17.6439024390244</dd><dt>LipWdt</dt><dd>0.384878048780488</dd></dl>\n"
      ],
      "text/latex": [
       "\\begin{description*}\n",
       "\\item[Width] 3.8490243902439\n",
       "\\item[Length] 14.480487804878\n",
       "\\item[AperHt] 3.59951219512195\n",
       "\\item[AperWdt] 2.54170731707317\n",
       "\\item[LU] 17.6439024390244\n",
       "\\item[LipWdt] 0.384878048780488\n",
       "\\end{description*}\n"
      ],
      "text/markdown": [
       "Width\n",
       ":   3.8490243902439Length\n",
       ":   14.480487804878AperHt\n",
       ":   3.59951219512195AperWdt\n",
       ":   2.54170731707317LU\n",
       ":   17.6439024390244LipWdt\n",
       ":   0.384878048780488\n",
       "\n"
      ],
      "text/plain": [
       "    Width    Length    AperHt   AperWdt        LU    LipWdt \n",
       " 3.849024 14.480488  3.599512  2.541707 17.643902  0.384878 "
      ]
     },
     "metadata": {},
     "output_type": "display_data"
    }
   ],
   "source": [
    "means1 <- colMeans(type1[, c(\"Width\",\"Length\",\"AperHt\",\"AperWdt\",\"LU\",\"LipWdt\")])\n",
    "means1"
   ]
  },
  {
   "cell_type": "code",
   "execution_count": 64,
   "metadata": {
    "colab": {
     "base_uri": "https://localhost:8080/",
     "height": 179
    },
    "id": "GYeHElg__P9l",
    "outputId": "80058e2a-d5fe-4eaf-8e72-8221803ff19d"
   },
   "outputs": [
    {
     "data": {
      "text/html": [
       "<table class=\"dataframe\">\n",
       "<caption>A matrix: 1 × 3 of type dbl</caption>\n",
       "<thead>\n",
       "\t<tr><th></th><th scope=col>fit</th><th scope=col>lwr</th><th scope=col>upr</th></tr>\n",
       "</thead>\n",
       "<tbody>\n",
       "\t<tr><th scope=row>Width</th><td>14.48049</td><td>13.73777</td><td>15.2232</td></tr>\n",
       "</tbody>\n",
       "</table>\n"
      ],
      "text/latex": [
       "A matrix: 1 × 3 of type dbl\n",
       "\\begin{tabular}{r|lll}\n",
       "  & fit & lwr & upr\\\\\n",
       "\\hline\n",
       "\tWidth & 14.48049 & 13.73777 & 15.2232\\\\\n",
       "\\end{tabular}\n"
      ],
      "text/markdown": [
       "\n",
       "A matrix: 1 × 3 of type dbl\n",
       "\n",
       "| <!--/--> | fit | lwr | upr |\n",
       "|---|---|---|---|\n",
       "| Width | 14.48049 | 13.73777 | 15.2232 |\n",
       "\n"
      ],
      "text/plain": [
       "      fit      lwr      upr    \n",
       "Width 14.48049 13.73777 15.2232"
      ]
     },
     "metadata": {},
     "output_type": "display_data"
    },
    {
     "data": {
      "text/html": [
       "<table class=\"dataframe\">\n",
       "<caption>A matrix: 1 × 3 of type dbl</caption>\n",
       "<thead>\n",
       "\t<tr><th></th><th scope=col>fit</th><th scope=col>lwr</th><th scope=col>upr</th></tr>\n",
       "</thead>\n",
       "<tbody>\n",
       "\t<tr><th scope=row>Width</th><td>14.48049</td><td>14.36588</td><td>14.59509</td></tr>\n",
       "</tbody>\n",
       "</table>\n"
      ],
      "text/latex": [
       "A matrix: 1 × 3 of type dbl\n",
       "\\begin{tabular}{r|lll}\n",
       "  & fit & lwr & upr\\\\\n",
       "\\hline\n",
       "\tWidth & 14.48049 & 14.36588 & 14.59509\\\\\n",
       "\\end{tabular}\n"
      ],
      "text/markdown": [
       "\n",
       "A matrix: 1 × 3 of type dbl\n",
       "\n",
       "| <!--/--> | fit | lwr | upr |\n",
       "|---|---|---|---|\n",
       "| Width | 14.48049 | 14.36588 | 14.59509 |\n",
       "\n"
      ],
      "text/plain": [
       "      fit      lwr      upr     \n",
       "Width 14.48049 14.36588 14.59509"
      ]
     },
     "metadata": {},
     "output_type": "display_data"
    }
   ],
   "source": [
    "newType1 <- data.frame(ShellType = \"Type1\",\n",
    "                             Width = means1[\"Width\"],\n",
    "                             Length = means1[\"Length\"],\n",
    "                             AperHt = means1[\"AperHt\"],\n",
    "                             AperWdt = means1[\"AperWdt\"],\n",
    "                             LU = means1[\"LU\"],\n",
    "                             LipWdt = means1[\"LipWdt\"])\n",
    "\n",
    "predType1 <- predict(stepwise_intertype1, newdata = newType1, interval = \"prediction\", level = 0.95)\n",
    "confType1 <- predict(stepwise_intertype1, newdata = newType1, interval = \"confidence\", level = 0.95)\n",
    "\n",
    "# Display the results\n",
    "predType1\n",
    "confType1"
   ]
  },
  {
   "cell_type": "code",
   "execution_count": 65,
   "metadata": {
    "colab": {
     "base_uri": "https://localhost:8080/",
     "height": 34
    },
    "id": "dQFSefH2HMq0",
    "outputId": "6096a15e-e0e1-4cf9-e1ea-34d11d1b1533"
   },
   "outputs": [
    {
     "data": {
      "text/html": [
       "<style>\n",
       ".dl-inline {width: auto; margin:0; padding: 0}\n",
       ".dl-inline>dt, .dl-inline>dd {float: none; width: auto; display: inline-block}\n",
       ".dl-inline>dt::after {content: \":\\0020\"; padding-right: .5ex}\n",
       ".dl-inline>dt:not(:first-of-type) {padding-left: .5ex}\n",
       "</style><dl class=dl-inline><dt>Width</dt><dd>3.6404347826087</dd><dt>Length</dt><dd>13.6144927536232</dd><dt>AperHt</dt><dd>3.32246376811594</dd><dt>AperWdt</dt><dd>2.36057971014493</dd><dt>LU</dt><dd>16.6584057971014</dd><dt>LipWdt</dt><dd>0.312898550724638</dd></dl>\n"
      ],
      "text/latex": [
       "\\begin{description*}\n",
       "\\item[Width] 3.6404347826087\n",
       "\\item[Length] 13.6144927536232\n",
       "\\item[AperHt] 3.32246376811594\n",
       "\\item[AperWdt] 2.36057971014493\n",
       "\\item[LU] 16.6584057971014\n",
       "\\item[LipWdt] 0.312898550724638\n",
       "\\end{description*}\n"
      ],
      "text/markdown": [
       "Width\n",
       ":   3.6404347826087Length\n",
       ":   13.6144927536232AperHt\n",
       ":   3.32246376811594AperWdt\n",
       ":   2.36057971014493LU\n",
       ":   16.6584057971014LipWdt\n",
       ":   0.312898550724638\n",
       "\n"
      ],
      "text/plain": [
       "     Width     Length     AperHt    AperWdt         LU     LipWdt \n",
       " 3.6404348 13.6144928  3.3224638  2.3605797 16.6584058  0.3128986 "
      ]
     },
     "metadata": {},
     "output_type": "display_data"
    }
   ],
   "source": [
    "means2 <- colMeans(type2[, c(\"Width\",\"Length\",\"AperHt\",\"AperWdt\",\"LU\",\"LipWdt\")])\n",
    "means2"
   ]
  },
  {
   "cell_type": "code",
   "execution_count": 66,
   "metadata": {
    "colab": {
     "base_uri": "https://localhost:8080/",
     "height": 179
    },
    "id": "Pm3UF7DuHOcF",
    "outputId": "8986d9ca-5e1e-4a1c-ba49-fd73cf98f195"
   },
   "outputs": [
    {
     "data": {
      "text/html": [
       "<table class=\"dataframe\">\n",
       "<caption>A matrix: 1 × 3 of type dbl</caption>\n",
       "<thead>\n",
       "\t<tr><th></th><th scope=col>fit</th><th scope=col>lwr</th><th scope=col>upr</th></tr>\n",
       "</thead>\n",
       "<tbody>\n",
       "\t<tr><th scope=row>Width</th><td>13.85015</td><td>13.10419</td><td>14.5961</td></tr>\n",
       "</tbody>\n",
       "</table>\n"
      ],
      "text/latex": [
       "A matrix: 1 × 3 of type dbl\n",
       "\\begin{tabular}{r|lll}\n",
       "  & fit & lwr & upr\\\\\n",
       "\\hline\n",
       "\tWidth & 13.85015 & 13.10419 & 14.5961\\\\\n",
       "\\end{tabular}\n"
      ],
      "text/markdown": [
       "\n",
       "A matrix: 1 × 3 of type dbl\n",
       "\n",
       "| <!--/--> | fit | lwr | upr |\n",
       "|---|---|---|---|\n",
       "| Width | 13.85015 | 13.10419 | 14.5961 |\n",
       "\n"
      ],
      "text/plain": [
       "      fit      lwr      upr    \n",
       "Width 13.85015 13.10419 14.5961"
      ]
     },
     "metadata": {},
     "output_type": "display_data"
    },
    {
     "data": {
      "text/html": [
       "<table class=\"dataframe\">\n",
       "<caption>A matrix: 1 × 3 of type dbl</caption>\n",
       "<thead>\n",
       "\t<tr><th></th><th scope=col>fit</th><th scope=col>lwr</th><th scope=col>upr</th></tr>\n",
       "</thead>\n",
       "<tbody>\n",
       "\t<tr><th scope=row>Width</th><td>13.85015</td><td>13.71615</td><td>13.98414</td></tr>\n",
       "</tbody>\n",
       "</table>\n"
      ],
      "text/latex": [
       "A matrix: 1 × 3 of type dbl\n",
       "\\begin{tabular}{r|lll}\n",
       "  & fit & lwr & upr\\\\\n",
       "\\hline\n",
       "\tWidth & 13.85015 & 13.71615 & 13.98414\\\\\n",
       "\\end{tabular}\n"
      ],
      "text/markdown": [
       "\n",
       "A matrix: 1 × 3 of type dbl\n",
       "\n",
       "| <!--/--> | fit | lwr | upr |\n",
       "|---|---|---|---|\n",
       "| Width | 13.85015 | 13.71615 | 13.98414 |\n",
       "\n"
      ],
      "text/plain": [
       "      fit      lwr      upr     \n",
       "Width 13.85015 13.71615 13.98414"
      ]
     },
     "metadata": {},
     "output_type": "display_data"
    }
   ],
   "source": [
    "newType2 <- data.frame(ShellType = \"Type2\",\n",
    "                             Width = means2[\"Width\"],\n",
    "                             Length = means2[\"Length\"],\n",
    "                             AperHt = means2[\"AperHt\"],\n",
    "                             AperWdt = means2[\"AperWdt\"],\n",
    "                             LU = means2[\"LU\"],\n",
    "                             LipWdt = means2[\"LipWdt\"])\n",
    "\n",
    "predType2 <- predict(stepwise_intertype1, newdata = newType2, interval = \"prediction\", level = 0.95)\n",
    "confType2 <- predict(stepwise_intertype1, newdata = newType2, interval = \"confidence\", level = 0.95)\n",
    "\n",
    "# Display the results\n",
    "predType2\n",
    "confType2"
   ]
  },
  {
   "cell_type": "code",
   "execution_count": null,
   "metadata": {
    "id": "LewRgTxLNyrx"
   },
   "outputs": [],
   "source": []
  },
  {
   "cell_type": "markdown",
   "metadata": {
    "id": "Bh7cx4kBR87W"
   },
   "source": [
    "#Check normality of the final regression model"
   ]
  },
  {
   "cell_type": "markdown",
   "metadata": {
    "id": "nLvrHG3SV8LB"
   },
   "source": [
    "#This snapshot shows final model when we separate type 2 data. Only type1 is used"
   ]
  },
  {
   "cell_type": "markdown",
   "metadata": {
    "id": "7n0d9CgiOqZf"
   },
   "source": [
    "![1.png](data:image/png;base64,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)"
   ]
  },
  {
   "cell_type": "code",
   "execution_count": 67,
   "metadata": {
    "colab": {
     "base_uri": "https://localhost:8080/",
     "height": 1000
    },
    "id": "x3GSskRzRdS5",
    "outputId": "970fdbdd-ea99-4825-e28a-43bf57e49b68"
   },
   "outputs": [
    {
     "data": {
      "text/plain": [
       "\n",
       "Call:\n",
       "lm(formula = sqrt(Length) ~ AperHt + LU, data = snail)\n",
       "\n",
       "Residuals:\n",
       "      Min        1Q    Median        3Q       Max \n",
       "-0.233035 -0.033600 -0.005836  0.037589  0.252884 \n",
       "\n",
       "Coefficients:\n",
       "             Estimate Std. Error t value Pr(>|t|)    \n",
       "(Intercept)  1.938581   0.051472  37.663   <2e-16 ***\n",
       "AperHt      -0.062159   0.023432  -2.653   0.0092 ** \n",
       "LU           0.117550   0.005671  20.727   <2e-16 ***\n",
       "---\n",
       "Signif. codes:  0 '***' 0.001 '**' 0.01 '*' 0.05 '.' 0.1 ' ' 1\n",
       "\n",
       "Residual standard error: 0.06201 on 107 degrees of freedom\n",
       "Multiple R-squared:  0.9197,\tAdjusted R-squared:  0.9182 \n",
       "F-statistic: 612.9 on 2 and 107 DF,  p-value: < 2.2e-16\n"
      ]
     },
     "metadata": {},
     "output_type": "display_data"
    },
    {
     "data": {
      "image/png": "[encoded data removed]",
      "text/plain": [
       "plot without title"
      ]
     },
     "metadata": {
      "image/png": {
       "height": 420,
       "width": 420
      }
     },
     "output_type": "display_data"
    },
    {
     "data": {
      "image/png": "[encoded data removed]",
      "text/plain": [
       "plot without title"
      ]
     },
     "metadata": {
      "image/png": {
       "height": 420,
       "width": 420
      }
     },
     "output_type": "display_data"
    }
   ],
   "source": [
    "finalmod <- lm(sqrt(Length)~ AperHt + LU, data = snail)\n",
    "summary(finalmod)\n",
    "\n",
    "ggplot(snail, aes(x = AperHt, y = Length)) +\n",
    "  geom_point(color = \"blue\") +\n",
    "  geom_smooth(method = \"lm\", formula = y ~ x, color = \"red\") +\n",
    "  labs(title = \"Length vs Aperture Height\", x = \"Aperture Height\", y = \"Length\")\n",
    "\n",
    "ggplot(snail, aes(x = LU, y = Length)) +\n",
    "  geom_point(color = \"blue\") +\n",
    "  geom_smooth(method = \"lm\", formula = y ~ x, color = \"red\") +\n",
    "  labs(title = \"Length vs LU\", x = \"LU\", y = \"Length\")\n"
   ]
  },
  {
   "cell_type": "code",
   "execution_count": 68,
   "metadata": {
    "colab": {
     "base_uri": "https://localhost:8080/"
    },
    "id": "ci0X1aw6JCg8",
    "outputId": "dbffc7ef-947c-4a2d-c056-afd561fde2cb"
   },
   "outputs": [
    {
     "name": "stderr",
     "output_type": "stream",
     "text": [
      "Installing package into 'C:/Users/haitr/AppData/Local/R/win-library/4.4'\n",
      "(as 'lib' is unspecified)\n",
      "\n"
     ]
    },
    {
     "name": "stdout",
     "output_type": "stream",
     "text": [
      "package 'car' successfully unpacked and MD5 sums checked\n",
      "\n",
      "The downloaded binary packages are in\n",
      "\tC:\\Users\\haitr\\AppData\\Local\\Temp\\Rtmpmebcut\\downloaded_packages\n"
     ]
    }
   ],
   "source": [
    "install.packages(\"car\")"
   ]
  },
  {
   "cell_type": "code",
   "execution_count": 69,
   "metadata": {
    "colab": {
     "base_uri": "https://localhost:8080/",
     "height": 273
    },
    "id": "Feaq6EVYNwNM",
    "outputId": "67177b66-b0c0-48a3-a372-92c0e4be022e"
   },
   "outputs": [
    {
     "name": "stderr",
     "output_type": "stream",
     "text": [
      "Warning message:\n",
      "\"package 'car' was built under R version 4.4.3\"\n",
      "Loading required package: carData\n",
      "\n",
      "Warning message:\n",
      "\"package 'carData' was built under R version 4.4.3\"\n",
      "\n",
      "Attaching package: 'car'\n",
      "\n",
      "\n",
      "The following object is masked from 'package:dplyr':\n",
      "\n",
      "    recode\n",
      "\n",
      "\n"
     ]
    },
    {
     "data": {
      "text/plain": [
       " lag Autocorrelation D-W Statistic p-value\n",
       "   1       0.1390709      1.712957    0.11\n",
       " Alternative hypothesis: rho != 0"
      ]
     },
     "metadata": {},
     "output_type": "display_data"
    }
   ],
   "source": [
    "library(car)\n",
    "dwt(finalmod)"
   ]
  },
  {
   "cell_type": "code",
   "execution_count": 70,
   "metadata": {
    "colab": {
     "base_uri": "https://localhost:8080/",
     "height": 437
    },
    "id": "RMlxFI4eTDyZ",
    "outputId": "fb481692-7e1b-4098-f6d7-1349dea05ce7"
   },
   "outputs": [
    {
     "data": {
      "image/png": "[encoded data removed]",
      "text/plain": [
       "Plot with title \"Normal Q-Q Plot\""
      ]
     },
     "metadata": {
      "image/png": {
       "height": 420,
       "width": 420
      }
     },
     "output_type": "display_data"
    }
   ],
   "source": [
    "#QQplot for normality\n",
    "qqnorm(residuals(finalmod))\n",
    "qqline(residuals(finalmod), col = \"red\")"
   ]
  },
  {
   "cell_type": "code",
   "execution_count": 71,
   "metadata": {
    "colab": {
     "base_uri": "https://localhost:8080/",
     "height": 437
    },
    "id": "erUnE-fZTb6L",
    "outputId": "2624b332-c26d-4df5-c895-7b1334ce2608"
   },
   "outputs": [
    {
     "data": {
      "image/png": "[encoded data removed]",
      "text/plain": [
       "Plot with title \"Fitted Values vs. Residuals\""
      ]
     },
     "metadata": {
      "image/png": {
       "height": 420,
       "width": 420
      }
     },
     "output_type": "display_data"
    }
   ],
   "source": [
    "# Plot of fitted values vs residuals\n",
    "plot(fitted(finalmod), residuals(finalmod),\n",
    "     xlab = \"Fitted Values\",\n",
    "     ylab = \"Residuals\",\n",
    "     main = \"Fitted Values vs. Residuals\")\n",
    "abline(h = 0, col = \"red\")"
   ]
  },
  {
   "cell_type": "code",
   "execution_count": 72,
   "metadata": {
    "colab": {
     "base_uri": "https://localhost:8080/",
     "height": 232
    },
    "id": "K9cJSUiDpnQO",
    "outputId": "44451d34-804a-41cc-a578-b8ced06c2f87"
   },
   "outputs": [
    {
     "data": {
      "image/png": "[encoded data removed]",
      "text/plain": [
       "Plot with title \"Lagged Residuals Plot\""
      ]
     },
     "metadata": {
      "image/png": {
       "height": 420,
       "width": 420
      }
     },
     "output_type": "display_data"
    }
   ],
   "source": [
    "plot(finalmod$residuals[-1], finalmod$residuals[-length(finalmod$residuals)],    xlab = \"Lagged Residuals\", ylab = \"Residuals\",\n",
    "main = \"Lagged Residuals Plot\", pch = 16, col = \"blue\")"
   ]
  },
  {
   "cell_type": "markdown",
   "metadata": {
    "id": "YKpw9TYqdVSy"
   },
   "source": [
    "#Calculating the correlation between the Length and predictors. exclude shelltype--qualitative variables."
   ]
  },
  {
   "cell_type": "code",
   "execution_count": 73,
   "metadata": {
    "id": "sbCDTv89bO53"
   },
   "outputs": [],
   "source": [
    "isnum<-rep(999, 7)"
   ]
  },
  {
   "cell_type": "code",
   "execution_count": 74,
   "metadata": {
    "id": "dmg-J6z7Trjd"
   },
   "outputs": [],
   "source": [
    "for(i in 1:7){isnum[i]<-is.numeric(snail[,i])}"
   ]
  },
  {
   "cell_type": "code",
   "execution_count": 75,
   "metadata": {
    "colab": {
     "base_uri": "https://localhost:8080/",
     "height": 89
    },
    "id": "0wx6fGdUZAuB",
    "outputId": "911f8a72-f889-4836-c291-fc40dc804214"
   },
   "outputs": [
    {
     "data": {
      "text/plain": [
       "isnum\n",
       "0 1 \n",
       "1 6 "
      ]
     },
     "metadata": {},
     "output_type": "display_data"
    },
    {
     "data": {
      "text/html": [
       "1"
      ],
      "text/latex": [
       "1"
      ],
      "text/markdown": [
       "1"
      ],
      "text/plain": [
       "[1] 1"
      ]
     },
     "metadata": {},
     "output_type": "display_data"
    }
   ],
   "source": [
    "table(isnum)\n",
    "(1:7)[isnum==0]"
   ]
  },
  {
   "cell_type": "code",
   "execution_count": 76,
   "metadata": {
    "colab": {
     "base_uri": "https://localhost:8080/",
     "height": 1000
    },
    "id": "Ase01IyubXZ9",
    "outputId": "9317774c-0f81-43b9-a421-977157472eb7"
   },
   "outputs": [
    {
     "data": {
      "text/html": [
       "<table class=\"dataframe\">\n",
       "<caption>A data.frame: 110 × 5</caption>\n",
       "<thead>\n",
       "\t<tr><th scope=col>Width</th><th scope=col>AperHt</th><th scope=col>AperWdt</th><th scope=col>LU</th><th scope=col>LipWdt</th></tr>\n",
       "\t<tr><th scope=col>&lt;dbl&gt;</th><th scope=col>&lt;dbl&gt;</th><th scope=col>&lt;dbl&gt;</th><th scope=col>&lt;dbl&gt;</th><th scope=col>&lt;dbl&gt;</th></tr>\n",
       "</thead>\n",
       "<tbody>\n",
       "\t<tr><td>4.04</td><td>3.70</td><td>2.58</td><td>17.91</td><td>0.35</td></tr>\n",
       "\t<tr><td>3.77</td><td>3.54</td><td>2.46</td><td>16.63</td><td>0.39</td></tr>\n",
       "\t<tr><td>3.86</td><td>3.33</td><td>2.06</td><td>16.90</td><td>0.32</td></tr>\n",
       "\t<tr><td>4.13</td><td>3.49</td><td>2.42</td><td>16.80</td><td>0.43</td></tr>\n",
       "\t<tr><td>4.25</td><td>3.99</td><td>2.66</td><td>19.04</td><td>0.48</td></tr>\n",
       "\t<tr><td>4.16</td><td>3.38</td><td>2.08</td><td>18.48</td><td>0.50</td></tr>\n",
       "\t<tr><td>3.87</td><td>3.41</td><td>2.32</td><td>15.94</td><td>0.26</td></tr>\n",
       "\t<tr><td>3.91</td><td>3.95</td><td>2.82</td><td>16.62</td><td>0.49</td></tr>\n",
       "\t<tr><td>3.99</td><td>3.36</td><td>2.78</td><td>16.18</td><td>0.26</td></tr>\n",
       "\t<tr><td>4.02</td><td>3.81</td><td>2.70</td><td>17.43</td><td>0.43</td></tr>\n",
       "\t<tr><td>3.87</td><td>3.80</td><td>2.62</td><td>17.35</td><td>0.36</td></tr>\n",
       "\t<tr><td>3.88</td><td>3.47</td><td>2.40</td><td>15.61</td><td>0.38</td></tr>\n",
       "\t<tr><td>3.87</td><td>3.92</td><td>2.75</td><td>16.95</td><td>0.38</td></tr>\n",
       "\t<tr><td>3.63</td><td>2.79</td><td>1.84</td><td>16.28</td><td>0.26</td></tr>\n",
       "\t<tr><td>3.78</td><td>3.86</td><td>2.84</td><td>19.34</td><td>0.32</td></tr>\n",
       "\t<tr><td>4.02</td><td>3.99</td><td>2.40</td><td>16.98</td><td>0.37</td></tr>\n",
       "\t<tr><td>3.63</td><td>3.60</td><td>2.49</td><td>17.76</td><td>0.27</td></tr>\n",
       "\t<tr><td>3.94</td><td>3.53</td><td>2.16</td><td>18.54</td><td>0.32</td></tr>\n",
       "\t<tr><td>3.62</td><td>3.49</td><td>2.49</td><td>16.88</td><td>0.31</td></tr>\n",
       "\t<tr><td>3.65</td><td>3.31</td><td>2.30</td><td>17.69</td><td>0.28</td></tr>\n",
       "\t<tr><td>3.90</td><td>2.76</td><td>2.00</td><td>16.03</td><td>0.17</td></tr>\n",
       "\t<tr><td>3.85</td><td>3.67</td><td>2.80</td><td>17.05</td><td>0.37</td></tr>\n",
       "\t<tr><td>3.75</td><td>3.44</td><td>2.41</td><td>16.34</td><td>0.33</td></tr>\n",
       "\t<tr><td>3.71</td><td>2.90</td><td>2.27</td><td>16.24</td><td>0.28</td></tr>\n",
       "\t<tr><td>3.39</td><td>2.71</td><td>1.99</td><td>15.81</td><td>0.20</td></tr>\n",
       "\t<tr><td>3.47</td><td>2.84</td><td>2.33</td><td>15.75</td><td>0.24</td></tr>\n",
       "\t<tr><td>3.66</td><td>3.32</td><td>2.47</td><td>16.46</td><td>0.38</td></tr>\n",
       "\t<tr><td>3.81</td><td>3.87</td><td>2.80</td><td>17.97</td><td>0.36</td></tr>\n",
       "\t<tr><td>3.91</td><td>3.87</td><td>2.79</td><td>18.66</td><td>0.28</td></tr>\n",
       "\t<tr><td>3.57</td><td>3.24</td><td>2.30</td><td>16.72</td><td>0.39</td></tr>\n",
       "\t<tr><td>⋮</td><td>⋮</td><td>⋮</td><td>⋮</td><td>⋮</td></tr>\n",
       "\t<tr><td>3.81</td><td>4.20</td><td>2.91</td><td>20.74</td><td>0.33</td></tr>\n",
       "\t<tr><td>3.66</td><td>3.40</td><td>2.49</td><td>18.88</td><td>0.45</td></tr>\n",
       "\t<tr><td>4.04</td><td>4.17</td><td>3.03</td><td>21.75</td><td>0.42</td></tr>\n",
       "\t<tr><td>4.13</td><td>3.67</td><td>2.25</td><td>19.76</td><td>0.29</td></tr>\n",
       "\t<tr><td>3.70</td><td>3.59</td><td>2.53</td><td>17.77</td><td>0.31</td></tr>\n",
       "\t<tr><td>3.83</td><td>3.42</td><td>2.46</td><td>18.19</td><td>0.20</td></tr>\n",
       "\t<tr><td>3.75</td><td>3.89</td><td>2.55</td><td>18.56</td><td>0.36</td></tr>\n",
       "\t<tr><td>3.58</td><td>3.96</td><td>2.68</td><td>17.35</td><td>0.43</td></tr>\n",
       "\t<tr><td>4.10</td><td>4.27</td><td>2.80</td><td>20.20</td><td>0.54</td></tr>\n",
       "\t<tr><td>4.07</td><td>3.98</td><td>3.03</td><td>18.94</td><td>0.47</td></tr>\n",
       "\t<tr><td>3.71</td><td>3.35</td><td>2.30</td><td>19.02</td><td>0.31</td></tr>\n",
       "\t<tr><td>4.00</td><td>3.85</td><td>2.84</td><td>18.44</td><td>0.46</td></tr>\n",
       "\t<tr><td>3.80</td><td>3.78</td><td>2.63</td><td>18.19</td><td>0.32</td></tr>\n",
       "\t<tr><td>3.67</td><td>3.10</td><td>2.33</td><td>14.34</td><td>0.42</td></tr>\n",
       "\t<tr><td>3.40</td><td>2.70</td><td>1.83</td><td>14.10</td><td>0.40</td></tr>\n",
       "\t<tr><td>3.52</td><td>3.16</td><td>2.18</td><td>14.85</td><td>0.29</td></tr>\n",
       "\t<tr><td>3.53</td><td>2.71</td><td>2.30</td><td>15.04</td><td>0.35</td></tr>\n",
       "\t<tr><td>3.53</td><td>3.06</td><td>2.07</td><td>14.54</td><td>0.21</td></tr>\n",
       "\t<tr><td>3.69</td><td>2.82</td><td>2.00</td><td>14.23</td><td>0.31</td></tr>\n",
       "\t<tr><td>3.38</td><td>2.73</td><td>2.00</td><td>14.24</td><td>0.32</td></tr>\n",
       "\t<tr><td>3.19</td><td>2.46</td><td>1.93</td><td>11.59</td><td>0.33</td></tr>\n",
       "\t<tr><td>2.89</td><td>2.40</td><td>2.11</td><td>12.73</td><td>0.34</td></tr>\n",
       "\t<tr><td>3.27</td><td>2.93</td><td>1.80</td><td>14.50</td><td>0.25</td></tr>\n",
       "\t<tr><td>3.14</td><td>2.45</td><td>1.89</td><td>14.27</td><td>0.22</td></tr>\n",
       "\t<tr><td>3.37</td><td>2.71</td><td>2.42</td><td>13.74</td><td>0.28</td></tr>\n",
       "\t<tr><td>3.19</td><td>2.84</td><td>2.02</td><td>14.38</td><td>0.28</td></tr>\n",
       "\t<tr><td>2.70</td><td>2.40</td><td>1.64</td><td>13.24</td><td>0.36</td></tr>\n",
       "\t<tr><td>3.09</td><td>3.01</td><td>1.99</td><td>15.07</td><td>0.32</td></tr>\n",
       "\t<tr><td>3.12</td><td>2.62</td><td>1.81</td><td>13.08</td><td>0.22</td></tr>\n",
       "\t<tr><td>3.04</td><td>2.61</td><td>2.44</td><td>13.24</td><td>0.30</td></tr>\n",
       "</tbody>\n",
       "</table>\n"
      ],
      "text/latex": [
       "A data.frame: 110 × 5\n",
       "\\begin{tabular}{lllll}\n",
       " Width & AperHt & AperWdt & LU & LipWdt\\\\\n",
       " <dbl> & <dbl> & <dbl> & <dbl> & <dbl>\\\\\n",
       "\\hline\n",
       "\t 4.04 & 3.70 & 2.58 & 17.91 & 0.35\\\\\n",
       "\t 3.77 & 3.54 & 2.46 & 16.63 & 0.39\\\\\n",
       "\t 3.86 & 3.33 & 2.06 & 16.90 & 0.32\\\\\n",
       "\t 4.13 & 3.49 & 2.42 & 16.80 & 0.43\\\\\n",
       "\t 4.25 & 3.99 & 2.66 & 19.04 & 0.48\\\\\n",
       "\t 4.16 & 3.38 & 2.08 & 18.48 & 0.50\\\\\n",
       "\t 3.87 & 3.41 & 2.32 & 15.94 & 0.26\\\\\n",
       "\t 3.91 & 3.95 & 2.82 & 16.62 & 0.49\\\\\n",
       "\t 3.99 & 3.36 & 2.78 & 16.18 & 0.26\\\\\n",
       "\t 4.02 & 3.81 & 2.70 & 17.43 & 0.43\\\\\n",
       "\t 3.87 & 3.80 & 2.62 & 17.35 & 0.36\\\\\n",
       "\t 3.88 & 3.47 & 2.40 & 15.61 & 0.38\\\\\n",
       "\t 3.87 & 3.92 & 2.75 & 16.95 & 0.38\\\\\n",
       "\t 3.63 & 2.79 & 1.84 & 16.28 & 0.26\\\\\n",
       "\t 3.78 & 3.86 & 2.84 & 19.34 & 0.32\\\\\n",
       "\t 4.02 & 3.99 & 2.40 & 16.98 & 0.37\\\\\n",
       "\t 3.63 & 3.60 & 2.49 & 17.76 & 0.27\\\\\n",
       "\t 3.94 & 3.53 & 2.16 & 18.54 & 0.32\\\\\n",
       "\t 3.62 & 3.49 & 2.49 & 16.88 & 0.31\\\\\n",
       "\t 3.65 & 3.31 & 2.30 & 17.69 & 0.28\\\\\n",
       "\t 3.90 & 2.76 & 2.00 & 16.03 & 0.17\\\\\n",
       "\t 3.85 & 3.67 & 2.80 & 17.05 & 0.37\\\\\n",
       "\t 3.75 & 3.44 & 2.41 & 16.34 & 0.33\\\\\n",
       "\t 3.71 & 2.90 & 2.27 & 16.24 & 0.28\\\\\n",
       "\t 3.39 & 2.71 & 1.99 & 15.81 & 0.20\\\\\n",
       "\t 3.47 & 2.84 & 2.33 & 15.75 & 0.24\\\\\n",
       "\t 3.66 & 3.32 & 2.47 & 16.46 & 0.38\\\\\n",
       "\t 3.81 & 3.87 & 2.80 & 17.97 & 0.36\\\\\n",
       "\t 3.91 & 3.87 & 2.79 & 18.66 & 0.28\\\\\n",
       "\t 3.57 & 3.24 & 2.30 & 16.72 & 0.39\\\\\n",
       "\t ⋮ & ⋮ & ⋮ & ⋮ & ⋮\\\\\n",
       "\t 3.81 & 4.20 & 2.91 & 20.74 & 0.33\\\\\n",
       "\t 3.66 & 3.40 & 2.49 & 18.88 & 0.45\\\\\n",
       "\t 4.04 & 4.17 & 3.03 & 21.75 & 0.42\\\\\n",
       "\t 4.13 & 3.67 & 2.25 & 19.76 & 0.29\\\\\n",
       "\t 3.70 & 3.59 & 2.53 & 17.77 & 0.31\\\\\n",
       "\t 3.83 & 3.42 & 2.46 & 18.19 & 0.20\\\\\n",
       "\t 3.75 & 3.89 & 2.55 & 18.56 & 0.36\\\\\n",
       "\t 3.58 & 3.96 & 2.68 & 17.35 & 0.43\\\\\n",
       "\t 4.10 & 4.27 & 2.80 & 20.20 & 0.54\\\\\n",
       "\t 4.07 & 3.98 & 3.03 & 18.94 & 0.47\\\\\n",
       "\t 3.71 & 3.35 & 2.30 & 19.02 & 0.31\\\\\n",
       "\t 4.00 & 3.85 & 2.84 & 18.44 & 0.46\\\\\n",
       "\t 3.80 & 3.78 & 2.63 & 18.19 & 0.32\\\\\n",
       "\t 3.67 & 3.10 & 2.33 & 14.34 & 0.42\\\\\n",
       "\t 3.40 & 2.70 & 1.83 & 14.10 & 0.40\\\\\n",
       "\t 3.52 & 3.16 & 2.18 & 14.85 & 0.29\\\\\n",
       "\t 3.53 & 2.71 & 2.30 & 15.04 & 0.35\\\\\n",
       "\t 3.53 & 3.06 & 2.07 & 14.54 & 0.21\\\\\n",
       "\t 3.69 & 2.82 & 2.00 & 14.23 & 0.31\\\\\n",
       "\t 3.38 & 2.73 & 2.00 & 14.24 & 0.32\\\\\n",
       "\t 3.19 & 2.46 & 1.93 & 11.59 & 0.33\\\\\n",
       "\t 2.89 & 2.40 & 2.11 & 12.73 & 0.34\\\\\n",
       "\t 3.27 & 2.93 & 1.80 & 14.50 & 0.25\\\\\n",
       "\t 3.14 & 2.45 & 1.89 & 14.27 & 0.22\\\\\n",
       "\t 3.37 & 2.71 & 2.42 & 13.74 & 0.28\\\\\n",
       "\t 3.19 & 2.84 & 2.02 & 14.38 & 0.28\\\\\n",
       "\t 2.70 & 2.40 & 1.64 & 13.24 & 0.36\\\\\n",
       "\t 3.09 & 3.01 & 1.99 & 15.07 & 0.32\\\\\n",
       "\t 3.12 & 2.62 & 1.81 & 13.08 & 0.22\\\\\n",
       "\t 3.04 & 2.61 & 2.44 & 13.24 & 0.30\\\\\n",
       "\\end{tabular}\n"
      ],
      "text/markdown": [
       "\n",
       "A data.frame: 110 × 5\n",
       "\n",
       "| Width &lt;dbl&gt; | AperHt &lt;dbl&gt; | AperWdt &lt;dbl&gt; | LU &lt;dbl&gt; | LipWdt &lt;dbl&gt; |\n",
       "|---|---|---|---|---|\n",
       "| 4.04 | 3.70 | 2.58 | 17.91 | 0.35 |\n",
       "| 3.77 | 3.54 | 2.46 | 16.63 | 0.39 |\n",
       "| 3.86 | 3.33 | 2.06 | 16.90 | 0.32 |\n",
       "| 4.13 | 3.49 | 2.42 | 16.80 | 0.43 |\n",
       "| 4.25 | 3.99 | 2.66 | 19.04 | 0.48 |\n",
       "| 4.16 | 3.38 | 2.08 | 18.48 | 0.50 |\n",
       "| 3.87 | 3.41 | 2.32 | 15.94 | 0.26 |\n",
       "| 3.91 | 3.95 | 2.82 | 16.62 | 0.49 |\n",
       "| 3.99 | 3.36 | 2.78 | 16.18 | 0.26 |\n",
       "| 4.02 | 3.81 | 2.70 | 17.43 | 0.43 |\n",
       "| 3.87 | 3.80 | 2.62 | 17.35 | 0.36 |\n",
       "| 3.88 | 3.47 | 2.40 | 15.61 | 0.38 |\n",
       "| 3.87 | 3.92 | 2.75 | 16.95 | 0.38 |\n",
       "| 3.63 | 2.79 | 1.84 | 16.28 | 0.26 |\n",
       "| 3.78 | 3.86 | 2.84 | 19.34 | 0.32 |\n",
       "| 4.02 | 3.99 | 2.40 | 16.98 | 0.37 |\n",
       "| 3.63 | 3.60 | 2.49 | 17.76 | 0.27 |\n",
       "| 3.94 | 3.53 | 2.16 | 18.54 | 0.32 |\n",
       "| 3.62 | 3.49 | 2.49 | 16.88 | 0.31 |\n",
       "| 3.65 | 3.31 | 2.30 | 17.69 | 0.28 |\n",
       "| 3.90 | 2.76 | 2.00 | 16.03 | 0.17 |\n",
       "| 3.85 | 3.67 | 2.80 | 17.05 | 0.37 |\n",
       "| 3.75 | 3.44 | 2.41 | 16.34 | 0.33 |\n",
       "| 3.71 | 2.90 | 2.27 | 16.24 | 0.28 |\n",
       "| 3.39 | 2.71 | 1.99 | 15.81 | 0.20 |\n",
       "| 3.47 | 2.84 | 2.33 | 15.75 | 0.24 |\n",
       "| 3.66 | 3.32 | 2.47 | 16.46 | 0.38 |\n",
       "| 3.81 | 3.87 | 2.80 | 17.97 | 0.36 |\n",
       "| 3.91 | 3.87 | 2.79 | 18.66 | 0.28 |\n",
       "| 3.57 | 3.24 | 2.30 | 16.72 | 0.39 |\n",
       "| ⋮ | ⋮ | ⋮ | ⋮ | ⋮ |\n",
       "| 3.81 | 4.20 | 2.91 | 20.74 | 0.33 |\n",
       "| 3.66 | 3.40 | 2.49 | 18.88 | 0.45 |\n",
       "| 4.04 | 4.17 | 3.03 | 21.75 | 0.42 |\n",
       "| 4.13 | 3.67 | 2.25 | 19.76 | 0.29 |\n",
       "| 3.70 | 3.59 | 2.53 | 17.77 | 0.31 |\n",
       "| 3.83 | 3.42 | 2.46 | 18.19 | 0.20 |\n",
       "| 3.75 | 3.89 | 2.55 | 18.56 | 0.36 |\n",
       "| 3.58 | 3.96 | 2.68 | 17.35 | 0.43 |\n",
       "| 4.10 | 4.27 | 2.80 | 20.20 | 0.54 |\n",
       "| 4.07 | 3.98 | 3.03 | 18.94 | 0.47 |\n",
       "| 3.71 | 3.35 | 2.30 | 19.02 | 0.31 |\n",
       "| 4.00 | 3.85 | 2.84 | 18.44 | 0.46 |\n",
       "| 3.80 | 3.78 | 2.63 | 18.19 | 0.32 |\n",
       "| 3.67 | 3.10 | 2.33 | 14.34 | 0.42 |\n",
       "| 3.40 | 2.70 | 1.83 | 14.10 | 0.40 |\n",
       "| 3.52 | 3.16 | 2.18 | 14.85 | 0.29 |\n",
       "| 3.53 | 2.71 | 2.30 | 15.04 | 0.35 |\n",
       "| 3.53 | 3.06 | 2.07 | 14.54 | 0.21 |\n",
       "| 3.69 | 2.82 | 2.00 | 14.23 | 0.31 |\n",
       "| 3.38 | 2.73 | 2.00 | 14.24 | 0.32 |\n",
       "| 3.19 | 2.46 | 1.93 | 11.59 | 0.33 |\n",
       "| 2.89 | 2.40 | 2.11 | 12.73 | 0.34 |\n",
       "| 3.27 | 2.93 | 1.80 | 14.50 | 0.25 |\n",
       "| 3.14 | 2.45 | 1.89 | 14.27 | 0.22 |\n",
       "| 3.37 | 2.71 | 2.42 | 13.74 | 0.28 |\n",
       "| 3.19 | 2.84 | 2.02 | 14.38 | 0.28 |\n",
       "| 2.70 | 2.40 | 1.64 | 13.24 | 0.36 |\n",
       "| 3.09 | 3.01 | 1.99 | 15.07 | 0.32 |\n",
       "| 3.12 | 2.62 | 1.81 | 13.08 | 0.22 |\n",
       "| 3.04 | 2.61 | 2.44 | 13.24 | 0.30 |\n",
       "\n"
      ],
      "text/plain": [
       "    Width AperHt AperWdt LU    LipWdt\n",
       "1   4.04  3.70   2.58    17.91 0.35  \n",
       "2   3.77  3.54   2.46    16.63 0.39  \n",
       "3   3.86  3.33   2.06    16.90 0.32  \n",
       "4   4.13  3.49   2.42    16.80 0.43  \n",
       "5   4.25  3.99   2.66    19.04 0.48  \n",
       "6   4.16  3.38   2.08    18.48 0.50  \n",
       "7   3.87  3.41   2.32    15.94 0.26  \n",
       "8   3.91  3.95   2.82    16.62 0.49  \n",
       "9   3.99  3.36   2.78    16.18 0.26  \n",
       "10  4.02  3.81   2.70    17.43 0.43  \n",
       "11  3.87  3.80   2.62    17.35 0.36  \n",
       "12  3.88  3.47   2.40    15.61 0.38  \n",
       "13  3.87  3.92   2.75    16.95 0.38  \n",
       "14  3.63  2.79   1.84    16.28 0.26  \n",
       "15  3.78  3.86   2.84    19.34 0.32  \n",
       "16  4.02  3.99   2.40    16.98 0.37  \n",
       "17  3.63  3.60   2.49    17.76 0.27  \n",
       "18  3.94  3.53   2.16    18.54 0.32  \n",
       "19  3.62  3.49   2.49    16.88 0.31  \n",
       "20  3.65  3.31   2.30    17.69 0.28  \n",
       "21  3.90  2.76   2.00    16.03 0.17  \n",
       "22  3.85  3.67   2.80    17.05 0.37  \n",
       "23  3.75  3.44   2.41    16.34 0.33  \n",
       "24  3.71  2.90   2.27    16.24 0.28  \n",
       "25  3.39  2.71   1.99    15.81 0.20  \n",
       "26  3.47  2.84   2.33    15.75 0.24  \n",
       "27  3.66  3.32   2.47    16.46 0.38  \n",
       "28  3.81  3.87   2.80    17.97 0.36  \n",
       "29  3.91  3.87   2.79    18.66 0.28  \n",
       "30  3.57  3.24   2.30    16.72 0.39  \n",
       "⋮   ⋮     ⋮      ⋮       ⋮     ⋮     \n",
       "81  3.81  4.20   2.91    20.74 0.33  \n",
       "82  3.66  3.40   2.49    18.88 0.45  \n",
       "83  4.04  4.17   3.03    21.75 0.42  \n",
       "84  4.13  3.67   2.25    19.76 0.29  \n",
       "85  3.70  3.59   2.53    17.77 0.31  \n",
       "86  3.83  3.42   2.46    18.19 0.20  \n",
       "87  3.75  3.89   2.55    18.56 0.36  \n",
       "88  3.58  3.96   2.68    17.35 0.43  \n",
       "89  4.10  4.27   2.80    20.20 0.54  \n",
       "90  4.07  3.98   3.03    18.94 0.47  \n",
       "91  3.71  3.35   2.30    19.02 0.31  \n",
       "92  4.00  3.85   2.84    18.44 0.46  \n",
       "93  3.80  3.78   2.63    18.19 0.32  \n",
       "94  3.67  3.10   2.33    14.34 0.42  \n",
       "95  3.40  2.70   1.83    14.10 0.40  \n",
       "96  3.52  3.16   2.18    14.85 0.29  \n",
       "97  3.53  2.71   2.30    15.04 0.35  \n",
       "98  3.53  3.06   2.07    14.54 0.21  \n",
       "99  3.69  2.82   2.00    14.23 0.31  \n",
       "100 3.38  2.73   2.00    14.24 0.32  \n",
       "101 3.19  2.46   1.93    11.59 0.33  \n",
       "102 2.89  2.40   2.11    12.73 0.34  \n",
       "103 3.27  2.93   1.80    14.50 0.25  \n",
       "104 3.14  2.45   1.89    14.27 0.22  \n",
       "105 3.37  2.71   2.42    13.74 0.28  \n",
       "106 3.19  2.84   2.02    14.38 0.28  \n",
       "107 2.70  2.40   1.64    13.24 0.36  \n",
       "108 3.09  3.01   1.99    15.07 0.32  \n",
       "109 3.12  2.62   1.81    13.08 0.22  \n",
       "110 3.04  2.61   2.44    13.24 0.30  "
      ]
     },
     "metadata": {},
     "output_type": "display_data"
    }
   ],
   "source": [
    "datnum<-snail[,-c(1,3,8)]\n",
    "datnum"
   ]
  },
  {
   "cell_type": "code",
   "execution_count": 77,
   "metadata": {
    "id": "wCz5YWv4btDX"
   },
   "outputs": [],
   "source": [
    "corvec<-cor(snail$Length, datnum, use=\"pairwise.complete\")"
   ]
  },
  {
   "cell_type": "code",
   "execution_count": 78,
   "metadata": {
    "colab": {
     "base_uri": "https://localhost:8080/",
     "height": 437
    },
    "id": "3xj4yQGvb7dH",
    "outputId": "82a62938-5b8e-4b8b-b4e5-b01a29d930fb"
   },
   "outputs": [
    {
     "data": {
      "image/png": "[encoded data removed]",
      "text/plain": [
       "Plot with title \"Histogram of corvec\""
      ]
     },
     "metadata": {
      "image/png": {
       "height": 420,
       "width": 420
      }
     },
     "output_type": "display_data"
    }
   ],
   "source": [
    "hist(corvec)"
   ]
  },
  {
   "cell_type": "code",
   "execution_count": 79,
   "metadata": {
    "colab": {
     "base_uri": "https://localhost:8080/",
     "height": 126
    },
    "id": "p87ptbhIc9_h",
    "outputId": "a859aa53-0280-417f-fe3b-05fc41646134"
   },
   "outputs": [
    {
     "data": {
      "text/html": [
       "<ol>\n",
       "\t<li><table class=\"dataframe\">\n",
       "<caption>A matrix: 1 × 5 of type dbl</caption>\n",
       "<thead>\n",
       "\t<tr><th scope=col>Width</th><th scope=col>AperHt</th><th scope=col>AperWdt</th><th scope=col>LU</th><th scope=col>LipWdt</th></tr>\n",
       "</thead>\n",
       "<tbody>\n",
       "\t<tr><td>0.6904944</td><td>0.766616</td><td>0.5869129</td><td>0.9547695</td><td>0.3840259</td></tr>\n",
       "</tbody>\n",
       "</table>\n",
       "</li>\n",
       "</ol>\n"
      ],
      "text/latex": [
       "\\begin{enumerate}\n",
       "\\item A matrix: 1 × 5 of type dbl\n",
       "\\begin{tabular}{lllll}\n",
       " Width & AperHt & AperWdt & LU & LipWdt\\\\\n",
       "\\hline\n",
       "\t 0.6904944 & 0.766616 & 0.5869129 & 0.9547695 & 0.3840259\\\\\n",
       "\\end{tabular}\n",
       "\n",
       "\\end{enumerate}\n"
      ],
      "text/markdown": [
       "1. \n",
       "A matrix: 1 × 5 of type dbl\n",
       "\n",
       "| Width | AperHt | AperWdt | LU | LipWdt |\n",
       "|---|---|---|---|---|\n",
       "| 0.6904944 | 0.766616 | 0.5869129 | 0.9547695 | 0.3840259 |\n",
       "\n",
       "\n",
       "\n",
       "\n"
      ],
      "text/plain": [
       "[[1]]\n",
       "         Width   AperHt   AperWdt        LU    LipWdt\n",
       "[1,] 0.6904944 0.766616 0.5869129 0.9547695 0.3840259\n"
      ]
     },
     "metadata": {},
     "output_type": "display_data"
    }
   ],
   "source": [
    "list(corvec)"
   ]
  },
  {
   "cell_type": "code",
   "execution_count": null,
   "metadata": {
    "id": "2fCW16MMdEsL"
   },
   "outputs": [],
   "source": []
  },
  {
   "cell_type": "markdown",
   "metadata": {
    "id": "yThHhT7Kv62W"
   },
   "source": [
    "#Compare KNN model with the final model I choose. Final model will be named multi linear regression in this scenario."
   ]
  },
  {
   "cell_type": "code",
   "execution_count": 80,
   "metadata": {
    "colab": {
     "base_uri": "https://localhost:8080/",
     "height": 356
    },
    "id": "eYy0vyY909rw",
    "outputId": "d293fed7-e620-465b-bdae-7b557c15f8a4"
   },
   "outputs": [],
   "source": [
    "final.mureg = lm(sqrt(Length) ~ AperHt + LU, data = train.data)\n",
    "pred.mureg = predict(final.mureg, test.data[,-2])"
   ]
  },
  {
   "cell_type": "code",
   "execution_count": 81,
   "metadata": {
    "colab": {
     "base_uri": "https://localhost:8080/",
     "height": 437
    },
    "id": "x1t7NDkf1DIT",
    "outputId": "4d31f203-f6bb-40c9-f9b6-beeb5b7e8c6b"
   },
   "outputs": [
    {
     "data": {
      "image/png": "[encoded data removed]",
      "text/plain": [
       "Plot with title \"Snail test data prediction\""
      ]
     },
     "metadata": {
      "image/png": {
       "height": 420,
       "width": 420
      }
     },
     "output_type": "display_data"
    }
   ],
   "source": [
    "x = 1:length(as.numeric(unlist(test.data[, 2])))\n",
    "plot(x, sqrt(as.numeric(unlist(test.data[, 2]))), col = \"red\", type = \"b\", lwd = 3, pch = 1, ylab = \"Length test\",\n",
    "     ylim = c(3, 5), main = \"Snail test data prediction\")\n",
    "\n",
    "# Add points and lines for different models\n",
    "points(x, pred.mureg, col = \"brown\", lwd = 2, pch = 3, type = \"b\")\n",
    "lines(x, pred_y2, col = \"green\", lwd = 2, pch = 22, type = \"o\")\n",
    "\n",
    "# Add legend\n",
    "legend(\"topright\", legend = c(\"original-length\", \"predicted-MR\", \"predicted-KNN\"),\n",
    "       lty = c(1, 1, 1, 1), pch = c(1, 16, 3, 22), col = c(\"red\", \"brown\", \"green\"), adj = c(0, 0.6))\n",
    "grid()"
   ]
  },
  {
   "cell_type": "markdown",
   "metadata": {
    "id": "8qz8AlBOLs1f"
   },
   "source": [
    "# Calculate leverage, DFBeta, and DFFITS"
   ]
  },
  {
   "cell_type": "code",
   "execution_count": 82,
   "metadata": {
    "colab": {
     "base_uri": "https://localhost:8080/",
     "height": 232
    },
    "id": "i-zB9jRqLyqs",
    "outputId": "367624ba-c6bb-4635-c584-692f3c894427"
   },
   "outputs": [],
   "source": [
    "leverage <- hatvalues(finalmod)\n",
    "dfbeta <- dfbeta(finalmod)\n",
    "dffits <- dffits(finalmod)"
   ]
  },
  {
   "cell_type": "code",
   "execution_count": 83,
   "metadata": {
    "id": "o6AAMDO4L3pa"
   },
   "outputs": [],
   "source": [
    "# Identify outliers and high leverage points\n",
    "outlier_threshold <- 2 * sd(residuals(finalmod))\n",
    "high_leverage_threshold <- 2 * mean(leverage)\n",
    "\n",
    "outliers <- abs(residuals(finalmod)) > outlier_threshold\n",
    "high_leverage_points <- leverage > high_leverage_threshold"
   ]
  },
  {
   "cell_type": "code",
   "execution_count": 84,
   "metadata": {
    "id": "ndfihqYpL7c6"
   },
   "outputs": [],
   "source": [
    "# Create a data frame for plotting Length vs LU\n",
    "plot_data <- data.frame(\n",
    "  x = snail$LU,\n",
    "  y = sqrt(snail$Length),\n",
    "  leverage = leverage,\n",
    "  dfbeta = dfbeta[, \"LU\"],\n",
    "  dffits = dffits,\n",
    "  outliers = outliers,\n",
    "  high_leverage_points = high_leverage_points\n",
    ")"
   ]
  },
  {
   "cell_type": "code",
   "execution_count": 85,
   "metadata": {
    "colab": {
     "base_uri": "https://localhost:8080/",
     "height": 437
    },
    "id": "PntEIPF5MGSK",
    "outputId": "5258f133-0607-4bc3-9f47-e6b572303167"
   },
   "outputs": [
    {
     "data": {
      "image/png": "[encoded data removed]",
      "text/plain": [
       "plot without title"
      ]
     },
     "metadata": {
      "image/png": {
       "height": 420,
       "width": 420
      }
     },
     "output_type": "display_data"
    }
   ],
   "source": [
    "# Create the plot Length vs LU\n",
    "p <- ggplot(plot_data, aes(x = x, y = y)) +\n",
    "  geom_point(aes(color = outliers, shape = high_leverage_points), size = 2) +\n",
    "  scale_color_manual(values = c(\"black\", \"red\")) +\n",
    "  scale_shape_manual(values = c(16, 17)) +\n",
    "  theme_minimal() +\n",
    "  labs(\n",
    "    title = \"Linear Regression Diagnostics\",\n",
    "    x = \"Predictor LU\",\n",
    "    y = \"Response Length\",\n",
    "    color = \"Outliers\",\n",
    "    shape = \"High Leverage Points\"\n",
    "  )\n",
    "\n",
    "# Print the plot\n",
    "print(p)"
   ]
  },
  {
   "cell_type": "code",
   "execution_count": 86,
   "metadata": {
    "colab": {
     "base_uri": "https://localhost:8080/"
    },
    "id": "hqRnP0IKMj8Y",
    "outputId": "988bbce4-7b07-409f-a376-5cced454dcb9"
   },
   "outputs": [
    {
     "name": "stdout",
     "output_type": "stream",
     "text": [
      "Initial R-squared: 0.9197132 \n",
      "Filtered R-squared: 0.9429187 \n"
     ]
    }
   ],
   "source": [
    "# Filter out outliers and high leverage points\n",
    "filtered_snail <- snail[!(outliers | high_leverage_points), ]\n",
    "\n",
    "# Fit the model again without outliers\n",
    "filtered_mod <- lm(Length ~ AperHt + LU, data = filtered_snail)\n",
    "\n",
    "# Compare R-squared values\n",
    "initial_r2 <- summary(finalmod)$r.squared\n",
    "filtered_r2 <- summary(filtered_mod)$r.squared\n",
    "\n",
    "cat(\"Initial R-squared:\", initial_r2, \"\\n\")\n",
    "cat(\"Filtered R-squared:\", filtered_r2, \"\\n\")\n",
    "\n",
    "# Create diagnostic plot\n",
    "plot_data <- data.frame(\n",
    "  x = snail$LU,\n",
    "  y = snail$Length,\n",
    "  outliers = outliers,\n",
    "  high_leverage_points = high_leverage_points\n",
    ")"
   ]
  }
 ],
 "metadata": {
  "colab": {
   "collapsed_sections": [
    "esugJKu3sS8l",
    "ZZysjbGE-ErU",
    "eRcefMMavEaN",
    "YEUyCyJCK6KD"
   ],
   "provenance": []
  },
  "kernelspec": {
   "display_name": "R",
   "language": "R",
   "name": "ir"
  },
  "language_info": {
   "codemirror_mode": "r",
   "file_extension": ".r",
   "mimetype": "text/x-r-source",
   "name": "R",
   "pygments_lexer": "r",
   "version": "4.4.1"
  }
 },
 "nbformat": 4,
 "nbformat_minor": 4
}
